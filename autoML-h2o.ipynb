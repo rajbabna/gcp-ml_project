{
 "cells": [
  {
   "cell_type": "markdown",
   "id": "3bb503bb-8875-41da-90ea-621cd154a72e",
   "metadata": {},
   "source": [
    "### Import Libraries"
   ]
  },
  {
   "cell_type": "code",
   "execution_count": 1,
   "id": "47147a10-040e-44d4-a3ef-fab889fc7718",
   "metadata": {
    "tags": []
   },
   "outputs": [],
   "source": [
    "import pandas as pd"
   ]
  },
  {
   "cell_type": "markdown",
   "id": "50f8cb8b-d25b-4e7e-a4f8-30c750dc7ef2",
   "metadata": {},
   "source": [
    "### Load the dataset"
   ]
  },
  {
   "cell_type": "code",
   "execution_count": 2,
   "id": "536ec22f-0e3f-4f3e-86ca-33c584a1469e",
   "metadata": {
    "tags": []
   },
   "outputs": [],
   "source": [
    "df = pd.read_csv('./datasets/household_power_consumption.txt', delimiter=';', low_memory=False)"
   ]
  },
  {
   "cell_type": "markdown",
   "id": "59ffd16f-24e8-4c16-afe1-2c5fb445d46f",
   "metadata": {},
   "source": [
    "### Grab time series of electricity usage"
   ]
  },
  {
   "cell_type": "code",
   "execution_count": 3,
   "id": "9085dbc7-8337-4476-9a45-30c28edc2ab0",
   "metadata": {
    "tags": []
   },
   "outputs": [
    {
     "name": "stderr",
     "output_type": "stream",
     "text": [
      "/var/tmp/ipykernel_31756/1437528521.py:1: UserWarning: Parsing dates in %d/%m/%Y %H:%M:%S format when dayfirst=False (the default) was specified. Pass `dayfirst=True` or specify a format to silence this warning.\n",
      "  df['date_time'] = pd.to_datetime(df['Date'] + ' ' + df['Time'])\n"
     ]
    }
   ],
   "source": [
    "df['date_time'] = pd.to_datetime(df['Date'] + ' ' + df['Time'])\n",
    "df['electricity_usage'] = pd.to_numeric(df['Global_active_power'], errors='coerce')\n",
    "df = df[['date_time', 'electricity_usage']].copy()"
   ]
  },
  {
   "cell_type": "markdown",
   "id": "e9879f6f-1609-401c-bc45-baedfa9c54d0",
   "metadata": {},
   "source": [
    "### Set the index as and sort by date and time"
   ]
  },
  {
   "cell_type": "code",
   "execution_count": 4,
   "id": "503d990c-51f5-4de6-85fc-50d1c2ae3196",
   "metadata": {
    "tags": []
   },
   "outputs": [],
   "source": [
    "df = df.set_index('date_time').sort_index()"
   ]
  },
  {
   "cell_type": "markdown",
   "id": "75ff55fe-9362-4856-9089-eabfd084a5c9",
   "metadata": {},
   "source": [
    "### Resample to hourly frequency"
   ]
  },
  {
   "cell_type": "code",
   "execution_count": 5,
   "id": "4d54a72e-7001-4dc2-9425-02f8f10d4f69",
   "metadata": {
    "tags": []
   },
   "outputs": [],
   "source": [
    "df_hour = df.resample('1H').mean()"
   ]
  },
  {
   "cell_type": "markdown",
   "id": "df78b84b-86ca-4648-8141-c368801cc486",
   "metadata": {},
   "source": [
    "### Create shifted time series"
   ]
  },
  {
   "cell_type": "code",
   "execution_count": 6,
   "id": "2148748b-a222-4be3-b81b-1070befcb217",
   "metadata": {
    "tags": []
   },
   "outputs": [],
   "source": [
    "df_hour['electricity_usage'] = df_hour['electricity_usage'].fillna(method='ffill')\n",
    "df_hour['electricity_usage_1hr_lag'] = df_hour['electricity_usage'].shift()\n",
    "df_hour['electricity_usage_2hr_lag'] = df_hour['electricity_usage'].shift(2)\n",
    "df_hour['electricity_usage_3hr_lag'] = df_hour['electricity_usage'].shift(3)\n",
    "df_hour['electricity_usage_4hr_lag'] = df_hour['electricity_usage'].shift(4)\n",
    "df_hour['electricity_usage_5hr_lag'] = df_hour['electricity_usage'].shift(5)\n",
    "df_hour['electricity_usage_6hr_lag'] = df_hour['electricity_usage'].shift(6)\n",
    "df_hour['electricity_usage_7hr_lag'] = df_hour['electricity_usage'].shift(7)\n",
    "df_hour['electricity_usage_8hr_lag'] = df_hour['electricity_usage'].shift(8)"
   ]
  },
  {
   "cell_type": "markdown",
   "id": "5c8844ce-cc6e-4099-b149-73599300533f",
   "metadata": {},
   "source": [
    "### Create month/seasonality as a feature"
   ]
  },
  {
   "cell_type": "code",
   "execution_count": 7,
   "id": "463f08c5-da7a-4beb-b998-a7e58a8f7dde",
   "metadata": {
    "tags": []
   },
   "outputs": [],
   "source": [
    "df_hour['month'] = df_hour.index.month"
   ]
  },
  {
   "cell_type": "markdown",
   "id": "8d5ec608-63b1-4529-b44b-cf284696d2b2",
   "metadata": {},
   "source": [
    "### Drop missing data"
   ]
  },
  {
   "cell_type": "code",
   "execution_count": 8,
   "id": "f0e921ea-d799-494d-a94f-7917c8db3b28",
   "metadata": {
    "tags": []
   },
   "outputs": [],
   "source": [
    "df_hour = df_hour.dropna()"
   ]
  },
  {
   "cell_type": "markdown",
   "id": "08204096-435e-4ecb-9ef6-06a88b12d0c8",
   "metadata": {},
   "source": [
    "### Split train test sets"
   ]
  },
  {
   "cell_type": "code",
   "execution_count": 9,
   "id": "6e91bc08-7faa-4112-a288-8ddf94ce0437",
   "metadata": {
    "tags": []
   },
   "outputs": [],
   "source": [
    "sample_size = df_hour.shape[0] - 200\n",
    "df_train = df_hour.iloc[:sample_size].copy()\n",
    "df_test = df_hour.iloc[sample_size:].copy()"
   ]
  },
  {
   "cell_type": "code",
   "execution_count": 10,
   "id": "8d7c34a7-0e43-4681-b5a0-6bbb35f83f3c",
   "metadata": {
    "tags": []
   },
   "outputs": [
    {
     "data": {
      "text/html": [
       "<div>\n",
       "<style scoped>\n",
       "    .dataframe tbody tr th:only-of-type {\n",
       "        vertical-align: middle;\n",
       "    }\n",
       "\n",
       "    .dataframe tbody tr th {\n",
       "        vertical-align: top;\n",
       "    }\n",
       "\n",
       "    .dataframe thead th {\n",
       "        text-align: right;\n",
       "    }\n",
       "</style>\n",
       "<table border=\"1\" class=\"dataframe\">\n",
       "  <thead>\n",
       "    <tr style=\"text-align: right;\">\n",
       "      <th></th>\n",
       "      <th>electricity_usage</th>\n",
       "      <th>electricity_usage_1hr_lag</th>\n",
       "      <th>electricity_usage_2hr_lag</th>\n",
       "      <th>electricity_usage_3hr_lag</th>\n",
       "      <th>electricity_usage_4hr_lag</th>\n",
       "      <th>electricity_usage_5hr_lag</th>\n",
       "      <th>electricity_usage_6hr_lag</th>\n",
       "      <th>electricity_usage_7hr_lag</th>\n",
       "      <th>electricity_usage_8hr_lag</th>\n",
       "      <th>month</th>\n",
       "    </tr>\n",
       "    <tr>\n",
       "      <th>date_time</th>\n",
       "      <th></th>\n",
       "      <th></th>\n",
       "      <th></th>\n",
       "      <th></th>\n",
       "      <th></th>\n",
       "      <th></th>\n",
       "      <th></th>\n",
       "      <th></th>\n",
       "      <th></th>\n",
       "      <th></th>\n",
       "    </tr>\n",
       "  </thead>\n",
       "  <tbody>\n",
       "    <tr>\n",
       "      <th>2006-12-17 01:00:00</th>\n",
       "      <td>3.349400</td>\n",
       "      <td>1.882467</td>\n",
       "      <td>2.061600</td>\n",
       "      <td>2.200133</td>\n",
       "      <td>3.056467</td>\n",
       "      <td>3.268567</td>\n",
       "      <td>3.400233</td>\n",
       "      <td>3.632200</td>\n",
       "      <td>4.222889</td>\n",
       "      <td>12</td>\n",
       "    </tr>\n",
       "    <tr>\n",
       "      <th>2006-12-17 02:00:00</th>\n",
       "      <td>1.587267</td>\n",
       "      <td>3.349400</td>\n",
       "      <td>1.882467</td>\n",
       "      <td>2.061600</td>\n",
       "      <td>2.200133</td>\n",
       "      <td>3.056467</td>\n",
       "      <td>3.268567</td>\n",
       "      <td>3.400233</td>\n",
       "      <td>3.632200</td>\n",
       "      <td>12</td>\n",
       "    </tr>\n",
       "    <tr>\n",
       "      <th>2006-12-17 03:00:00</th>\n",
       "      <td>1.662200</td>\n",
       "      <td>1.587267</td>\n",
       "      <td>3.349400</td>\n",
       "      <td>1.882467</td>\n",
       "      <td>2.061600</td>\n",
       "      <td>2.200133</td>\n",
       "      <td>3.056467</td>\n",
       "      <td>3.268567</td>\n",
       "      <td>3.400233</td>\n",
       "      <td>12</td>\n",
       "    </tr>\n",
       "    <tr>\n",
       "      <th>2006-12-17 04:00:00</th>\n",
       "      <td>2.215767</td>\n",
       "      <td>1.662200</td>\n",
       "      <td>1.587267</td>\n",
       "      <td>3.349400</td>\n",
       "      <td>1.882467</td>\n",
       "      <td>2.061600</td>\n",
       "      <td>2.200133</td>\n",
       "      <td>3.056467</td>\n",
       "      <td>3.268567</td>\n",
       "      <td>12</td>\n",
       "    </tr>\n",
       "    <tr>\n",
       "      <th>2006-12-17 05:00:00</th>\n",
       "      <td>1.996733</td>\n",
       "      <td>2.215767</td>\n",
       "      <td>1.662200</td>\n",
       "      <td>1.587267</td>\n",
       "      <td>3.349400</td>\n",
       "      <td>1.882467</td>\n",
       "      <td>2.061600</td>\n",
       "      <td>2.200133</td>\n",
       "      <td>3.056467</td>\n",
       "      <td>12</td>\n",
       "    </tr>\n",
       "  </tbody>\n",
       "</table>\n",
       "</div>"
      ],
      "text/plain": [
       "                     electricity_usage  electricity_usage_1hr_lag  \\\n",
       "date_time                                                           \n",
       "2006-12-17 01:00:00           3.349400                   1.882467   \n",
       "2006-12-17 02:00:00           1.587267                   3.349400   \n",
       "2006-12-17 03:00:00           1.662200                   1.587267   \n",
       "2006-12-17 04:00:00           2.215767                   1.662200   \n",
       "2006-12-17 05:00:00           1.996733                   2.215767   \n",
       "\n",
       "                     electricity_usage_2hr_lag  electricity_usage_3hr_lag  \\\n",
       "date_time                                                                   \n",
       "2006-12-17 01:00:00                   2.061600                   2.200133   \n",
       "2006-12-17 02:00:00                   1.882467                   2.061600   \n",
       "2006-12-17 03:00:00                   3.349400                   1.882467   \n",
       "2006-12-17 04:00:00                   1.587267                   3.349400   \n",
       "2006-12-17 05:00:00                   1.662200                   1.587267   \n",
       "\n",
       "                     electricity_usage_4hr_lag  electricity_usage_5hr_lag  \\\n",
       "date_time                                                                   \n",
       "2006-12-17 01:00:00                   3.056467                   3.268567   \n",
       "2006-12-17 02:00:00                   2.200133                   3.056467   \n",
       "2006-12-17 03:00:00                   2.061600                   2.200133   \n",
       "2006-12-17 04:00:00                   1.882467                   2.061600   \n",
       "2006-12-17 05:00:00                   3.349400                   1.882467   \n",
       "\n",
       "                     electricity_usage_6hr_lag  electricity_usage_7hr_lag  \\\n",
       "date_time                                                                   \n",
       "2006-12-17 01:00:00                   3.400233                   3.632200   \n",
       "2006-12-17 02:00:00                   3.268567                   3.400233   \n",
       "2006-12-17 03:00:00                   3.056467                   3.268567   \n",
       "2006-12-17 04:00:00                   2.200133                   3.056467   \n",
       "2006-12-17 05:00:00                   2.061600                   2.200133   \n",
       "\n",
       "                     electricity_usage_8hr_lag  month  \n",
       "date_time                                              \n",
       "2006-12-17 01:00:00                   4.222889     12  \n",
       "2006-12-17 02:00:00                   3.632200     12  \n",
       "2006-12-17 03:00:00                   3.400233     12  \n",
       "2006-12-17 04:00:00                   3.268567     12  \n",
       "2006-12-17 05:00:00                   3.056467     12  "
      ]
     },
     "execution_count": 10,
     "metadata": {},
     "output_type": "execute_result"
    }
   ],
   "source": [
    "df_train.head()"
   ]
  },
  {
   "cell_type": "markdown",
   "id": "715d5953-3267-4a15-97fd-718938b6625e",
   "metadata": {},
   "source": [
    "<hr>"
   ]
  },
  {
   "cell_type": "markdown",
   "id": "32121495-5e61-4b50-b614-64cb576cb86a",
   "metadata": {},
   "source": [
    "### Install Java depedencies"
   ]
  },
  {
   "cell_type": "code",
   "execution_count": 13,
   "id": "0f796846-4d54-49b4-b98f-50981071163f",
   "metadata": {
    "tags": []
   },
   "outputs": [
    {
     "name": "stdout",
     "output_type": "stream",
     "text": [
      "/bin/bash: line 1: java: command not found\n"
     ]
    }
   ],
   "source": [
    "!java -version"
   ]
  },
  {
   "cell_type": "code",
   "execution_count": 15,
   "id": "a8b3fc18-64f8-453c-aa7b-4224f8d045af",
   "metadata": {
    "tags": []
   },
   "outputs": [],
   "source": [
    "!sudo apt-get install openjdk-11-jre-headless -qq > /dev/null"
   ]
  },
  {
   "cell_type": "code",
   "execution_count": 16,
   "id": "d3e9a2a8-b884-4d52-9d40-a1d659428980",
   "metadata": {
    "tags": []
   },
   "outputs": [],
   "source": [
    "import os\n",
    "os.environ[\"JAVA_HOME\"] = \"/usr/lib/jvm/java-11-openjdk-amd64\"\n",
    "os.environ[\"PATH\"] = os.environ[\"JAVA_HOME\"] + \"/bin:\" + os.environ[\"PATH\"]"
   ]
  },
  {
   "cell_type": "markdown",
   "id": "e77ca651-cbac-4a9b-8f19-a223aad8a708",
   "metadata": {},
   "source": [
    "<hr>"
   ]
  },
  {
   "cell_type": "markdown",
   "id": "ea7b9b9f-a77d-4df7-ba7e-86ea7090160c",
   "metadata": {},
   "source": [
    "### Import H2O"
   ]
  },
  {
   "cell_type": "code",
   "execution_count": 17,
   "id": "af8fbc4a-b0aa-40f5-b8c8-d7b9977a3485",
   "metadata": {
    "tags": []
   },
   "outputs": [
    {
     "name": "stdout",
     "output_type": "stream",
     "text": [
      "Requirement already satisfied: h2o in /opt/conda/lib/python3.10/site-packages (3.44.0.3)\n",
      "Requirement already satisfied: requests in /opt/conda/lib/python3.10/site-packages (from h2o) (2.31.0)\n",
      "Requirement already satisfied: tabulate in /opt/conda/lib/python3.10/site-packages (from h2o) (0.9.0)\n",
      "Requirement already satisfied: charset-normalizer<4,>=2 in /opt/conda/lib/python3.10/site-packages (from requests->h2o) (3.3.2)\n",
      "Requirement already satisfied: idna<4,>=2.5 in /opt/conda/lib/python3.10/site-packages (from requests->h2o) (3.4)\n",
      "Requirement already satisfied: urllib3<3,>=1.21.1 in /opt/conda/lib/python3.10/site-packages (from requests->h2o) (1.26.18)\n",
      "Requirement already satisfied: certifi>=2017.4.17 in /opt/conda/lib/python3.10/site-packages (from requests->h2o) (2023.7.22)\n",
      "Note: you may need to restart the kernel to use updated packages.\n"
     ]
    }
   ],
   "source": [
    "%pip install h2o"
   ]
  },
  {
   "cell_type": "code",
   "execution_count": 18,
   "id": "2c3fae23-f1f7-4443-b149-f9727e764758",
   "metadata": {
    "tags": []
   },
   "outputs": [
    {
     "name": "stdout",
     "output_type": "stream",
     "text": [
      "Checking whether there is an H2O instance running at http://localhost:54321..... not found.\n",
      "Attempting to start a local H2O server...\n",
      "  Java Version: openjdk version \"11.0.21\" 2023-10-17; OpenJDK Runtime Environment (build 11.0.21+9-post-Debian-1deb11u1); OpenJDK 64-Bit Server VM (build 11.0.21+9-post-Debian-1deb11u1, mixed mode, sharing)\n",
      "  Starting server from /opt/conda/lib/python3.10/site-packages/h2o/backend/bin/h2o.jar\n",
      "  Ice root: /var/tmp/tmpl2jg2kcr\n",
      "  JVM stdout: /var/tmp/tmpl2jg2kcr/h2o_jupyter_started_from_python.out\n",
      "  JVM stderr: /var/tmp/tmpl2jg2kcr/h2o_jupyter_started_from_python.err\n",
      "  Server is running at http://127.0.0.1:54321\n",
      "Connecting to H2O server at http://127.0.0.1:54321 ... successful.\n"
     ]
    },
    {
     "data": {
      "text/html": [
       "\n",
       "<style>\n",
       "\n",
       "#h2o-table-1.h2o-container {\n",
       "  overflow-x: auto;\n",
       "}\n",
       "#h2o-table-1 .h2o-table {\n",
       "  /* width: 100%; */\n",
       "  margin-top: 1em;\n",
       "  margin-bottom: 1em;\n",
       "}\n",
       "#h2o-table-1 .h2o-table caption {\n",
       "  white-space: nowrap;\n",
       "  caption-side: top;\n",
       "  text-align: left;\n",
       "  /* margin-left: 1em; */\n",
       "  margin: 0;\n",
       "  font-size: larger;\n",
       "}\n",
       "#h2o-table-1 .h2o-table thead {\n",
       "  white-space: nowrap; \n",
       "  position: sticky;\n",
       "  top: 0;\n",
       "  box-shadow: 0 -1px inset;\n",
       "}\n",
       "#h2o-table-1 .h2o-table tbody {\n",
       "  overflow: auto;\n",
       "}\n",
       "#h2o-table-1 .h2o-table th,\n",
       "#h2o-table-1 .h2o-table td {\n",
       "  text-align: right;\n",
       "  /* border: 1px solid; */\n",
       "}\n",
       "#h2o-table-1 .h2o-table tr:nth-child(even) {\n",
       "  /* background: #F5F5F5 */\n",
       "}\n",
       "\n",
       "</style>      \n",
       "<div id=\"h2o-table-1\" class=\"h2o-container\">\n",
       "  <table class=\"h2o-table\">\n",
       "    <caption></caption>\n",
       "    <thead></thead>\n",
       "    <tbody><tr><td>H2O_cluster_uptime:</td>\n",
       "<td>03 secs</td></tr>\n",
       "<tr><td>H2O_cluster_timezone:</td>\n",
       "<td>Etc/UTC</td></tr>\n",
       "<tr><td>H2O_data_parsing_timezone:</td>\n",
       "<td>UTC</td></tr>\n",
       "<tr><td>H2O_cluster_version:</td>\n",
       "<td>3.44.0.3</td></tr>\n",
       "<tr><td>H2O_cluster_version_age:</td>\n",
       "<td>4 days</td></tr>\n",
       "<tr><td>H2O_cluster_name:</td>\n",
       "<td>H2O_from_python_jupyter_x5gw8z</td></tr>\n",
       "<tr><td>H2O_cluster_total_nodes:</td>\n",
       "<td>1</td></tr>\n",
       "<tr><td>H2O_cluster_free_memory:</td>\n",
       "<td>1.867 Gb</td></tr>\n",
       "<tr><td>H2O_cluster_total_cores:</td>\n",
       "<td>2</td></tr>\n",
       "<tr><td>H2O_cluster_allowed_cores:</td>\n",
       "<td>2</td></tr>\n",
       "<tr><td>H2O_cluster_status:</td>\n",
       "<td>locked, healthy</td></tr>\n",
       "<tr><td>H2O_connection_url:</td>\n",
       "<td>http://127.0.0.1:54321</td></tr>\n",
       "<tr><td>H2O_connection_proxy:</td>\n",
       "<td>{\"http\": null, \"https\": null}</td></tr>\n",
       "<tr><td>H2O_internal_security:</td>\n",
       "<td>False</td></tr>\n",
       "<tr><td>Python_version:</td>\n",
       "<td>3.10.13 final</td></tr></tbody>\n",
       "  </table>\n",
       "</div>\n"
      ],
      "text/plain": [
       "--------------------------  ------------------------------\n",
       "H2O_cluster_uptime:         03 secs\n",
       "H2O_cluster_timezone:       Etc/UTC\n",
       "H2O_data_parsing_timezone:  UTC\n",
       "H2O_cluster_version:        3.44.0.3\n",
       "H2O_cluster_version_age:    4 days\n",
       "H2O_cluster_name:           H2O_from_python_jupyter_x5gw8z\n",
       "H2O_cluster_total_nodes:    1\n",
       "H2O_cluster_free_memory:    1.867 Gb\n",
       "H2O_cluster_total_cores:    2\n",
       "H2O_cluster_allowed_cores:  2\n",
       "H2O_cluster_status:         locked, healthy\n",
       "H2O_connection_url:         http://127.0.0.1:54321\n",
       "H2O_connection_proxy:       {\"http\": null, \"https\": null}\n",
       "H2O_internal_security:      False\n",
       "Python_version:             3.10.13 final\n",
       "--------------------------  ------------------------------"
      ]
     },
     "metadata": {},
     "output_type": "display_data"
    }
   ],
   "source": [
    "import h2o\n",
    "from h2o.automl import H2OAutoML\n",
    "h2o.init()"
   ]
  },
  {
   "cell_type": "markdown",
   "id": "cb461ab4-7e64-434a-bb43-eab19e72455f",
   "metadata": {},
   "source": [
    "### Convert pandas dataframe to h2o dataframe"
   ]
  },
  {
   "cell_type": "code",
   "execution_count": 19,
   "id": "1dad942f-8f8e-4948-8e23-f0a4252f9b03",
   "metadata": {
    "tags": []
   },
   "outputs": [
    {
     "name": "stdout",
     "output_type": "stream",
     "text": [
      "Parse progress: |████████████████████████████████████████████████████████████████| (done) 100%\n"
     ]
    }
   ],
   "source": [
    "h2o_frame = h2o.H2OFrame(df_train)\n",
    "x = h2o_frame.columns\n",
    "y = 'electricity_usage'\n",
    "x.remove(y)"
   ]
  },
  {
   "cell_type": "markdown",
   "id": "a14ae8d2-386b-49c6-b8dd-b4ebb9c5f157",
   "metadata": {},
   "source": [
    "### Automate supervised ML traning model"
   ]
  },
  {
   "cell_type": "code",
   "execution_count": 20,
   "id": "4a44e7ff-1364-4a7e-8cf1-45eb61587df3",
   "metadata": {
    "tags": []
   },
   "outputs": [
    {
     "name": "stdout",
     "output_type": "stream",
     "text": [
      "AutoML progress: |███████████████████████████████████████████████████████████████| (done) 100%\n"
     ]
    },
    {
     "data": {
      "text/html": [
       "<pre style='margin: 1em 0 1em 0;'>Model Details\n",
       "=============\n",
       "H2OStackedEnsembleEstimator : Stacked Ensemble\n",
       "Model Key: StackedEnsemble_AllModels_2_AutoML_1_20231224_170659\n",
       "</pre>\n",
       "<div style='margin: 1em 0 1em 0;'>\n",
       "<style>\n",
       "\n",
       "#h2o-table-2.h2o-container {\n",
       "  overflow-x: auto;\n",
       "}\n",
       "#h2o-table-2 .h2o-table {\n",
       "  /* width: 100%; */\n",
       "  margin-top: 1em;\n",
       "  margin-bottom: 1em;\n",
       "}\n",
       "#h2o-table-2 .h2o-table caption {\n",
       "  white-space: nowrap;\n",
       "  caption-side: top;\n",
       "  text-align: left;\n",
       "  /* margin-left: 1em; */\n",
       "  margin: 0;\n",
       "  font-size: larger;\n",
       "}\n",
       "#h2o-table-2 .h2o-table thead {\n",
       "  white-space: nowrap; \n",
       "  position: sticky;\n",
       "  top: 0;\n",
       "  box-shadow: 0 -1px inset;\n",
       "}\n",
       "#h2o-table-2 .h2o-table tbody {\n",
       "  overflow: auto;\n",
       "}\n",
       "#h2o-table-2 .h2o-table th,\n",
       "#h2o-table-2 .h2o-table td {\n",
       "  text-align: right;\n",
       "  /* border: 1px solid; */\n",
       "}\n",
       "#h2o-table-2 .h2o-table tr:nth-child(even) {\n",
       "  /* background: #F5F5F5 */\n",
       "}\n",
       "\n",
       "</style>      \n",
       "<div id=\"h2o-table-2\" class=\"h2o-container\">\n",
       "  <table class=\"h2o-table\">\n",
       "    <caption>Model Summary for Stacked Ensemble: </caption>\n",
       "    <thead><tr><th>key</th>\n",
       "<th>value</th></tr></thead>\n",
       "    <tbody><tr><td>Stacking strategy</td>\n",
       "<td>cross_validation</td></tr>\n",
       "<tr><td>Number of base models (used / total)</td>\n",
       "<td>9/12</td></tr>\n",
       "<tr><td># GBM base models (used / total)</td>\n",
       "<td>5/5</td></tr>\n",
       "<tr><td># XGBoost base models (used / total)</td>\n",
       "<td>1/3</td></tr>\n",
       "<tr><td># DeepLearning base models (used / total)</td>\n",
       "<td>1/1</td></tr>\n",
       "<tr><td># DRF base models (used / total)</td>\n",
       "<td>2/2</td></tr>\n",
       "<tr><td># GLM base models (used / total)</td>\n",
       "<td>0/1</td></tr>\n",
       "<tr><td>Metalearner algorithm</td>\n",
       "<td>GLM</td></tr>\n",
       "<tr><td>Metalearner fold assignment scheme</td>\n",
       "<td>Random</td></tr>\n",
       "<tr><td>Metalearner nfolds</td>\n",
       "<td>5</td></tr>\n",
       "<tr><td>Metalearner fold_column</td>\n",
       "<td>None</td></tr>\n",
       "<tr><td>Custom metalearner hyperparameters</td>\n",
       "<td>None</td></tr></tbody>\n",
       "  </table>\n",
       "</div>\n",
       "</div>\n",
       "<div style='margin: 1em 0 1em 0;'><pre style='margin: 1em 0 1em 0;'>ModelMetricsRegressionGLM: stackedensemble\n",
       "** Reported on train data. **\n",
       "\n",
       "MSE: 0.24969620455772376\n",
       "RMSE: 0.4996961122099348\n",
       "MAE: 0.344304600848175\n",
       "RMSLE: 0.2097908618415717\n",
       "Mean Residual Deviance: 0.24969620455772376\n",
       "R^2: 0.6816475393085848\n",
       "Null degrees of freedom: 10040\n",
       "Residual degrees of freedom: 10031\n",
       "Null deviance: 7875.619514800118\n",
       "Residual deviance: 2507.1995899641042\n",
       "AIC: 14585.132884051107</pre></div>\n",
       "<div style='margin: 1em 0 1em 0;'><pre style='margin: 1em 0 1em 0;'>ModelMetricsRegressionGLM: stackedensemble\n",
       "** Reported on cross-validation data. **\n",
       "\n",
       "MSE: 0.34512486352881\n",
       "RMSE: 0.5874732875023425\n",
       "MAE: 0.40009856580166364\n",
       "RMSLE: 0.24328670842509897\n",
       "Mean Residual Deviance: 0.34512486352881\n",
       "R^2: 0.5697185222302682\n",
       "Null degrees of freedom: 34380\n",
       "Residual degrees of freedom: 34371\n",
       "Null deviance: 27578.229022273626\n",
       "Residual deviance: 11865.737932984017\n",
       "AIC: 61014.858808287805</pre></div>\n",
       "<div style='margin: 1em 0 1em 0;'>\n",
       "<style>\n",
       "\n",
       "#h2o-table-3.h2o-container {\n",
       "  overflow-x: auto;\n",
       "}\n",
       "#h2o-table-3 .h2o-table {\n",
       "  /* width: 100%; */\n",
       "  margin-top: 1em;\n",
       "  margin-bottom: 1em;\n",
       "}\n",
       "#h2o-table-3 .h2o-table caption {\n",
       "  white-space: nowrap;\n",
       "  caption-side: top;\n",
       "  text-align: left;\n",
       "  /* margin-left: 1em; */\n",
       "  margin: 0;\n",
       "  font-size: larger;\n",
       "}\n",
       "#h2o-table-3 .h2o-table thead {\n",
       "  white-space: nowrap; \n",
       "  position: sticky;\n",
       "  top: 0;\n",
       "  box-shadow: 0 -1px inset;\n",
       "}\n",
       "#h2o-table-3 .h2o-table tbody {\n",
       "  overflow: auto;\n",
       "}\n",
       "#h2o-table-3 .h2o-table th,\n",
       "#h2o-table-3 .h2o-table td {\n",
       "  text-align: right;\n",
       "  /* border: 1px solid; */\n",
       "}\n",
       "#h2o-table-3 .h2o-table tr:nth-child(even) {\n",
       "  /* background: #F5F5F5 */\n",
       "}\n",
       "\n",
       "</style>      \n",
       "<div id=\"h2o-table-3\" class=\"h2o-container\">\n",
       "  <table class=\"h2o-table\">\n",
       "    <caption>Cross-Validation Metrics Summary: </caption>\n",
       "    <thead><tr><th></th>\n",
       "<th>mean</th>\n",
       "<th>sd</th>\n",
       "<th>cv_1_valid</th>\n",
       "<th>cv_2_valid</th>\n",
       "<th>cv_3_valid</th>\n",
       "<th>cv_4_valid</th>\n",
       "<th>cv_5_valid</th></tr></thead>\n",
       "    <tbody><tr><td>mae</td>\n",
       "<td>0.3999794</td>\n",
       "<td>0.0052818</td>\n",
       "<td>0.3944000</td>\n",
       "<td>0.3991094</td>\n",
       "<td>0.4072068</td>\n",
       "<td>0.3959049</td>\n",
       "<td>0.4032758</td></tr>\n",
       "<tr><td>mean_residual_deviance</td>\n",
       "<td>0.3450459</td>\n",
       "<td>0.0133739</td>\n",
       "<td>0.3340833</td>\n",
       "<td>0.3417904</td>\n",
       "<td>0.3627347</td>\n",
       "<td>0.3317834</td>\n",
       "<td>0.3548375</td></tr>\n",
       "<tr><td>mse</td>\n",
       "<td>0.3450459</td>\n",
       "<td>0.0133739</td>\n",
       "<td>0.3340833</td>\n",
       "<td>0.3417904</td>\n",
       "<td>0.3627347</td>\n",
       "<td>0.3317834</td>\n",
       "<td>0.3548375</td></tr>\n",
       "<tr><td>null_deviance</td>\n",
       "<td>5515.646</td>\n",
       "<td>196.55573</td>\n",
       "<td>5396.4067</td>\n",
       "<td>5271.1104</td>\n",
       "<td>5756.058</td>\n",
       "<td>5490.3965</td>\n",
       "<td>5664.2573</td></tr>\n",
       "<tr><td>r2</td>\n",
       "<td>0.5696981</td>\n",
       "<td>0.0115870</td>\n",
       "<td>0.5763528</td>\n",
       "<td>0.5565007</td>\n",
       "<td>0.5604362</td>\n",
       "<td>0.5849454</td>\n",
       "<td>0.5702552</td></tr>\n",
       "<tr><td>residual_deviance</td>\n",
       "<td>2373.043</td>\n",
       "<td>107.41064</td>\n",
       "<td>2285.7976</td>\n",
       "<td>2337.1628</td>\n",
       "<td>2529.7122</td>\n",
       "<td>2278.357</td>\n",
       "<td>2434.1853</td></tr>\n",
       "<tr><td>rmse</td>\n",
       "<td>0.5873182</td>\n",
       "<td>0.0113544</td>\n",
       "<td>0.5779994</td>\n",
       "<td>0.5846284</td>\n",
       "<td>0.6022747</td>\n",
       "<td>0.5760065</td>\n",
       "<td>0.5956824</td></tr>\n",
       "<tr><td>rmsle</td>\n",
       "<td>0.2432535</td>\n",
       "<td>0.0026147</td>\n",
       "<td>0.2407416</td>\n",
       "<td>0.2448604</td>\n",
       "<td>0.2463297</td>\n",
       "<td>0.2403467</td>\n",
       "<td>0.2439892</td></tr></tbody>\n",
       "  </table>\n",
       "</div>\n",
       "</div><pre style=\"font-size: smaller; margin: 1em 0 0 0;\">\n",
       "\n",
       "[tips]\n",
       "Use `model.explain()` to inspect the model.\n",
       "--\n",
       "Use `h2o.display.toggle_user_tips()` to switch on/off this section.</pre>"
      ],
      "text/plain": [
       "Model Details\n",
       "=============\n",
       "H2OStackedEnsembleEstimator : Stacked Ensemble\n",
       "Model Key: StackedEnsemble_AllModels_2_AutoML_1_20231224_170659\n",
       "\n",
       "\n",
       "Model Summary for Stacked Ensemble: \n",
       "key                                        value\n",
       "-----------------------------------------  ----------------\n",
       "Stacking strategy                          cross_validation\n",
       "Number of base models (used / total)       9/12\n",
       "# GBM base models (used / total)           5/5\n",
       "# XGBoost base models (used / total)       1/3\n",
       "# DeepLearning base models (used / total)  1/1\n",
       "# DRF base models (used / total)           2/2\n",
       "# GLM base models (used / total)           0/1\n",
       "Metalearner algorithm                      GLM\n",
       "Metalearner fold assignment scheme         Random\n",
       "Metalearner nfolds                         5\n",
       "Metalearner fold_column\n",
       "Custom metalearner hyperparameters         None\n",
       "\n",
       "ModelMetricsRegressionGLM: stackedensemble\n",
       "** Reported on train data. **\n",
       "\n",
       "MSE: 0.24969620455772376\n",
       "RMSE: 0.4996961122099348\n",
       "MAE: 0.344304600848175\n",
       "RMSLE: 0.2097908618415717\n",
       "Mean Residual Deviance: 0.24969620455772376\n",
       "R^2: 0.6816475393085848\n",
       "Null degrees of freedom: 10040\n",
       "Residual degrees of freedom: 10031\n",
       "Null deviance: 7875.619514800118\n",
       "Residual deviance: 2507.1995899641042\n",
       "AIC: 14585.132884051107\n",
       "\n",
       "ModelMetricsRegressionGLM: stackedensemble\n",
       "** Reported on cross-validation data. **\n",
       "\n",
       "MSE: 0.34512486352881\n",
       "RMSE: 0.5874732875023425\n",
       "MAE: 0.40009856580166364\n",
       "RMSLE: 0.24328670842509897\n",
       "Mean Residual Deviance: 0.34512486352881\n",
       "R^2: 0.5697185222302682\n",
       "Null degrees of freedom: 34380\n",
       "Residual degrees of freedom: 34371\n",
       "Null deviance: 27578.229022273626\n",
       "Residual deviance: 11865.737932984017\n",
       "AIC: 61014.858808287805\n",
       "\n",
       "Cross-Validation Metrics Summary: \n",
       "                        mean      sd          cv_1_valid    cv_2_valid    cv_3_valid    cv_4_valid    cv_5_valid\n",
       "----------------------  --------  ----------  ------------  ------------  ------------  ------------  ------------\n",
       "mae                     0.399979  0.0052818   0.3944        0.399109      0.407207      0.395905      0.403276\n",
       "mean_residual_deviance  0.345046  0.0133739   0.334083      0.34179       0.362735      0.331783      0.354837\n",
       "mse                     0.345046  0.0133739   0.334083      0.34179       0.362735      0.331783      0.354837\n",
       "null_deviance           5515.65   196.556     5396.41       5271.11       5756.06       5490.4        5664.26\n",
       "r2                      0.569698  0.011587    0.576353      0.556501      0.560436      0.584945      0.570255\n",
       "residual_deviance       2373.04   107.411     2285.8        2337.16       2529.71       2278.36       2434.19\n",
       "rmse                    0.587318  0.0113544   0.577999      0.584628      0.602275      0.576006      0.595682\n",
       "rmsle                   0.243254  0.00261466  0.240742      0.24486       0.24633       0.240347      0.243989\n",
       "\n",
       "[tips]\n",
       "Use `model.explain()` to inspect the model.\n",
       "--\n",
       "Use `h2o.display.toggle_user_tips()` to switch on/off this section."
      ]
     },
     "execution_count": 20,
     "metadata": {},
     "output_type": "execute_result"
    }
   ],
   "source": [
    "h2o_automl = H2OAutoML(sort_metric='mse', max_runtime_secs=5*60, seed=666)\n",
    "h2o_automl.train(x=x, y=y, training_frame=h2o_frame)"
   ]
  },
  {
   "cell_type": "markdown",
   "id": "9ba8c74f-25c7-4351-b5da-ecfe45315684",
   "metadata": {},
   "source": [
    "### Print out leader board of ML training models"
   ]
  },
  {
   "cell_type": "code",
   "execution_count": 21,
   "id": "d30e1965-25a6-40e0-ac5e-f1af97d685db",
   "metadata": {
    "tags": []
   },
   "outputs": [
    {
     "data": {
      "text/html": [
       "<table class='dataframe'>\n",
       "<thead>\n",
       "<tr><th>model_id                                               </th><th style=\"text-align: right;\">     mse</th><th style=\"text-align: right;\">    rmse</th><th style=\"text-align: right;\">     mae</th><th style=\"text-align: right;\">   rmsle</th><th style=\"text-align: right;\">  mean_residual_deviance</th><th style=\"text-align: right;\">  training_time_ms</th><th style=\"text-align: right;\">  predict_time_per_row_ms</th><th>algo           </th></tr>\n",
       "</thead>\n",
       "<tbody>\n",
       "<tr><td>StackedEnsemble_AllModels_2_AutoML_1_20231224_170659   </td><td style=\"text-align: right;\">0.345125</td><td style=\"text-align: right;\">0.587473</td><td style=\"text-align: right;\">0.400099</td><td style=\"text-align: right;\">0.243287</td><td style=\"text-align: right;\">                0.345125</td><td style=\"text-align: right;\">              3315</td><td style=\"text-align: right;\">                 0.076976</td><td>StackedEnsemble</td></tr>\n",
       "<tr><td>StackedEnsemble_AllModels_3_AutoML_1_20231224_170659   </td><td style=\"text-align: right;\">0.345141</td><td style=\"text-align: right;\">0.587487</td><td style=\"text-align: right;\">0.399949</td><td style=\"text-align: right;\">0.243279</td><td style=\"text-align: right;\">                0.345141</td><td style=\"text-align: right;\">              1488</td><td style=\"text-align: right;\">                 0.075385</td><td>StackedEnsemble</td></tr>\n",
       "<tr><td>StackedEnsemble_AllModels_1_AutoML_1_20231224_170659   </td><td style=\"text-align: right;\">0.345259</td><td style=\"text-align: right;\">0.587588</td><td style=\"text-align: right;\">0.400264</td><td style=\"text-align: right;\">0.243273</td><td style=\"text-align: right;\">                0.345259</td><td style=\"text-align: right;\">              1037</td><td style=\"text-align: right;\">                 0.075211</td><td>StackedEnsemble</td></tr>\n",
       "<tr><td>StackedEnsemble_BestOfFamily_3_AutoML_1_20231224_170659</td><td style=\"text-align: right;\">0.345702</td><td style=\"text-align: right;\">0.587964</td><td style=\"text-align: right;\">0.400767</td><td style=\"text-align: right;\">0.243609</td><td style=\"text-align: right;\">                0.345702</td><td style=\"text-align: right;\">              1651</td><td style=\"text-align: right;\">                 0.029357</td><td>StackedEnsemble</td></tr>\n",
       "<tr><td>StackedEnsemble_BestOfFamily_2_AutoML_1_20231224_170659</td><td style=\"text-align: right;\">0.346032</td><td style=\"text-align: right;\">0.588245</td><td style=\"text-align: right;\">0.401501</td><td style=\"text-align: right;\">0.2437  </td><td style=\"text-align: right;\">                0.346032</td><td style=\"text-align: right;\">               987</td><td style=\"text-align: right;\">                 0.023514</td><td>StackedEnsemble</td></tr>\n",
       "<tr><td>StackedEnsemble_BestOfFamily_1_AutoML_1_20231224_170659</td><td style=\"text-align: right;\">0.346605</td><td style=\"text-align: right;\">0.588731</td><td style=\"text-align: right;\">0.402424</td><td style=\"text-align: right;\">0.244064</td><td style=\"text-align: right;\">                0.346605</td><td style=\"text-align: right;\">              1010</td><td style=\"text-align: right;\">                 0.019641</td><td>StackedEnsemble</td></tr>\n",
       "<tr><td>GBM_1_AutoML_1_20231224_170659                         </td><td style=\"text-align: right;\">0.346819</td><td style=\"text-align: right;\">0.588913</td><td style=\"text-align: right;\">0.402941</td><td style=\"text-align: right;\">0.244293</td><td style=\"text-align: right;\">                0.346819</td><td style=\"text-align: right;\">              4024</td><td style=\"text-align: right;\">                 0.015863</td><td>GBM            </td></tr>\n",
       "<tr><td>GBM_2_AutoML_1_20231224_170659                         </td><td style=\"text-align: right;\">0.349653</td><td style=\"text-align: right;\">0.591315</td><td style=\"text-align: right;\">0.405638</td><td style=\"text-align: right;\">0.245042</td><td style=\"text-align: right;\">                0.349653</td><td style=\"text-align: right;\">              2477</td><td style=\"text-align: right;\">                 0.011883</td><td>GBM            </td></tr>\n",
       "<tr><td>GBM_5_AutoML_1_20231224_170659                         </td><td style=\"text-align: right;\">0.35    </td><td style=\"text-align: right;\">0.591608</td><td style=\"text-align: right;\">0.406766</td><td style=\"text-align: right;\">0.245693</td><td style=\"text-align: right;\">                0.35    </td><td style=\"text-align: right;\">              1525</td><td style=\"text-align: right;\">                 0.00963 </td><td>GBM            </td></tr>\n",
       "<tr><td>GBM_3_AutoML_1_20231224_170659                         </td><td style=\"text-align: right;\">0.350491</td><td style=\"text-align: right;\">0.592023</td><td style=\"text-align: right;\">0.40581 </td><td style=\"text-align: right;\">0.245423</td><td style=\"text-align: right;\">                0.350491</td><td style=\"text-align: right;\">              1948</td><td style=\"text-align: right;\">                 0.011344</td><td>GBM            </td></tr>\n",
       "</tbody>\n",
       "</table><pre style='font-size: smaller; margin-bottom: 1em;'>[23 rows x 9 columns]</pre>"
      ],
      "text/plain": [
       "model_id                                                      mse      rmse       mae     rmsle    mean_residual_deviance    training_time_ms    predict_time_per_row_ms  algo\n",
       "-------------------------------------------------------  --------  --------  --------  --------  ------------------------  ------------------  -------------------------  ---------------\n",
       "StackedEnsemble_AllModels_2_AutoML_1_20231224_170659     0.345125  0.587473  0.400099  0.243287                  0.345125                3315                   0.076976  StackedEnsemble\n",
       "StackedEnsemble_AllModels_3_AutoML_1_20231224_170659     0.345141  0.587487  0.399949  0.243279                  0.345141                1488                   0.075385  StackedEnsemble\n",
       "StackedEnsemble_AllModels_1_AutoML_1_20231224_170659     0.345259  0.587588  0.400264  0.243273                  0.345259                1037                   0.075211  StackedEnsemble\n",
       "StackedEnsemble_BestOfFamily_3_AutoML_1_20231224_170659  0.345702  0.587964  0.400767  0.243609                  0.345702                1651                   0.029357  StackedEnsemble\n",
       "StackedEnsemble_BestOfFamily_2_AutoML_1_20231224_170659  0.346032  0.588245  0.401501  0.2437                    0.346032                 987                   0.023514  StackedEnsemble\n",
       "StackedEnsemble_BestOfFamily_1_AutoML_1_20231224_170659  0.346605  0.588731  0.402424  0.244064                  0.346605                1010                   0.019641  StackedEnsemble\n",
       "GBM_1_AutoML_1_20231224_170659                           0.346819  0.588913  0.402941  0.244293                  0.346819                4024                   0.015863  GBM\n",
       "GBM_2_AutoML_1_20231224_170659                           0.349653  0.591315  0.405638  0.245042                  0.349653                2477                   0.011883  GBM\n",
       "GBM_5_AutoML_1_20231224_170659                           0.35      0.591608  0.406766  0.245693                  0.35                    1525                   0.00963   GBM\n",
       "GBM_3_AutoML_1_20231224_170659                           0.350491  0.592023  0.40581   0.245423                  0.350491                1948                   0.011344  GBM\n",
       "[23 rows x 9 columns]\n"
      ]
     },
     "execution_count": 21,
     "metadata": {},
     "output_type": "execute_result"
    }
   ],
   "source": [
    "h2o_models = h2o.automl.get_leaderboard(h2o_automl, extra_columns = \"ALL\")\n",
    "h2o_models"
   ]
  },
  {
   "cell_type": "markdown",
   "id": "ceaf70bb-2428-43c4-adbe-f1e74085a4cd",
   "metadata": {},
   "source": [
    "### Metrics from Test datasets"
   ]
  },
  {
   "cell_type": "code",
   "execution_count": 22,
   "id": "d031bd65-d62c-44e3-bd20-e6c59c478b33",
   "metadata": {
    "tags": []
   },
   "outputs": [
    {
     "name": "stdout",
     "output_type": "stream",
     "text": [
      "Parse progress: |████████████████████████████████████████████████████████████████| (done) 100%\n",
      "stackedensemble prediction progress: |███████████████████████████████████████████| (done) 100%\n",
      "Parse progress: |████████████████████████████████████████████████████████████████| (done) 100%\n"
     ]
    },
    {
     "data": {
      "text/plain": [
       "0.35319887700661445"
      ]
     },
     "execution_count": 22,
     "metadata": {},
     "output_type": "execute_result"
    }
   ],
   "source": [
    "from h2o.model.regression import h2o_mean_squared_error\n",
    "\n",
    "h2o_frame_test = h2o.H2OFrame(df_test)\n",
    "\n",
    "y_pred = h2o_automl.predict(h2o_frame_test)\n",
    "y_actual = h2o.H2OFrame(df_test[['electricity_usage']])\n",
    "\n",
    "h2o_mean_squared_error(y_actual, y_pred)"
   ]
  },
  {
   "cell_type": "markdown",
   "id": "e71d811b-cbcb-443d-8021-f889a4cb30eb",
   "metadata": {},
   "source": [
    "### Predicted v/s Actual data"
   ]
  },
  {
   "cell_type": "code",
   "execution_count": 23,
   "id": "ef456c93-b7af-413b-a1f9-4bd66680657e",
   "metadata": {
    "tags": []
   },
   "outputs": [
    {
     "name": "stderr",
     "output_type": "stream",
     "text": [
      "/opt/conda/lib/python3.10/site-packages/h2o/frame.py:1979: H2ODependencyWarning: converting H2O frame to pandas dataframe using single-thread.  For faster conversion using multi-thread, install datatable (for Python 3.9 or lower), or polars and pyarrow (for Python 3.10 or above).\n",
      "  warnings.warn(\"converting H2O frame to pandas dataframe using single-thread.  For faster conversion using\"\n"
     ]
    },
    {
     "data": {
      "text/plain": [
       "<Axes: xlabel='date_time'>"
      ]
     },
     "execution_count": 23,
     "metadata": {},
     "output_type": "execute_result"
    },
    {
     "data": {
      "image/png": "[encoded data removed]",
      "text/plain": [
       "<Figure size 1000x500 with 1 Axes>"
      ]
     },
     "metadata": {},
     "output_type": "display_data"
    }
   ],
   "source": [
    "h2o_compare = pd.DataFrame(data={'actual': df_test['electricity_usage'], 'predicted': y_pred.as_data_frame().to_numpy().ravel()})\n",
    "h2o_compare.plot(figsize=(10, 5))"
   ]
  }
 ],
 "metadata": {
  "environment": {
   "kernel": "conda-root-py",
   "name": "workbench-notebooks.m113",
   "type": "gcloud",
   "uri": "gcr.io/deeplearning-platform-release/workbench-notebooks:m113"
  },
  "kernelspec": {
   "display_name": "Python 3 (ipykernel) (Local)",
   "language": "python",
   "name": "conda-root-py"
  },
  "language_info": {
   "codemirror_mode": {
    "name": "ipython",
    "version": 3
   },
   "file_extension": ".py",
   "mimetype": "text/x-python",
   "name": "python",
   "nbconvert_exporter": "python",
   "pygments_lexer": "ipython3",
   "version": "3.10.13"
  }
 },
 "nbformat": 4,
 "nbformat_minor": 5
}
