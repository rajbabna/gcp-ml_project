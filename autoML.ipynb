{
 "cells": [
  {
   "cell_type": "markdown",
   "id": "3bb503bb-8875-41da-90ea-621cd154a72e",
   "metadata": {},
   "source": [
    "### Import Libraries"
   ]
  },
  {
   "cell_type": "code",
   "execution_count": 12,
   "id": "47147a10-040e-44d4-a3ef-fab889fc7718",
   "metadata": {
    "tags": []
   },
   "outputs": [],
   "source": [
    "import pandas as pd"
   ]
  },
  {
   "cell_type": "markdown",
   "id": "50f8cb8b-d25b-4e7e-a4f8-30c750dc7ef2",
   "metadata": {},
   "source": [
    "### Load the dataset"
   ]
  },
  {
   "cell_type": "code",
   "execution_count": 13,
   "id": "536ec22f-0e3f-4f3e-86ca-33c584a1469e",
   "metadata": {
    "tags": []
   },
   "outputs": [],
   "source": [
    "df = pd.read_csv('./datasets/household_power_consumption.txt', delimiter=';', low_memory=False)"
   ]
  },
  {
   "cell_type": "markdown",
   "id": "59ffd16f-24e8-4c16-afe1-2c5fb445d46f",
   "metadata": {},
   "source": [
    "### Grab time series of electricity usage"
   ]
  },
  {
   "cell_type": "code",
   "execution_count": 14,
   "id": "9085dbc7-8337-4476-9a45-30c28edc2ab0",
   "metadata": {
    "tags": []
   },
   "outputs": [
    {
     "name": "stderr",
     "output_type": "stream",
     "text": [
      "/var/tmp/ipykernel_23559/1437528521.py:1: UserWarning: Parsing dates in %d/%m/%Y %H:%M:%S format when dayfirst=False (the default) was specified. Pass `dayfirst=True` or specify a format to silence this warning.\n",
      "  df['date_time'] = pd.to_datetime(df['Date'] + ' ' + df['Time'])\n"
     ]
    }
   ],
   "source": [
    "df['date_time'] = pd.to_datetime(df['Date'] + ' ' + df['Time'])\n",
    "df['electricity_usage'] = pd.to_numeric(df['Global_active_power'], errors='coerce')\n",
    "df = df[['date_time', 'electricity_usage']].copy()"
   ]
  },
  {
   "cell_type": "markdown",
   "id": "e9879f6f-1609-401c-bc45-baedfa9c54d0",
   "metadata": {},
   "source": [
    "### Set the index as and sort by date and time"
   ]
  },
  {
   "cell_type": "code",
   "execution_count": 15,
   "id": "503d990c-51f5-4de6-85fc-50d1c2ae3196",
   "metadata": {
    "tags": []
   },
   "outputs": [],
   "source": [
    "df = df.set_index('date_time').sort_index()"
   ]
  },
  {
   "cell_type": "markdown",
   "id": "75ff55fe-9362-4856-9089-eabfd084a5c9",
   "metadata": {},
   "source": [
    "### Resample to hourly frequency"
   ]
  },
  {
   "cell_type": "code",
   "execution_count": 16,
   "id": "4d54a72e-7001-4dc2-9425-02f8f10d4f69",
   "metadata": {
    "tags": []
   },
   "outputs": [],
   "source": [
    "df_hour = df.resample('1H').mean()"
   ]
  },
  {
   "cell_type": "markdown",
   "id": "df78b84b-86ca-4648-8141-c368801cc486",
   "metadata": {},
   "source": [
    "### Create shifted time series"
   ]
  },
  {
   "cell_type": "code",
   "execution_count": 17,
   "id": "2148748b-a222-4be3-b81b-1070befcb217",
   "metadata": {
    "tags": []
   },
   "outputs": [],
   "source": [
    "df_hour['electricity_usage'] = df_hour['electricity_usage'].fillna(method='ffill')\n",
    "df_hour['electricity_usage_1hr_lag'] = df_hour['electricity_usage'].shift()\n",
    "df_hour['electricity_usage_2hr_lag'] = df_hour['electricity_usage'].shift(2)\n",
    "df_hour['electricity_usage_3hr_lag'] = df_hour['electricity_usage'].shift(3)\n",
    "df_hour['electricity_usage_4hr_lag'] = df_hour['electricity_usage'].shift(4)\n",
    "df_hour['electricity_usage_5hr_lag'] = df_hour['electricity_usage'].shift(5)\n",
    "df_hour['electricity_usage_6hr_lag'] = df_hour['electricity_usage'].shift(6)\n",
    "df_hour['electricity_usage_7hr_lag'] = df_hour['electricity_usage'].shift(7)\n",
    "df_hour['electricity_usage_8hr_lag'] = df_hour['electricity_usage'].shift(8)"
   ]
  },
  {
   "cell_type": "markdown",
   "id": "5c8844ce-cc6e-4099-b149-73599300533f",
   "metadata": {},
   "source": [
    "### Create month/seasonality as a feature"
   ]
  },
  {
   "cell_type": "code",
   "execution_count": 18,
   "id": "463f08c5-da7a-4beb-b998-a7e58a8f7dde",
   "metadata": {
    "tags": []
   },
   "outputs": [],
   "source": [
    "df_hour['month'] = df_hour.index.month"
   ]
  },
  {
   "cell_type": "markdown",
   "id": "8d5ec608-63b1-4529-b44b-cf284696d2b2",
   "metadata": {},
   "source": [
    "### Drop missing data"
   ]
  },
  {
   "cell_type": "code",
   "execution_count": 19,
   "id": "f0e921ea-d799-494d-a94f-7917c8db3b28",
   "metadata": {
    "tags": []
   },
   "outputs": [],
   "source": [
    "df_hour = df_hour.dropna()"
   ]
  },
  {
   "cell_type": "markdown",
   "id": "08204096-435e-4ecb-9ef6-06a88b12d0c8",
   "metadata": {},
   "source": [
    "### Split train test sets"
   ]
  },
  {
   "cell_type": "code",
   "execution_count": 20,
   "id": "6e91bc08-7faa-4112-a288-8ddf94ce0437",
   "metadata": {
    "tags": []
   },
   "outputs": [],
   "source": [
    "sample_size = df_hour.shape[0] - 200\n",
    "df_train = df_hour.iloc[:sample_size].copy()\n",
    "df_test = df_hour.iloc[sample_size:].copy()"
   ]
  },
  {
   "cell_type": "code",
   "execution_count": 21,
   "id": "8d7c34a7-0e43-4681-b5a0-6bbb35f83f3c",
   "metadata": {
    "tags": []
   },
   "outputs": [
    {
     "data": {
      "text/html": [
       "<div>\n",
       "<style scoped>\n",
       "    .dataframe tbody tr th:only-of-type {\n",
       "        vertical-align: middle;\n",
       "    }\n",
       "\n",
       "    .dataframe tbody tr th {\n",
       "        vertical-align: top;\n",
       "    }\n",
       "\n",
       "    .dataframe thead th {\n",
       "        text-align: right;\n",
       "    }\n",
       "</style>\n",
       "<table border=\"1\" class=\"dataframe\">\n",
       "  <thead>\n",
       "    <tr style=\"text-align: right;\">\n",
       "      <th></th>\n",
       "      <th>electricity_usage</th>\n",
       "      <th>electricity_usage_1hr_lag</th>\n",
       "      <th>electricity_usage_2hr_lag</th>\n",
       "      <th>electricity_usage_3hr_lag</th>\n",
       "      <th>electricity_usage_4hr_lag</th>\n",
       "      <th>electricity_usage_5hr_lag</th>\n",
       "      <th>electricity_usage_6hr_lag</th>\n",
       "      <th>electricity_usage_7hr_lag</th>\n",
       "      <th>electricity_usage_8hr_lag</th>\n",
       "      <th>month</th>\n",
       "    </tr>\n",
       "    <tr>\n",
       "      <th>date_time</th>\n",
       "      <th></th>\n",
       "      <th></th>\n",
       "      <th></th>\n",
       "      <th></th>\n",
       "      <th></th>\n",
       "      <th></th>\n",
       "      <th></th>\n",
       "      <th></th>\n",
       "      <th></th>\n",
       "      <th></th>\n",
       "    </tr>\n",
       "  </thead>\n",
       "  <tbody>\n",
       "    <tr>\n",
       "      <th>2006-12-17 01:00:00</th>\n",
       "      <td>3.349400</td>\n",
       "      <td>1.882467</td>\n",
       "      <td>2.061600</td>\n",
       "      <td>2.200133</td>\n",
       "      <td>3.056467</td>\n",
       "      <td>3.268567</td>\n",
       "      <td>3.400233</td>\n",
       "      <td>3.632200</td>\n",
       "      <td>4.222889</td>\n",
       "      <td>12</td>\n",
       "    </tr>\n",
       "    <tr>\n",
       "      <th>2006-12-17 02:00:00</th>\n",
       "      <td>1.587267</td>\n",
       "      <td>3.349400</td>\n",
       "      <td>1.882467</td>\n",
       "      <td>2.061600</td>\n",
       "      <td>2.200133</td>\n",
       "      <td>3.056467</td>\n",
       "      <td>3.268567</td>\n",
       "      <td>3.400233</td>\n",
       "      <td>3.632200</td>\n",
       "      <td>12</td>\n",
       "    </tr>\n",
       "    <tr>\n",
       "      <th>2006-12-17 03:00:00</th>\n",
       "      <td>1.662200</td>\n",
       "      <td>1.587267</td>\n",
       "      <td>3.349400</td>\n",
       "      <td>1.882467</td>\n",
       "      <td>2.061600</td>\n",
       "      <td>2.200133</td>\n",
       "      <td>3.056467</td>\n",
       "      <td>3.268567</td>\n",
       "      <td>3.400233</td>\n",
       "      <td>12</td>\n",
       "    </tr>\n",
       "    <tr>\n",
       "      <th>2006-12-17 04:00:00</th>\n",
       "      <td>2.215767</td>\n",
       "      <td>1.662200</td>\n",
       "      <td>1.587267</td>\n",
       "      <td>3.349400</td>\n",
       "      <td>1.882467</td>\n",
       "      <td>2.061600</td>\n",
       "      <td>2.200133</td>\n",
       "      <td>3.056467</td>\n",
       "      <td>3.268567</td>\n",
       "      <td>12</td>\n",
       "    </tr>\n",
       "    <tr>\n",
       "      <th>2006-12-17 05:00:00</th>\n",
       "      <td>1.996733</td>\n",
       "      <td>2.215767</td>\n",
       "      <td>1.662200</td>\n",
       "      <td>1.587267</td>\n",
       "      <td>3.349400</td>\n",
       "      <td>1.882467</td>\n",
       "      <td>2.061600</td>\n",
       "      <td>2.200133</td>\n",
       "      <td>3.056467</td>\n",
       "      <td>12</td>\n",
       "    </tr>\n",
       "  </tbody>\n",
       "</table>\n",
       "</div>"
      ],
      "text/plain": [
       "                     electricity_usage  electricity_usage_1hr_lag  \\\n",
       "date_time                                                           \n",
       "2006-12-17 01:00:00           3.349400                   1.882467   \n",
       "2006-12-17 02:00:00           1.587267                   3.349400   \n",
       "2006-12-17 03:00:00           1.662200                   1.587267   \n",
       "2006-12-17 04:00:00           2.215767                   1.662200   \n",
       "2006-12-17 05:00:00           1.996733                   2.215767   \n",
       "\n",
       "                     electricity_usage_2hr_lag  electricity_usage_3hr_lag  \\\n",
       "date_time                                                                   \n",
       "2006-12-17 01:00:00                   2.061600                   2.200133   \n",
       "2006-12-17 02:00:00                   1.882467                   2.061600   \n",
       "2006-12-17 03:00:00                   3.349400                   1.882467   \n",
       "2006-12-17 04:00:00                   1.587267                   3.349400   \n",
       "2006-12-17 05:00:00                   1.662200                   1.587267   \n",
       "\n",
       "                     electricity_usage_4hr_lag  electricity_usage_5hr_lag  \\\n",
       "date_time                                                                   \n",
       "2006-12-17 01:00:00                   3.056467                   3.268567   \n",
       "2006-12-17 02:00:00                   2.200133                   3.056467   \n",
       "2006-12-17 03:00:00                   2.061600                   2.200133   \n",
       "2006-12-17 04:00:00                   1.882467                   2.061600   \n",
       "2006-12-17 05:00:00                   3.349400                   1.882467   \n",
       "\n",
       "                     electricity_usage_6hr_lag  electricity_usage_7hr_lag  \\\n",
       "date_time                                                                   \n",
       "2006-12-17 01:00:00                   3.400233                   3.632200   \n",
       "2006-12-17 02:00:00                   3.268567                   3.400233   \n",
       "2006-12-17 03:00:00                   3.056467                   3.268567   \n",
       "2006-12-17 04:00:00                   2.200133                   3.056467   \n",
       "2006-12-17 05:00:00                   2.061600                   2.200133   \n",
       "\n",
       "                     electricity_usage_8hr_lag  month  \n",
       "date_time                                              \n",
       "2006-12-17 01:00:00                   4.222889     12  \n",
       "2006-12-17 02:00:00                   3.632200     12  \n",
       "2006-12-17 03:00:00                   3.400233     12  \n",
       "2006-12-17 04:00:00                   3.268567     12  \n",
       "2006-12-17 05:00:00                   3.056467     12  "
      ]
     },
     "execution_count": 21,
     "metadata": {},
     "output_type": "execute_result"
    }
   ],
   "source": [
    "df_train.head()"
   ]
  },
  {
   "cell_type": "markdown",
   "id": "715d5953-3267-4a15-97fd-718938b6625e",
   "metadata": {},
   "source": [
    "<hr>"
   ]
  }
 ],
 "metadata": {
  "environment": {
   "kernel": "conda-root-py",
   "name": "workbench-notebooks.m113",
   "type": "gcloud",
   "uri": "gcr.io/deeplearning-platform-release/workbench-notebooks:m113"
  },
  "kernelspec": {
   "display_name": "Python 3 (ipykernel) (Local)",
   "language": "python",
   "name": "conda-root-py"
  },
  "language_info": {
   "codemirror_mode": {
    "name": "ipython",
    "version": 3
   },
   "file_extension": ".py",
   "mimetype": "text/x-python",
   "name": "python",
   "nbconvert_exporter": "python",
   "pygments_lexer": "ipython3",
   "version": "3.10.13"
  }
 },
 "nbformat": 4,
 "nbformat_minor": 5
}
