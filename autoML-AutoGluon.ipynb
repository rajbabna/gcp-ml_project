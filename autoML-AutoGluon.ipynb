{
 "cells": [
  {
   "cell_type": "markdown",
   "id": "3bb503bb-8875-41da-90ea-621cd154a72e",
   "metadata": {},
   "source": [
    "### Import Libraries"
   ]
  },
  {
   "cell_type": "code",
   "execution_count": 1,
   "id": "47147a10-040e-44d4-a3ef-fab889fc7718",
   "metadata": {
    "tags": []
   },
   "outputs": [],
   "source": [
    "import pandas as pd"
   ]
  },
  {
   "cell_type": "markdown",
   "id": "50f8cb8b-d25b-4e7e-a4f8-30c750dc7ef2",
   "metadata": {},
   "source": [
    "### Load the dataset"
   ]
  },
  {
   "cell_type": "code",
   "execution_count": 2,
   "id": "536ec22f-0e3f-4f3e-86ca-33c584a1469e",
   "metadata": {
    "tags": []
   },
   "outputs": [],
   "source": [
    "df = pd.read_csv('./datasets/household_power_consumption.txt', delimiter=';', low_memory=False)"
   ]
  },
  {
   "cell_type": "markdown",
   "id": "59ffd16f-24e8-4c16-afe1-2c5fb445d46f",
   "metadata": {},
   "source": [
    "### Grab time series of electricity usage"
   ]
  },
  {
   "cell_type": "code",
   "execution_count": null,
   "id": "9085dbc7-8337-4476-9a45-30c28edc2ab0",
   "metadata": {
    "tags": []
   },
   "outputs": [],
   "source": [
    "df['date_time'] = pd.to_datetime(df['Date'] + ' ' + df['Time'])\n",
    "df['electricity_usage'] = pd.to_numeric(df['Global_active_power'], errors='coerce')\n",
    "df = df[['date_time', 'electricity_usage']].copy()"
   ]
  },
  {
   "cell_type": "markdown",
   "id": "e9879f6f-1609-401c-bc45-baedfa9c54d0",
   "metadata": {},
   "source": [
    "### Set the index as and sort by date and time"
   ]
  },
  {
   "cell_type": "code",
   "execution_count": null,
   "id": "503d990c-51f5-4de6-85fc-50d1c2ae3196",
   "metadata": {
    "tags": []
   },
   "outputs": [],
   "source": [
    "df = df.set_index('date_time').sort_index()"
   ]
  },
  {
   "cell_type": "markdown",
   "id": "75ff55fe-9362-4856-9089-eabfd084a5c9",
   "metadata": {},
   "source": [
    "### Resample to hourly frequency"
   ]
  },
  {
   "cell_type": "code",
   "execution_count": null,
   "id": "4d54a72e-7001-4dc2-9425-02f8f10d4f69",
   "metadata": {
    "tags": []
   },
   "outputs": [],
   "source": [
    "df_hour = df.resample('1H').mean()"
   ]
  },
  {
   "cell_type": "markdown",
   "id": "df78b84b-86ca-4648-8141-c368801cc486",
   "metadata": {},
   "source": [
    "### Create shifted time series"
   ]
  },
  {
   "cell_type": "code",
   "execution_count": null,
   "id": "2148748b-a222-4be3-b81b-1070befcb217",
   "metadata": {
    "tags": []
   },
   "outputs": [],
   "source": [
    "df_hour['electricity_usage'] = df_hour['electricity_usage'].fillna(method='ffill')\n",
    "df_hour['electricity_usage_1hr_lag'] = df_hour['electricity_usage'].shift()\n",
    "df_hour['electricity_usage_2hr_lag'] = df_hour['electricity_usage'].shift(2)\n",
    "df_hour['electricity_usage_3hr_lag'] = df_hour['electricity_usage'].shift(3)\n",
    "df_hour['electricity_usage_4hr_lag'] = df_hour['electricity_usage'].shift(4)\n",
    "df_hour['electricity_usage_5hr_lag'] = df_hour['electricity_usage'].shift(5)\n",
    "df_hour['electricity_usage_6hr_lag'] = df_hour['electricity_usage'].shift(6)\n",
    "df_hour['electricity_usage_7hr_lag'] = df_hour['electricity_usage'].shift(7)\n",
    "df_hour['electricity_usage_8hr_lag'] = df_hour['electricity_usage'].shift(8)"
   ]
  },
  {
   "cell_type": "markdown",
   "id": "5c8844ce-cc6e-4099-b149-73599300533f",
   "metadata": {},
   "source": [
    "### Create month/seasonality as a feature"
   ]
  },
  {
   "cell_type": "code",
   "execution_count": null,
   "id": "463f08c5-da7a-4beb-b998-a7e58a8f7dde",
   "metadata": {
    "tags": []
   },
   "outputs": [],
   "source": [
    "df_hour['month'] = df_hour.index.month"
   ]
  },
  {
   "cell_type": "markdown",
   "id": "8d5ec608-63b1-4529-b44b-cf284696d2b2",
   "metadata": {},
   "source": [
    "### Drop missing data"
   ]
  },
  {
   "cell_type": "code",
   "execution_count": null,
   "id": "f0e921ea-d799-494d-a94f-7917c8db3b28",
   "metadata": {
    "tags": []
   },
   "outputs": [],
   "source": [
    "df_hour = df_hour.dropna()"
   ]
  },
  {
   "cell_type": "markdown",
   "id": "08204096-435e-4ecb-9ef6-06a88b12d0c8",
   "metadata": {},
   "source": [
    "### Split train test sets"
   ]
  },
  {
   "cell_type": "code",
   "execution_count": null,
   "id": "6e91bc08-7faa-4112-a288-8ddf94ce0437",
   "metadata": {
    "tags": []
   },
   "outputs": [],
   "source": [
    "sample_size = df_hour.shape[0] - 200\n",
    "df_train = df_hour.iloc[:sample_size].copy()\n",
    "df_test = df_hour.iloc[sample_size:].copy()"
   ]
  },
  {
   "cell_type": "code",
   "execution_count": null,
   "id": "8d7c34a7-0e43-4681-b5a0-6bbb35f83f3c",
   "metadata": {
    "tags": []
   },
   "outputs": [],
   "source": [
    "df_train.head()"
   ]
  },
  {
   "cell_type": "markdown",
   "id": "715d5953-3267-4a15-97fd-718938b6625e",
   "metadata": {},
   "source": [
    "<hr>"
   ]
  },
  {
   "cell_type": "markdown",
   "id": "b6405f95-c230-4315-b769-8e77824a5a32",
   "metadata": {},
   "source": [
    "### Installing AutoGluon"
   ]
  },
  {
   "cell_type": "code",
   "execution_count": null,
   "id": "9ed8024b-bc6d-48c2-925c-d9f251ae00d4",
   "metadata": {
    "tags": []
   },
   "outputs": [],
   "source": [
    "!sudo apt-get install -y libopenblas-dev liblapack-dev libblas-dev gfortran"
   ]
  },
  {
   "cell_type": "code",
   "execution_count": null,
   "id": "4679f00e-8392-454e-a4be-37f79648f7ca",
   "metadata": {},
   "outputs": [],
   "source": []
  }
 ],
 "metadata": {
  "environment": {
   "kernel": "conda-root-py",
   "name": "workbench-notebooks.m113",
   "type": "gcloud",
   "uri": "gcr.io/deeplearning-platform-release/workbench-notebooks:m113"
  },
  "kernelspec": {
   "display_name": "Python 3 (ipykernel) (Local)",
   "language": "python",
   "name": "conda-root-py"
  },
  "language_info": {
   "codemirror_mode": {
    "name": "ipython",
    "version": 3
   },
   "file_extension": ".py",
   "mimetype": "text/x-python",
   "name": "python",
   "nbconvert_exporter": "python",
   "pygments_lexer": "ipython3",
   "version": "3.10.13"
  }
 },
 "nbformat": 4,
 "nbformat_minor": 5
}
