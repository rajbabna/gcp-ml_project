{
 "cells": [
  {
   "cell_type": "markdown",
   "id": "3bb503bb-8875-41da-90ea-621cd154a72e",
   "metadata": {},
   "source": [
    "### Import Libraries"
   ]
  },
  {
   "cell_type": "code",
   "execution_count": 18,
   "id": "47147a10-040e-44d4-a3ef-fab889fc7718",
   "metadata": {
    "tags": []
   },
   "outputs": [],
   "source": [
    "import pandas as pd"
   ]
  },
  {
   "cell_type": "markdown",
   "id": "50f8cb8b-d25b-4e7e-a4f8-30c750dc7ef2",
   "metadata": {},
   "source": [
    "### Load the dataset"
   ]
  },
  {
   "cell_type": "code",
   "execution_count": 19,
   "id": "536ec22f-0e3f-4f3e-86ca-33c584a1469e",
   "metadata": {
    "tags": []
   },
   "outputs": [],
   "source": [
    "df = pd.read_csv('./datasets/household_power_consumption.txt', delimiter=';', low_memory=False)"
   ]
  },
  {
   "cell_type": "markdown",
   "id": "59ffd16f-24e8-4c16-afe1-2c5fb445d46f",
   "metadata": {},
   "source": [
    "### Grab time series of electricity usage"
   ]
  },
  {
   "cell_type": "code",
   "execution_count": 20,
   "id": "9085dbc7-8337-4476-9a45-30c28edc2ab0",
   "metadata": {
    "tags": []
   },
   "outputs": [],
   "source": [
    "df['date_time'] = pd.to_datetime(df['Date'] + ' ' + df['Time'])\n",
    "df['electricity_usage'] = pd.to_numeric(df['Global_active_power'], errors='coerce')\n",
    "df = df[['date_time', 'electricity_usage']].copy()"
   ]
  },
  {
   "cell_type": "markdown",
   "id": "e9879f6f-1609-401c-bc45-baedfa9c54d0",
   "metadata": {},
   "source": [
    "### Set the index as and sort by date and time"
   ]
  },
  {
   "cell_type": "code",
   "execution_count": 21,
   "id": "503d990c-51f5-4de6-85fc-50d1c2ae3196",
   "metadata": {
    "tags": []
   },
   "outputs": [],
   "source": [
    "df = df.set_index('date_time').sort_index()"
   ]
  },
  {
   "cell_type": "markdown",
   "id": "75ff55fe-9362-4856-9089-eabfd084a5c9",
   "metadata": {},
   "source": [
    "### Resample to hourly frequency"
   ]
  },
  {
   "cell_type": "code",
   "execution_count": 22,
   "id": "4d54a72e-7001-4dc2-9425-02f8f10d4f69",
   "metadata": {
    "tags": []
   },
   "outputs": [],
   "source": [
    "df_hour = df.resample('1H').mean()"
   ]
  },
  {
   "cell_type": "markdown",
   "id": "df78b84b-86ca-4648-8141-c368801cc486",
   "metadata": {},
   "source": [
    "### Create shifted time series"
   ]
  },
  {
   "cell_type": "code",
   "execution_count": 23,
   "id": "2148748b-a222-4be3-b81b-1070befcb217",
   "metadata": {
    "tags": []
   },
   "outputs": [],
   "source": [
    "df_hour['electricity_usage'] = df_hour['electricity_usage'].fillna(method='ffill')\n",
    "df_hour['electricity_usage_1hr_lag'] = df_hour['electricity_usage'].shift()\n",
    "df_hour['electricity_usage_2hr_lag'] = df_hour['electricity_usage'].shift(2)\n",
    "df_hour['electricity_usage_3hr_lag'] = df_hour['electricity_usage'].shift(3)\n",
    "df_hour['electricity_usage_4hr_lag'] = df_hour['electricity_usage'].shift(4)\n",
    "df_hour['electricity_usage_5hr_lag'] = df_hour['electricity_usage'].shift(5)\n",
    "df_hour['electricity_usage_6hr_lag'] = df_hour['electricity_usage'].shift(6)\n",
    "df_hour['electricity_usage_7hr_lag'] = df_hour['electricity_usage'].shift(7)\n",
    "df_hour['electricity_usage_8hr_lag'] = df_hour['electricity_usage'].shift(8)"
   ]
  },
  {
   "cell_type": "markdown",
   "id": "5c8844ce-cc6e-4099-b149-73599300533f",
   "metadata": {},
   "source": [
    "### Create month/seasonality as a feature"
   ]
  },
  {
   "cell_type": "code",
   "execution_count": 24,
   "id": "463f08c5-da7a-4beb-b998-a7e58a8f7dde",
   "metadata": {
    "tags": []
   },
   "outputs": [],
   "source": [
    "df_hour['month'] = df_hour.index.month"
   ]
  },
  {
   "cell_type": "markdown",
   "id": "8d5ec608-63b1-4529-b44b-cf284696d2b2",
   "metadata": {},
   "source": [
    "### Drop missing data"
   ]
  },
  {
   "cell_type": "code",
   "execution_count": 25,
   "id": "f0e921ea-d799-494d-a94f-7917c8db3b28",
   "metadata": {
    "tags": []
   },
   "outputs": [],
   "source": [
    "df_hour = df_hour.dropna()"
   ]
  },
  {
   "cell_type": "markdown",
   "id": "08204096-435e-4ecb-9ef6-06a88b12d0c8",
   "metadata": {},
   "source": [
    "### Split train test sets"
   ]
  },
  {
   "cell_type": "code",
   "execution_count": 26,
   "id": "6e91bc08-7faa-4112-a288-8ddf94ce0437",
   "metadata": {
    "tags": []
   },
   "outputs": [],
   "source": [
    "sample_size = df_hour.shape[0] - 200\n",
    "df_train = df_hour.iloc[:sample_size].copy()\n",
    "df_test = df_hour.iloc[sample_size:].copy()"
   ]
  },
  {
   "cell_type": "code",
   "execution_count": 27,
   "id": "8d7c34a7-0e43-4681-b5a0-6bbb35f83f3c",
   "metadata": {
    "tags": []
   },
   "outputs": [
    {
     "data": {
      "text/html": [
       "<div>\n",
       "<style scoped>\n",
       "    .dataframe tbody tr th:only-of-type {\n",
       "        vertical-align: middle;\n",
       "    }\n",
       "\n",
       "    .dataframe tbody tr th {\n",
       "        vertical-align: top;\n",
       "    }\n",
       "\n",
       "    .dataframe thead th {\n",
       "        text-align: right;\n",
       "    }\n",
       "</style>\n",
       "<table border=\"1\" class=\"dataframe\">\n",
       "  <thead>\n",
       "    <tr style=\"text-align: right;\">\n",
       "      <th></th>\n",
       "      <th>electricity_usage</th>\n",
       "      <th>electricity_usage_1hr_lag</th>\n",
       "      <th>electricity_usage_2hr_lag</th>\n",
       "      <th>electricity_usage_3hr_lag</th>\n",
       "      <th>electricity_usage_4hr_lag</th>\n",
       "      <th>electricity_usage_5hr_lag</th>\n",
       "      <th>electricity_usage_6hr_lag</th>\n",
       "      <th>electricity_usage_7hr_lag</th>\n",
       "      <th>electricity_usage_8hr_lag</th>\n",
       "      <th>month</th>\n",
       "    </tr>\n",
       "    <tr>\n",
       "      <th>date_time</th>\n",
       "      <th></th>\n",
       "      <th></th>\n",
       "      <th></th>\n",
       "      <th></th>\n",
       "      <th></th>\n",
       "      <th></th>\n",
       "      <th></th>\n",
       "      <th></th>\n",
       "      <th></th>\n",
       "      <th></th>\n",
       "    </tr>\n",
       "  </thead>\n",
       "  <tbody>\n",
       "    <tr>\n",
       "      <th>2006-12-17 01:00:00</th>\n",
       "      <td>3.349400</td>\n",
       "      <td>1.882467</td>\n",
       "      <td>2.061600</td>\n",
       "      <td>2.200133</td>\n",
       "      <td>3.056467</td>\n",
       "      <td>3.268567</td>\n",
       "      <td>3.400233</td>\n",
       "      <td>3.632200</td>\n",
       "      <td>4.222889</td>\n",
       "      <td>12</td>\n",
       "    </tr>\n",
       "    <tr>\n",
       "      <th>2006-12-17 02:00:00</th>\n",
       "      <td>1.587267</td>\n",
       "      <td>3.349400</td>\n",
       "      <td>1.882467</td>\n",
       "      <td>2.061600</td>\n",
       "      <td>2.200133</td>\n",
       "      <td>3.056467</td>\n",
       "      <td>3.268567</td>\n",
       "      <td>3.400233</td>\n",
       "      <td>3.632200</td>\n",
       "      <td>12</td>\n",
       "    </tr>\n",
       "    <tr>\n",
       "      <th>2006-12-17 03:00:00</th>\n",
       "      <td>1.662200</td>\n",
       "      <td>1.587267</td>\n",
       "      <td>3.349400</td>\n",
       "      <td>1.882467</td>\n",
       "      <td>2.061600</td>\n",
       "      <td>2.200133</td>\n",
       "      <td>3.056467</td>\n",
       "      <td>3.268567</td>\n",
       "      <td>3.400233</td>\n",
       "      <td>12</td>\n",
       "    </tr>\n",
       "    <tr>\n",
       "      <th>2006-12-17 04:00:00</th>\n",
       "      <td>2.215767</td>\n",
       "      <td>1.662200</td>\n",
       "      <td>1.587267</td>\n",
       "      <td>3.349400</td>\n",
       "      <td>1.882467</td>\n",
       "      <td>2.061600</td>\n",
       "      <td>2.200133</td>\n",
       "      <td>3.056467</td>\n",
       "      <td>3.268567</td>\n",
       "      <td>12</td>\n",
       "    </tr>\n",
       "    <tr>\n",
       "      <th>2006-12-17 05:00:00</th>\n",
       "      <td>1.996733</td>\n",
       "      <td>2.215767</td>\n",
       "      <td>1.662200</td>\n",
       "      <td>1.587267</td>\n",
       "      <td>3.349400</td>\n",
       "      <td>1.882467</td>\n",
       "      <td>2.061600</td>\n",
       "      <td>2.200133</td>\n",
       "      <td>3.056467</td>\n",
       "      <td>12</td>\n",
       "    </tr>\n",
       "  </tbody>\n",
       "</table>\n",
       "</div>"
      ],
      "text/plain": [
       "                     electricity_usage  electricity_usage_1hr_lag  \\\n",
       "date_time                                                           \n",
       "2006-12-17 01:00:00           3.349400                   1.882467   \n",
       "2006-12-17 02:00:00           1.587267                   3.349400   \n",
       "2006-12-17 03:00:00           1.662200                   1.587267   \n",
       "2006-12-17 04:00:00           2.215767                   1.662200   \n",
       "2006-12-17 05:00:00           1.996733                   2.215767   \n",
       "\n",
       "                     electricity_usage_2hr_lag  electricity_usage_3hr_lag  \\\n",
       "date_time                                                                   \n",
       "2006-12-17 01:00:00                   2.061600                   2.200133   \n",
       "2006-12-17 02:00:00                   1.882467                   2.061600   \n",
       "2006-12-17 03:00:00                   3.349400                   1.882467   \n",
       "2006-12-17 04:00:00                   1.587267                   3.349400   \n",
       "2006-12-17 05:00:00                   1.662200                   1.587267   \n",
       "\n",
       "                     electricity_usage_4hr_lag  electricity_usage_5hr_lag  \\\n",
       "date_time                                                                   \n",
       "2006-12-17 01:00:00                   3.056467                   3.268567   \n",
       "2006-12-17 02:00:00                   2.200133                   3.056467   \n",
       "2006-12-17 03:00:00                   2.061600                   2.200133   \n",
       "2006-12-17 04:00:00                   1.882467                   2.061600   \n",
       "2006-12-17 05:00:00                   3.349400                   1.882467   \n",
       "\n",
       "                     electricity_usage_6hr_lag  electricity_usage_7hr_lag  \\\n",
       "date_time                                                                   \n",
       "2006-12-17 01:00:00                   3.400233                   3.632200   \n",
       "2006-12-17 02:00:00                   3.268567                   3.400233   \n",
       "2006-12-17 03:00:00                   3.056467                   3.268567   \n",
       "2006-12-17 04:00:00                   2.200133                   3.056467   \n",
       "2006-12-17 05:00:00                   2.061600                   2.200133   \n",
       "\n",
       "                     electricity_usage_8hr_lag  month  \n",
       "date_time                                              \n",
       "2006-12-17 01:00:00                   4.222889     12  \n",
       "2006-12-17 02:00:00                   3.632200     12  \n",
       "2006-12-17 03:00:00                   3.400233     12  \n",
       "2006-12-17 04:00:00                   3.268567     12  \n",
       "2006-12-17 05:00:00                   3.056467     12  "
      ]
     },
     "execution_count": 27,
     "metadata": {},
     "output_type": "execute_result"
    }
   ],
   "source": [
    "df_train.head()"
   ]
  },
  {
   "cell_type": "markdown",
   "id": "715d5953-3267-4a15-97fd-718938b6625e",
   "metadata": {},
   "source": [
    "<hr>"
   ]
  },
  {
   "cell_type": "markdown",
   "id": "2e95a957-1288-46ec-b75f-b2959d38a4b4",
   "metadata": {},
   "source": [
    "### Install PyCaret"
   ]
  },
  {
   "cell_type": "code",
   "execution_count": 28,
   "id": "b0392ab6-ec24-4f39-bb09-d8f9ada79235",
   "metadata": {
    "tags": []
   },
   "outputs": [
    {
     "name": "stdout",
     "output_type": "stream",
     "text": [
      "Requirement already satisfied: pycaret in /opt/conda/lib/python3.10/site-packages (3.2.0)\n",
      "Requirement already satisfied: category-encoders>=2.4.0 in /opt/conda/lib/python3.10/site-packages (from pycaret) (2.6.3)\n",
      "Requirement already satisfied: cloudpickle in /opt/conda/lib/python3.10/site-packages (from pycaret) (3.0.0)\n",
      "Requirement already satisfied: deprecation>=2.1.0 in /opt/conda/lib/python3.10/site-packages (from pycaret) (2.1.0)\n",
      "Requirement already satisfied: imbalanced-learn>=0.8.1 in /opt/conda/lib/python3.10/site-packages (from pycaret) (0.11.0)\n",
      "Requirement already satisfied: importlib-metadata>=4.12.0 in /opt/conda/lib/python3.10/site-packages (from pycaret) (6.8.0)\n",
      "Requirement already satisfied: ipython>=5.5.0 in /opt/conda/lib/python3.10/site-packages (from pycaret) (8.17.2)\n",
      "Requirement already satisfied: ipywidgets>=7.6.5 in /opt/conda/lib/python3.10/site-packages (from pycaret) (8.1.1)\n",
      "Requirement already satisfied: jinja2>=1.2 in /opt/conda/lib/python3.10/site-packages (from pycaret) (3.1.2)\n",
      "Requirement already satisfied: joblib>=1.2.0 in /opt/conda/lib/python3.10/site-packages (from pycaret) (1.3.2)\n",
      "Requirement already satisfied: kaleido>=0.2.1 in /opt/conda/lib/python3.10/site-packages (from pycaret) (0.2.1)\n",
      "Requirement already satisfied: lightgbm>=3.0.0 in /opt/conda/lib/python3.10/site-packages (from pycaret) (4.2.0)\n",
      "Requirement already satisfied: markupsafe>=2.0.1 in /opt/conda/lib/python3.10/site-packages (from pycaret) (2.1.3)\n",
      "Requirement already satisfied: matplotlib<=3.6,>=3.3.0 in /opt/conda/lib/python3.10/site-packages (from pycaret) (3.6.0)\n",
      "Requirement already satisfied: nbformat>=4.2.0 in /opt/conda/lib/python3.10/site-packages (from pycaret) (5.9.2)\n",
      "Requirement already satisfied: numba>=0.55.0 in /opt/conda/lib/python3.10/site-packages (from pycaret) (0.58.1)\n",
      "Requirement already satisfied: numpy<1.27,>=1.21 in /opt/conda/lib/python3.10/site-packages (from pycaret) (1.25.2)\n",
      "Requirement already satisfied: pandas<2.0.0,>=1.3.0 in /opt/conda/lib/python3.10/site-packages (from pycaret) (1.5.3)\n",
      "Requirement already satisfied: plotly-resampler>=0.8.3.1 in /opt/conda/lib/python3.10/site-packages (from pycaret) (0.9.1)\n",
      "Requirement already satisfied: plotly>=5.0.0 in /opt/conda/lib/python3.10/site-packages (from pycaret) (5.18.0)\n",
      "Requirement already satisfied: pmdarima!=1.8.1,<3.0.0,>=1.8.0 in /opt/conda/lib/python3.10/site-packages (from pycaret) (2.0.4)\n",
      "Requirement already satisfied: psutil>=5.9.0 in /opt/conda/lib/python3.10/site-packages (from pycaret) (5.9.3)\n",
      "Requirement already satisfied: pyod>=1.0.8 in /opt/conda/lib/python3.10/site-packages (from pycaret) (1.1.2)\n",
      "Requirement already satisfied: requests>=2.27.1 in /opt/conda/lib/python3.10/site-packages (from pycaret) (2.31.0)\n",
      "Requirement already satisfied: schemdraw==0.15 in /opt/conda/lib/python3.10/site-packages (from pycaret) (0.15)\n",
      "Requirement already satisfied: scikit-learn<1.3.0,>=1.0 in /opt/conda/lib/python3.10/site-packages (from pycaret) (1.2.2)\n",
      "Requirement already satisfied: scikit-plot>=0.3.7 in /opt/conda/lib/python3.10/site-packages (from pycaret) (0.3.7)\n",
      "Requirement already satisfied: scipy~=1.10.1 in /opt/conda/lib/python3.10/site-packages (from pycaret) (1.10.1)\n",
      "Requirement already satisfied: sktime!=0.17.1,!=0.17.2,!=0.18.0,<0.22.0,>=0.16.1 in /opt/conda/lib/python3.10/site-packages (from pycaret) (0.21.1)\n",
      "Requirement already satisfied: statsmodels>=0.12.1 in /opt/conda/lib/python3.10/site-packages (from pycaret) (0.14.0)\n",
      "Requirement already satisfied: tbats>=1.1.3 in /opt/conda/lib/python3.10/site-packages (from pycaret) (1.1.3)\n",
      "Requirement already satisfied: tqdm>=4.62.0 in /opt/conda/lib/python3.10/site-packages (from pycaret) (4.66.1)\n",
      "Requirement already satisfied: xxhash in /opt/conda/lib/python3.10/site-packages (from pycaret) (3.4.1)\n",
      "Requirement already satisfied: yellowbrick>=1.4 in /opt/conda/lib/python3.10/site-packages (from pycaret) (1.5)\n",
      "Requirement already satisfied: wurlitzer in /opt/conda/lib/python3.10/site-packages (from pycaret) (3.0.3)\n",
      "Requirement already satisfied: patsy>=0.5.1 in /opt/conda/lib/python3.10/site-packages (from category-encoders>=2.4.0->pycaret) (0.5.3)\n",
      "Requirement already satisfied: packaging in /opt/conda/lib/python3.10/site-packages (from deprecation>=2.1.0->pycaret) (23.2)\n",
      "Requirement already satisfied: threadpoolctl>=2.0.0 in /opt/conda/lib/python3.10/site-packages (from imbalanced-learn>=0.8.1->pycaret) (3.2.0)\n",
      "Requirement already satisfied: zipp>=0.5 in /opt/conda/lib/python3.10/site-packages (from importlib-metadata>=4.12.0->pycaret) (3.17.0)\n",
      "Requirement already satisfied: decorator in /opt/conda/lib/python3.10/site-packages (from ipython>=5.5.0->pycaret) (5.1.1)\n",
      "Requirement already satisfied: jedi>=0.16 in /opt/conda/lib/python3.10/site-packages (from ipython>=5.5.0->pycaret) (0.19.1)\n",
      "Requirement already satisfied: matplotlib-inline in /opt/conda/lib/python3.10/site-packages (from ipython>=5.5.0->pycaret) (0.1.6)\n",
      "Requirement already satisfied: prompt-toolkit!=3.0.37,<3.1.0,>=3.0.30 in /opt/conda/lib/python3.10/site-packages (from ipython>=5.5.0->pycaret) (3.0.39)\n",
      "Requirement already satisfied: pygments>=2.4.0 in /opt/conda/lib/python3.10/site-packages (from ipython>=5.5.0->pycaret) (2.16.1)\n",
      "Requirement already satisfied: stack-data in /opt/conda/lib/python3.10/site-packages (from ipython>=5.5.0->pycaret) (0.6.2)\n",
      "Requirement already satisfied: traitlets>=5 in /opt/conda/lib/python3.10/site-packages (from ipython>=5.5.0->pycaret) (5.13.0)\n",
      "Requirement already satisfied: exceptiongroup in /opt/conda/lib/python3.10/site-packages (from ipython>=5.5.0->pycaret) (1.1.3)\n",
      "Requirement already satisfied: pexpect>4.3 in /opt/conda/lib/python3.10/site-packages (from ipython>=5.5.0->pycaret) (4.8.0)\n",
      "Requirement already satisfied: comm>=0.1.3 in /opt/conda/lib/python3.10/site-packages (from ipywidgets>=7.6.5->pycaret) (0.1.4)\n",
      "Requirement already satisfied: widgetsnbextension~=4.0.9 in /opt/conda/lib/python3.10/site-packages (from ipywidgets>=7.6.5->pycaret) (4.0.9)\n",
      "Requirement already satisfied: jupyterlab-widgets~=3.0.9 in /opt/conda/lib/python3.10/site-packages (from ipywidgets>=7.6.5->pycaret) (3.0.9)\n",
      "Requirement already satisfied: contourpy>=1.0.1 in /opt/conda/lib/python3.10/site-packages (from matplotlib<=3.6,>=3.3.0->pycaret) (1.2.0)\n",
      "Requirement already satisfied: cycler>=0.10 in /opt/conda/lib/python3.10/site-packages (from matplotlib<=3.6,>=3.3.0->pycaret) (0.12.1)\n",
      "Requirement already satisfied: fonttools>=4.22.0 in /opt/conda/lib/python3.10/site-packages (from matplotlib<=3.6,>=3.3.0->pycaret) (4.44.0)\n",
      "Requirement already satisfied: kiwisolver>=1.0.1 in /opt/conda/lib/python3.10/site-packages (from matplotlib<=3.6,>=3.3.0->pycaret) (1.4.5)\n",
      "Requirement already satisfied: pillow>=6.2.0 in /opt/conda/lib/python3.10/site-packages (from matplotlib<=3.6,>=3.3.0->pycaret) (10.0.1)\n",
      "Requirement already satisfied: pyparsing>=2.2.1 in /opt/conda/lib/python3.10/site-packages (from matplotlib<=3.6,>=3.3.0->pycaret) (3.1.1)\n",
      "Requirement already satisfied: python-dateutil>=2.7 in /opt/conda/lib/python3.10/site-packages (from matplotlib<=3.6,>=3.3.0->pycaret) (2.8.2)\n",
      "Requirement already satisfied: fastjsonschema in /opt/conda/lib/python3.10/site-packages (from nbformat>=4.2.0->pycaret) (2.18.1)\n",
      "Requirement already satisfied: jsonschema>=2.6 in /opt/conda/lib/python3.10/site-packages (from nbformat>=4.2.0->pycaret) (4.19.2)\n",
      "Requirement already satisfied: jupyter-core in /opt/conda/lib/python3.10/site-packages (from nbformat>=4.2.0->pycaret) (5.5.0)\n",
      "Requirement already satisfied: llvmlite<0.42,>=0.41.0dev0 in /opt/conda/lib/python3.10/site-packages (from numba>=0.55.0->pycaret) (0.41.1)\n",
      "Requirement already satisfied: pytz>=2020.1 in /opt/conda/lib/python3.10/site-packages (from pandas<2.0.0,>=1.3.0->pycaret) (2023.3.post1)\n",
      "Requirement already satisfied: tenacity>=6.2.0 in /opt/conda/lib/python3.10/site-packages (from plotly>=5.0.0->pycaret) (8.2.3)\n",
      "Requirement already satisfied: dash<3.0.0,>=2.11.0 in /opt/conda/lib/python3.10/site-packages (from plotly-resampler>=0.8.3.1->pycaret) (2.14.2)\n",
      "Requirement already satisfied: orjson<4.0.0,>=3.8.0 in /opt/conda/lib/python3.10/site-packages (from plotly-resampler>=0.8.3.1->pycaret) (3.9.10)\n",
      "Requirement already satisfied: trace-updater>=0.0.8 in /opt/conda/lib/python3.10/site-packages (from plotly-resampler>=0.8.3.1->pycaret) (0.0.9.1)\n",
      "Requirement already satisfied: tsdownsample==0.1.2 in /opt/conda/lib/python3.10/site-packages (from plotly-resampler>=0.8.3.1->pycaret) (0.1.2)\n",
      "Requirement already satisfied: Cython!=0.29.18,!=0.29.31,>=0.29 in /opt/conda/lib/python3.10/site-packages (from pmdarima!=1.8.1,<3.0.0,>=1.8.0->pycaret) (3.0.7)\n",
      "Requirement already satisfied: urllib3 in /opt/conda/lib/python3.10/site-packages (from pmdarima!=1.8.1,<3.0.0,>=1.8.0->pycaret) (1.26.18)\n",
      "Requirement already satisfied: setuptools!=50.0.0,>=38.6.0 in /opt/conda/lib/python3.10/site-packages (from pmdarima!=1.8.1,<3.0.0,>=1.8.0->pycaret) (68.2.2)\n",
      "Requirement already satisfied: six in /opt/conda/lib/python3.10/site-packages (from pyod>=1.0.8->pycaret) (1.16.0)\n",
      "Requirement already satisfied: charset-normalizer<4,>=2 in /opt/conda/lib/python3.10/site-packages (from requests>=2.27.1->pycaret) (3.3.2)\n",
      "Requirement already satisfied: idna<4,>=2.5 in /opt/conda/lib/python3.10/site-packages (from requests>=2.27.1->pycaret) (3.4)\n",
      "Requirement already satisfied: certifi>=2017.4.17 in /opt/conda/lib/python3.10/site-packages (from requests>=2.27.1->pycaret) (2023.7.22)\n",
      "Requirement already satisfied: deprecated>=1.2.13 in /opt/conda/lib/python3.10/site-packages (from sktime!=0.17.1,!=0.17.2,!=0.18.0,<0.22.0,>=0.16.1->pycaret) (1.2.14)\n",
      "Requirement already satisfied: scikit-base<0.6.0 in /opt/conda/lib/python3.10/site-packages (from sktime!=0.17.1,!=0.17.2,!=0.18.0,<0.22.0,>=0.16.1->pycaret) (0.5.2)\n",
      "Requirement already satisfied: Flask<3.1,>=1.0.4 in /opt/conda/lib/python3.10/site-packages (from dash<3.0.0,>=2.11.0->plotly-resampler>=0.8.3.1->pycaret) (3.0.0)\n",
      "Requirement already satisfied: Werkzeug<3.1 in /opt/conda/lib/python3.10/site-packages (from dash<3.0.0,>=2.11.0->plotly-resampler>=0.8.3.1->pycaret) (3.0.1)\n",
      "Requirement already satisfied: dash-html-components==2.0.0 in /opt/conda/lib/python3.10/site-packages (from dash<3.0.0,>=2.11.0->plotly-resampler>=0.8.3.1->pycaret) (2.0.0)\n",
      "Requirement already satisfied: dash-core-components==2.0.0 in /opt/conda/lib/python3.10/site-packages (from dash<3.0.0,>=2.11.0->plotly-resampler>=0.8.3.1->pycaret) (2.0.0)\n",
      "Requirement already satisfied: dash-table==5.0.0 in /opt/conda/lib/python3.10/site-packages (from dash<3.0.0,>=2.11.0->plotly-resampler>=0.8.3.1->pycaret) (5.0.0)\n",
      "Requirement already satisfied: typing-extensions>=4.1.1 in /opt/conda/lib/python3.10/site-packages (from dash<3.0.0,>=2.11.0->plotly-resampler>=0.8.3.1->pycaret) (4.8.0)\n",
      "Requirement already satisfied: retrying in /opt/conda/lib/python3.10/site-packages (from dash<3.0.0,>=2.11.0->plotly-resampler>=0.8.3.1->pycaret) (1.3.4)\n",
      "Requirement already satisfied: ansi2html in /opt/conda/lib/python3.10/site-packages (from dash<3.0.0,>=2.11.0->plotly-resampler>=0.8.3.1->pycaret) (1.9.1)\n",
      "Requirement already satisfied: nest-asyncio in /opt/conda/lib/python3.10/site-packages (from dash<3.0.0,>=2.11.0->plotly-resampler>=0.8.3.1->pycaret) (1.5.8)\n",
      "Requirement already satisfied: wrapt<2,>=1.10 in /opt/conda/lib/python3.10/site-packages (from deprecated>=1.2.13->sktime!=0.17.1,!=0.17.2,!=0.18.0,<0.22.0,>=0.16.1->pycaret) (1.15.0)\n",
      "Requirement already satisfied: parso<0.9.0,>=0.8.3 in /opt/conda/lib/python3.10/site-packages (from jedi>=0.16->ipython>=5.5.0->pycaret) (0.8.3)\n",
      "Requirement already satisfied: attrs>=22.2.0 in /opt/conda/lib/python3.10/site-packages (from jsonschema>=2.6->nbformat>=4.2.0->pycaret) (23.1.0)\n",
      "Requirement already satisfied: jsonschema-specifications>=2023.03.6 in /opt/conda/lib/python3.10/site-packages (from jsonschema>=2.6->nbformat>=4.2.0->pycaret) (2023.7.1)\n",
      "Requirement already satisfied: referencing>=0.28.4 in /opt/conda/lib/python3.10/site-packages (from jsonschema>=2.6->nbformat>=4.2.0->pycaret) (0.30.2)\n",
      "Requirement already satisfied: rpds-py>=0.7.1 in /opt/conda/lib/python3.10/site-packages (from jsonschema>=2.6->nbformat>=4.2.0->pycaret) (0.12.0)\n",
      "Requirement already satisfied: ptyprocess>=0.5 in /opt/conda/lib/python3.10/site-packages (from pexpect>4.3->ipython>=5.5.0->pycaret) (0.7.0)\n",
      "Requirement already satisfied: wcwidth in /opt/conda/lib/python3.10/site-packages (from prompt-toolkit!=3.0.37,<3.1.0,>=3.0.30->ipython>=5.5.0->pycaret) (0.2.9)\n",
      "Requirement already satisfied: platformdirs>=2.5 in /opt/conda/lib/python3.10/site-packages (from jupyter-core->nbformat>=4.2.0->pycaret) (3.11.0)\n",
      "Requirement already satisfied: executing>=1.2.0 in /opt/conda/lib/python3.10/site-packages (from stack-data->ipython>=5.5.0->pycaret) (2.0.1)\n",
      "Requirement already satisfied: asttokens>=2.1.0 in /opt/conda/lib/python3.10/site-packages (from stack-data->ipython>=5.5.0->pycaret) (2.4.1)\n",
      "Requirement already satisfied: pure-eval in /opt/conda/lib/python3.10/site-packages (from stack-data->ipython>=5.5.0->pycaret) (0.2.2)\n",
      "Requirement already satisfied: itsdangerous>=2.1.2 in /opt/conda/lib/python3.10/site-packages (from Flask<3.1,>=1.0.4->dash<3.0.0,>=2.11.0->plotly-resampler>=0.8.3.1->pycaret) (2.1.2)\n",
      "Requirement already satisfied: click>=8.1.3 in /opt/conda/lib/python3.10/site-packages (from Flask<3.1,>=1.0.4->dash<3.0.0,>=2.11.0->plotly-resampler>=0.8.3.1->pycaret) (8.1.7)\n",
      "Requirement already satisfied: blinker>=1.6.2 in /opt/conda/lib/python3.10/site-packages (from Flask<3.1,>=1.0.4->dash<3.0.0,>=2.11.0->plotly-resampler>=0.8.3.1->pycaret) (1.7.0)\n"
     ]
    }
   ],
   "source": [
    "!pip install pycaret"
   ]
  },
  {
   "cell_type": "code",
   "execution_count": 29,
   "id": "ab4be465-1b02-4edf-81f3-934b5be27735",
   "metadata": {
    "tags": []
   },
   "outputs": [
    {
     "data": {
      "text/html": [
       "<style type=\"text/css\">\n",
       "#T_a1246_row8_col1 {\n",
       "  background-color: lightgreen;\n",
       "}\n",
       "</style>\n",
       "<table id=\"T_a1246\">\n",
       "  <thead>\n",
       "    <tr>\n",
       "      <th class=\"blank level0\" >&nbsp;</th>\n",
       "      <th id=\"T_a1246_level0_col0\" class=\"col_heading level0 col0\" >Description</th>\n",
       "      <th id=\"T_a1246_level0_col1\" class=\"col_heading level0 col1\" >Value</th>\n",
       "    </tr>\n",
       "  </thead>\n",
       "  <tbody>\n",
       "    <tr>\n",
       "      <th id=\"T_a1246_level0_row0\" class=\"row_heading level0 row0\" >0</th>\n",
       "      <td id=\"T_a1246_row0_col0\" class=\"data row0 col0\" >Session id</td>\n",
       "      <td id=\"T_a1246_row0_col1\" class=\"data row0 col1\" >666</td>\n",
       "    </tr>\n",
       "    <tr>\n",
       "      <th id=\"T_a1246_level0_row1\" class=\"row_heading level0 row1\" >1</th>\n",
       "      <td id=\"T_a1246_row1_col0\" class=\"data row1 col0\" >Target</td>\n",
       "      <td id=\"T_a1246_row1_col1\" class=\"data row1 col1\" >electricity_usage</td>\n",
       "    </tr>\n",
       "    <tr>\n",
       "      <th id=\"T_a1246_level0_row2\" class=\"row_heading level0 row2\" >2</th>\n",
       "      <td id=\"T_a1246_row2_col0\" class=\"data row2 col0\" >Target type</td>\n",
       "      <td id=\"T_a1246_row2_col1\" class=\"data row2 col1\" >Regression</td>\n",
       "    </tr>\n",
       "    <tr>\n",
       "      <th id=\"T_a1246_level0_row3\" class=\"row_heading level0 row3\" >3</th>\n",
       "      <td id=\"T_a1246_row3_col0\" class=\"data row3 col0\" >Original data shape</td>\n",
       "      <td id=\"T_a1246_row3_col1\" class=\"data row3 col1\" >(34381, 10)</td>\n",
       "    </tr>\n",
       "    <tr>\n",
       "      <th id=\"T_a1246_level0_row4\" class=\"row_heading level0 row4\" >4</th>\n",
       "      <td id=\"T_a1246_row4_col0\" class=\"data row4 col0\" >Transformed data shape</td>\n",
       "      <td id=\"T_a1246_row4_col1\" class=\"data row4 col1\" >(34381, 10)</td>\n",
       "    </tr>\n",
       "    <tr>\n",
       "      <th id=\"T_a1246_level0_row5\" class=\"row_heading level0 row5\" >5</th>\n",
       "      <td id=\"T_a1246_row5_col0\" class=\"data row5 col0\" >Transformed train set shape</td>\n",
       "      <td id=\"T_a1246_row5_col1\" class=\"data row5 col1\" >(24066, 10)</td>\n",
       "    </tr>\n",
       "    <tr>\n",
       "      <th id=\"T_a1246_level0_row6\" class=\"row_heading level0 row6\" >6</th>\n",
       "      <td id=\"T_a1246_row6_col0\" class=\"data row6 col0\" >Transformed test set shape</td>\n",
       "      <td id=\"T_a1246_row6_col1\" class=\"data row6 col1\" >(10315, 10)</td>\n",
       "    </tr>\n",
       "    <tr>\n",
       "      <th id=\"T_a1246_level0_row7\" class=\"row_heading level0 row7\" >7</th>\n",
       "      <td id=\"T_a1246_row7_col0\" class=\"data row7 col0\" >Numeric features</td>\n",
       "      <td id=\"T_a1246_row7_col1\" class=\"data row7 col1\" >9</td>\n",
       "    </tr>\n",
       "    <tr>\n",
       "      <th id=\"T_a1246_level0_row8\" class=\"row_heading level0 row8\" >8</th>\n",
       "      <td id=\"T_a1246_row8_col0\" class=\"data row8 col0\" >Preprocess</td>\n",
       "      <td id=\"T_a1246_row8_col1\" class=\"data row8 col1\" >True</td>\n",
       "    </tr>\n",
       "    <tr>\n",
       "      <th id=\"T_a1246_level0_row9\" class=\"row_heading level0 row9\" >9</th>\n",
       "      <td id=\"T_a1246_row9_col0\" class=\"data row9 col0\" >Imputation type</td>\n",
       "      <td id=\"T_a1246_row9_col1\" class=\"data row9 col1\" >simple</td>\n",
       "    </tr>\n",
       "    <tr>\n",
       "      <th id=\"T_a1246_level0_row10\" class=\"row_heading level0 row10\" >10</th>\n",
       "      <td id=\"T_a1246_row10_col0\" class=\"data row10 col0\" >Numeric imputation</td>\n",
       "      <td id=\"T_a1246_row10_col1\" class=\"data row10 col1\" >mean</td>\n",
       "    </tr>\n",
       "    <tr>\n",
       "      <th id=\"T_a1246_level0_row11\" class=\"row_heading level0 row11\" >11</th>\n",
       "      <td id=\"T_a1246_row11_col0\" class=\"data row11 col0\" >Categorical imputation</td>\n",
       "      <td id=\"T_a1246_row11_col1\" class=\"data row11 col1\" >mode</td>\n",
       "    </tr>\n",
       "    <tr>\n",
       "      <th id=\"T_a1246_level0_row12\" class=\"row_heading level0 row12\" >12</th>\n",
       "      <td id=\"T_a1246_row12_col0\" class=\"data row12 col0\" >Fold Generator</td>\n",
       "      <td id=\"T_a1246_row12_col1\" class=\"data row12 col1\" >KFold</td>\n",
       "    </tr>\n",
       "    <tr>\n",
       "      <th id=\"T_a1246_level0_row13\" class=\"row_heading level0 row13\" >13</th>\n",
       "      <td id=\"T_a1246_row13_col0\" class=\"data row13 col0\" >Fold Number</td>\n",
       "      <td id=\"T_a1246_row13_col1\" class=\"data row13 col1\" >10</td>\n",
       "    </tr>\n",
       "    <tr>\n",
       "      <th id=\"T_a1246_level0_row14\" class=\"row_heading level0 row14\" >14</th>\n",
       "      <td id=\"T_a1246_row14_col0\" class=\"data row14 col0\" >CPU Jobs</td>\n",
       "      <td id=\"T_a1246_row14_col1\" class=\"data row14 col1\" >-1</td>\n",
       "    </tr>\n",
       "    <tr>\n",
       "      <th id=\"T_a1246_level0_row15\" class=\"row_heading level0 row15\" >15</th>\n",
       "      <td id=\"T_a1246_row15_col0\" class=\"data row15 col0\" >Use GPU</td>\n",
       "      <td id=\"T_a1246_row15_col1\" class=\"data row15 col1\" >False</td>\n",
       "    </tr>\n",
       "    <tr>\n",
       "      <th id=\"T_a1246_level0_row16\" class=\"row_heading level0 row16\" >16</th>\n",
       "      <td id=\"T_a1246_row16_col0\" class=\"data row16 col0\" >Log Experiment</td>\n",
       "      <td id=\"T_a1246_row16_col1\" class=\"data row16 col1\" >False</td>\n",
       "    </tr>\n",
       "    <tr>\n",
       "      <th id=\"T_a1246_level0_row17\" class=\"row_heading level0 row17\" >17</th>\n",
       "      <td id=\"T_a1246_row17_col0\" class=\"data row17 col0\" >Experiment Name</td>\n",
       "      <td id=\"T_a1246_row17_col1\" class=\"data row17 col1\" >reg-default-name</td>\n",
       "    </tr>\n",
       "    <tr>\n",
       "      <th id=\"T_a1246_level0_row18\" class=\"row_heading level0 row18\" >18</th>\n",
       "      <td id=\"T_a1246_row18_col0\" class=\"data row18 col0\" >USI</td>\n",
       "      <td id=\"T_a1246_row18_col1\" class=\"data row18 col1\" >b72e</td>\n",
       "    </tr>\n",
       "  </tbody>\n",
       "</table>\n"
      ],
      "text/plain": [
       "<pandas.io.formats.style.Styler at 0x7faabee62140>"
      ]
     },
     "metadata": {},
     "output_type": "display_data"
    }
   ],
   "source": [
    "from pycaret.regression import setup, compare_models, predict_model\n",
    "pycaret_automl = setup(data=df_train, target = 'electricity_usage', session_id=666)"
   ]
  },
  {
   "cell_type": "markdown",
   "id": "80773c45-bf3e-4746-a92d-c4277ba113a7",
   "metadata": {},
   "source": [
    "### Evaluate models performance"
   ]
  },
  {
   "cell_type": "code",
   "execution_count": 30,
   "id": "d7ac898d-f92c-4b4b-803e-a4891c6385a7",
   "metadata": {
    "tags": []
   },
   "outputs": [
    {
     "data": {
      "text/html": [],
      "text/plain": [
       "<IPython.core.display.HTML object>"
      ]
     },
     "metadata": {},
     "output_type": "display_data"
    },
    {
     "data": {
      "text/html": [
       "<style type=\"text/css\">\n",
       "#T_248be th {\n",
       "  text-align: left;\n",
       "}\n",
       "#T_248be_row0_col0, #T_248be_row0_col6, #T_248be_row1_col0, #T_248be_row1_col1, #T_248be_row1_col2, #T_248be_row1_col3, #T_248be_row1_col4, #T_248be_row1_col5, #T_248be_row1_col6, #T_248be_row2_col0, #T_248be_row2_col1, #T_248be_row2_col2, #T_248be_row2_col3, #T_248be_row2_col4, #T_248be_row2_col5, #T_248be_row2_col6, #T_248be_row3_col0, #T_248be_row3_col1, #T_248be_row3_col2, #T_248be_row3_col3, #T_248be_row3_col4, #T_248be_row3_col5, #T_248be_row3_col6, #T_248be_row4_col0, #T_248be_row4_col1, #T_248be_row4_col2, #T_248be_row4_col3, #T_248be_row4_col4, #T_248be_row4_col5, #T_248be_row4_col6, #T_248be_row5_col0, #T_248be_row5_col1, #T_248be_row5_col2, #T_248be_row5_col3, #T_248be_row5_col4, #T_248be_row5_col5, #T_248be_row5_col6, #T_248be_row6_col0, #T_248be_row6_col1, #T_248be_row6_col2, #T_248be_row6_col3, #T_248be_row6_col4, #T_248be_row6_col5, #T_248be_row6_col6, #T_248be_row7_col0, #T_248be_row7_col1, #T_248be_row7_col2, #T_248be_row7_col3, #T_248be_row7_col4, #T_248be_row7_col5, #T_248be_row7_col6, #T_248be_row8_col0, #T_248be_row8_col1, #T_248be_row8_col2, #T_248be_row8_col3, #T_248be_row8_col4, #T_248be_row8_col5, #T_248be_row9_col0, #T_248be_row9_col1, #T_248be_row9_col2, #T_248be_row9_col3, #T_248be_row9_col4, #T_248be_row9_col5, #T_248be_row9_col6, #T_248be_row10_col0, #T_248be_row10_col1, #T_248be_row10_col2, #T_248be_row10_col3, #T_248be_row10_col4, #T_248be_row10_col5, #T_248be_row10_col6, #T_248be_row11_col0, #T_248be_row11_col1, #T_248be_row11_col2, #T_248be_row11_col3, #T_248be_row11_col4, #T_248be_row11_col5, #T_248be_row11_col6, #T_248be_row12_col0, #T_248be_row12_col1, #T_248be_row12_col2, #T_248be_row12_col3, #T_248be_row12_col4, #T_248be_row12_col5, #T_248be_row12_col6, #T_248be_row13_col0, #T_248be_row13_col1, #T_248be_row13_col2, #T_248be_row13_col3, #T_248be_row13_col4, #T_248be_row13_col5, #T_248be_row13_col6, #T_248be_row14_col0, #T_248be_row14_col1, #T_248be_row14_col2, #T_248be_row14_col3, #T_248be_row14_col4, #T_248be_row14_col5, #T_248be_row14_col6, #T_248be_row15_col0, #T_248be_row15_col1, #T_248be_row15_col2, #T_248be_row15_col3, #T_248be_row15_col4, #T_248be_row15_col5, #T_248be_row15_col6 {\n",
       "  text-align: left;\n",
       "}\n",
       "#T_248be_row0_col1, #T_248be_row0_col2, #T_248be_row0_col3, #T_248be_row0_col4, #T_248be_row0_col5, #T_248be_row8_col6 {\n",
       "  text-align: left;\n",
       "  background-color: yellow;\n",
       "}\n",
       "#T_248be_row0_col7, #T_248be_row1_col7, #T_248be_row2_col7, #T_248be_row3_col7, #T_248be_row4_col7, #T_248be_row6_col7, #T_248be_row8_col7, #T_248be_row9_col7, #T_248be_row10_col7, #T_248be_row11_col7, #T_248be_row12_col7, #T_248be_row13_col7, #T_248be_row14_col7, #T_248be_row15_col7 {\n",
       "  text-align: left;\n",
       "  background-color: lightgrey;\n",
       "}\n",
       "#T_248be_row5_col7, #T_248be_row7_col7 {\n",
       "  text-align: left;\n",
       "  background-color: yellow;\n",
       "  background-color: lightgrey;\n",
       "}\n",
       "</style>\n",
       "<table id=\"T_248be\">\n",
       "  <thead>\n",
       "    <tr>\n",
       "      <th class=\"blank level0\" >&nbsp;</th>\n",
       "      <th id=\"T_248be_level0_col0\" class=\"col_heading level0 col0\" >Model</th>\n",
       "      <th id=\"T_248be_level0_col1\" class=\"col_heading level0 col1\" >MAE</th>\n",
       "      <th id=\"T_248be_level0_col2\" class=\"col_heading level0 col2\" >MSE</th>\n",
       "      <th id=\"T_248be_level0_col3\" class=\"col_heading level0 col3\" >RMSE</th>\n",
       "      <th id=\"T_248be_level0_col4\" class=\"col_heading level0 col4\" >R2</th>\n",
       "      <th id=\"T_248be_level0_col5\" class=\"col_heading level0 col5\" >RMSLE</th>\n",
       "      <th id=\"T_248be_level0_col6\" class=\"col_heading level0 col6\" >MAPE</th>\n",
       "      <th id=\"T_248be_level0_col7\" class=\"col_heading level0 col7\" >TT (Sec)</th>\n",
       "    </tr>\n",
       "  </thead>\n",
       "  <tbody>\n",
       "    <tr>\n",
       "      <th id=\"T_248be_level0_row0\" class=\"row_heading level0 row0\" >gbr</th>\n",
       "      <td id=\"T_248be_row0_col0\" class=\"data row0 col0\" >Gradient Boosting Regressor</td>\n",
       "      <td id=\"T_248be_row0_col1\" class=\"data row0 col1\" >0.4119</td>\n",
       "      <td id=\"T_248be_row0_col2\" class=\"data row0 col2\" >0.3543</td>\n",
       "      <td id=\"T_248be_row0_col3\" class=\"data row0 col3\" >0.5951</td>\n",
       "      <td id=\"T_248be_row0_col4\" class=\"data row0 col4\" >0.5536</td>\n",
       "      <td id=\"T_248be_row0_col5\" class=\"data row0 col5\" >0.2485</td>\n",
       "      <td id=\"T_248be_row0_col6\" class=\"data row0 col6\" >0.5526</td>\n",
       "      <td id=\"T_248be_row0_col7\" class=\"data row0 col7\" >9.2510</td>\n",
       "    </tr>\n",
       "    <tr>\n",
       "      <th id=\"T_248be_level0_row1\" class=\"row_heading level0 row1\" >rf</th>\n",
       "      <td id=\"T_248be_row1_col0\" class=\"data row1 col0\" >Random Forest Regressor</td>\n",
       "      <td id=\"T_248be_row1_col1\" class=\"data row1 col1\" >0.4133</td>\n",
       "      <td id=\"T_248be_row1_col2\" class=\"data row1 col2\" >0.3586</td>\n",
       "      <td id=\"T_248be_row1_col3\" class=\"data row1 col3\" >0.5987</td>\n",
       "      <td id=\"T_248be_row1_col4\" class=\"data row1 col4\" >0.5481</td>\n",
       "      <td id=\"T_248be_row1_col5\" class=\"data row1 col5\" >0.2503</td>\n",
       "      <td id=\"T_248be_row1_col6\" class=\"data row1 col6\" >0.5576</td>\n",
       "      <td id=\"T_248be_row1_col7\" class=\"data row1 col7\" >19.0110</td>\n",
       "    </tr>\n",
       "    <tr>\n",
       "      <th id=\"T_248be_level0_row2\" class=\"row_heading level0 row2\" >et</th>\n",
       "      <td id=\"T_248be_row2_col0\" class=\"data row2 col0\" >Extra Trees Regressor</td>\n",
       "      <td id=\"T_248be_row2_col1\" class=\"data row2 col1\" >0.4143</td>\n",
       "      <td id=\"T_248be_row2_col2\" class=\"data row2 col2\" >0.3588</td>\n",
       "      <td id=\"T_248be_row2_col3\" class=\"data row2 col3\" >0.5989</td>\n",
       "      <td id=\"T_248be_row2_col4\" class=\"data row2 col4\" >0.5479</td>\n",
       "      <td id=\"T_248be_row2_col5\" class=\"data row2 col5\" >0.2500</td>\n",
       "      <td id=\"T_248be_row2_col6\" class=\"data row2 col6\" >0.5573</td>\n",
       "      <td id=\"T_248be_row2_col7\" class=\"data row2 col7\" >5.7620</td>\n",
       "    </tr>\n",
       "    <tr>\n",
       "      <th id=\"T_248be_level0_row3\" class=\"row_heading level0 row3\" >lr</th>\n",
       "      <td id=\"T_248be_row3_col0\" class=\"data row3 col0\" >Linear Regression</td>\n",
       "      <td id=\"T_248be_row3_col1\" class=\"data row3 col1\" >0.4413</td>\n",
       "      <td id=\"T_248be_row3_col2\" class=\"data row3 col2\" >0.3831</td>\n",
       "      <td id=\"T_248be_row3_col3\" class=\"data row3 col3\" >0.6188</td>\n",
       "      <td id=\"T_248be_row3_col4\" class=\"data row3 col4\" >0.5173</td>\n",
       "      <td id=\"T_248be_row3_col5\" class=\"data row3 col5\" >0.2593</td>\n",
       "      <td id=\"T_248be_row3_col6\" class=\"data row3 col6\" >0.6295</td>\n",
       "      <td id=\"T_248be_row3_col7\" class=\"data row3 col7\" >0.0330</td>\n",
       "    </tr>\n",
       "    <tr>\n",
       "      <th id=\"T_248be_level0_row4\" class=\"row_heading level0 row4\" >ridge</th>\n",
       "      <td id=\"T_248be_row4_col0\" class=\"data row4 col0\" >Ridge Regression</td>\n",
       "      <td id=\"T_248be_row4_col1\" class=\"data row4 col1\" >0.4413</td>\n",
       "      <td id=\"T_248be_row4_col2\" class=\"data row4 col2\" >0.3831</td>\n",
       "      <td id=\"T_248be_row4_col3\" class=\"data row4 col3\" >0.6188</td>\n",
       "      <td id=\"T_248be_row4_col4\" class=\"data row4 col4\" >0.5173</td>\n",
       "      <td id=\"T_248be_row4_col5\" class=\"data row4 col5\" >0.2593</td>\n",
       "      <td id=\"T_248be_row4_col6\" class=\"data row4 col6\" >0.6296</td>\n",
       "      <td id=\"T_248be_row4_col7\" class=\"data row4 col7\" >0.1160</td>\n",
       "    </tr>\n",
       "    <tr>\n",
       "      <th id=\"T_248be_level0_row5\" class=\"row_heading level0 row5\" >br</th>\n",
       "      <td id=\"T_248be_row5_col0\" class=\"data row5 col0\" >Bayesian Ridge</td>\n",
       "      <td id=\"T_248be_row5_col1\" class=\"data row5 col1\" >0.4413</td>\n",
       "      <td id=\"T_248be_row5_col2\" class=\"data row5 col2\" >0.3831</td>\n",
       "      <td id=\"T_248be_row5_col3\" class=\"data row5 col3\" >0.6188</td>\n",
       "      <td id=\"T_248be_row5_col4\" class=\"data row5 col4\" >0.5173</td>\n",
       "      <td id=\"T_248be_row5_col5\" class=\"data row5 col5\" >0.2593</td>\n",
       "      <td id=\"T_248be_row5_col6\" class=\"data row5 col6\" >0.6297</td>\n",
       "      <td id=\"T_248be_row5_col7\" class=\"data row5 col7\" >0.0290</td>\n",
       "    </tr>\n",
       "    <tr>\n",
       "      <th id=\"T_248be_level0_row6\" class=\"row_heading level0 row6\" >lar</th>\n",
       "      <td id=\"T_248be_row6_col0\" class=\"data row6 col0\" >Least Angle Regression</td>\n",
       "      <td id=\"T_248be_row6_col1\" class=\"data row6 col1\" >0.4415</td>\n",
       "      <td id=\"T_248be_row6_col2\" class=\"data row6 col2\" >0.3836</td>\n",
       "      <td id=\"T_248be_row6_col3\" class=\"data row6 col3\" >0.6192</td>\n",
       "      <td id=\"T_248be_row6_col4\" class=\"data row6 col4\" >0.5167</td>\n",
       "      <td id=\"T_248be_row6_col5\" class=\"data row6 col5\" >0.2594</td>\n",
       "      <td id=\"T_248be_row6_col6\" class=\"data row6 col6\" >0.6289</td>\n",
       "      <td id=\"T_248be_row6_col7\" class=\"data row6 col7\" >0.0560</td>\n",
       "    </tr>\n",
       "    <tr>\n",
       "      <th id=\"T_248be_level0_row7\" class=\"row_heading level0 row7\" >omp</th>\n",
       "      <td id=\"T_248be_row7_col0\" class=\"data row7 col0\" >Orthogonal Matching Pursuit</td>\n",
       "      <td id=\"T_248be_row7_col1\" class=\"data row7 col1\" >0.4447</td>\n",
       "      <td id=\"T_248be_row7_col2\" class=\"data row7 col2\" >0.3885</td>\n",
       "      <td id=\"T_248be_row7_col3\" class=\"data row7 col3\" >0.6232</td>\n",
       "      <td id=\"T_248be_row7_col4\" class=\"data row7 col4\" >0.5104</td>\n",
       "      <td id=\"T_248be_row7_col5\" class=\"data row7 col5\" >0.2621</td>\n",
       "      <td id=\"T_248be_row7_col6\" class=\"data row7 col6\" >0.6346</td>\n",
       "      <td id=\"T_248be_row7_col7\" class=\"data row7 col7\" >0.0290</td>\n",
       "    </tr>\n",
       "    <tr>\n",
       "      <th id=\"T_248be_level0_row8\" class=\"row_heading level0 row8\" >huber</th>\n",
       "      <td id=\"T_248be_row8_col0\" class=\"data row8 col0\" >Huber Regressor</td>\n",
       "      <td id=\"T_248be_row8_col1\" class=\"data row8 col1\" >0.4189</td>\n",
       "      <td id=\"T_248be_row8_col2\" class=\"data row8 col2\" >0.3915</td>\n",
       "      <td id=\"T_248be_row8_col3\" class=\"data row8 col3\" >0.6255</td>\n",
       "      <td id=\"T_248be_row8_col4\" class=\"data row8 col4\" >0.5067</td>\n",
       "      <td id=\"T_248be_row8_col5\" class=\"data row8 col5\" >0.2568</td>\n",
       "      <td id=\"T_248be_row8_col6\" class=\"data row8 col6\" >0.4997</td>\n",
       "      <td id=\"T_248be_row8_col7\" class=\"data row8 col7\" >0.1860</td>\n",
       "    </tr>\n",
       "    <tr>\n",
       "      <th id=\"T_248be_level0_row9\" class=\"row_heading level0 row9\" >knn</th>\n",
       "      <td id=\"T_248be_row9_col0\" class=\"data row9 col0\" >K Neighbors Regressor</td>\n",
       "      <td id=\"T_248be_row9_col1\" class=\"data row9 col1\" >0.4557</td>\n",
       "      <td id=\"T_248be_row9_col2\" class=\"data row9 col2\" >0.4281</td>\n",
       "      <td id=\"T_248be_row9_col3\" class=\"data row9 col3\" >0.6542</td>\n",
       "      <td id=\"T_248be_row9_col4\" class=\"data row9 col4\" >0.4605</td>\n",
       "      <td id=\"T_248be_row9_col5\" class=\"data row9 col5\" >0.2772</td>\n",
       "      <td id=\"T_248be_row9_col6\" class=\"data row9 col6\" >0.6093</td>\n",
       "      <td id=\"T_248be_row9_col7\" class=\"data row9 col7\" >0.1960</td>\n",
       "    </tr>\n",
       "    <tr>\n",
       "      <th id=\"T_248be_level0_row10\" class=\"row_heading level0 row10\" >dt</th>\n",
       "      <td id=\"T_248be_row10_col0\" class=\"data row10 col0\" >Decision Tree Regressor</td>\n",
       "      <td id=\"T_248be_row10_col1\" class=\"data row10 col1\" >0.5642</td>\n",
       "      <td id=\"T_248be_row10_col2\" class=\"data row10 col2\" >0.7239</td>\n",
       "      <td id=\"T_248be_row10_col3\" class=\"data row10 col3\" >0.8506</td>\n",
       "      <td id=\"T_248be_row10_col4\" class=\"data row10 col4\" >0.0876</td>\n",
       "      <td id=\"T_248be_row10_col5\" class=\"data row10 col5\" >0.3491</td>\n",
       "      <td id=\"T_248be_row10_col6\" class=\"data row10 col6\" >0.6979</td>\n",
       "      <td id=\"T_248be_row10_col7\" class=\"data row10 col7\" >0.2850</td>\n",
       "    </tr>\n",
       "    <tr>\n",
       "      <th id=\"T_248be_level0_row11\" class=\"row_heading level0 row11\" >en</th>\n",
       "      <td id=\"T_248be_row11_col0\" class=\"data row11 col0\" >Elastic Net</td>\n",
       "      <td id=\"T_248be_row11_col1\" class=\"data row11 col1\" >0.6922</td>\n",
       "      <td id=\"T_248be_row11_col2\" class=\"data row11 col2\" >0.7357</td>\n",
       "      <td id=\"T_248be_row11_col3\" class=\"data row11 col3\" >0.8577</td>\n",
       "      <td id=\"T_248be_row11_col4\" class=\"data row11 col4\" >0.0728</td>\n",
       "      <td id=\"T_248be_row11_col5\" class=\"data row11 col5\" >0.3775</td>\n",
       "      <td id=\"T_248be_row11_col6\" class=\"data row11 col6\" >1.2210</td>\n",
       "      <td id=\"T_248be_row11_col7\" class=\"data row11 col7\" >0.1240</td>\n",
       "    </tr>\n",
       "    <tr>\n",
       "      <th id=\"T_248be_level0_row12\" class=\"row_heading level0 row12\" >ada</th>\n",
       "      <td id=\"T_248be_row12_col0\" class=\"data row12 col0\" >AdaBoost Regressor</td>\n",
       "      <td id=\"T_248be_row12_col1\" class=\"data row12 col1\" >0.7495</td>\n",
       "      <td id=\"T_248be_row12_col2\" class=\"data row12 col2\" >0.7422</td>\n",
       "      <td id=\"T_248be_row12_col3\" class=\"data row12 col3\" >0.8580</td>\n",
       "      <td id=\"T_248be_row12_col4\" class=\"data row12 col4\" >0.0641</td>\n",
       "      <td id=\"T_248be_row12_col5\" class=\"data row12 col5\" >0.4069</td>\n",
       "      <td id=\"T_248be_row12_col6\" class=\"data row12 col6\" >1.5352</td>\n",
       "      <td id=\"T_248be_row12_col7\" class=\"data row12 col7\" >1.9410</td>\n",
       "    </tr>\n",
       "    <tr>\n",
       "      <th id=\"T_248be_level0_row13\" class=\"row_heading level0 row13\" >lasso</th>\n",
       "      <td id=\"T_248be_row13_col0\" class=\"data row13 col0\" >Lasso Regression</td>\n",
       "      <td id=\"T_248be_row13_col1\" class=\"data row13 col1\" >0.7213</td>\n",
       "      <td id=\"T_248be_row13_col2\" class=\"data row13 col2\" >0.7939</td>\n",
       "      <td id=\"T_248be_row13_col3\" class=\"data row13 col3\" >0.8910</td>\n",
       "      <td id=\"T_248be_row13_col4\" class=\"data row13 col4\" >-0.0006</td>\n",
       "      <td id=\"T_248be_row13_col5\" class=\"data row13 col5\" >0.3932</td>\n",
       "      <td id=\"T_248be_row13_col6\" class=\"data row13 col6\" >1.2754</td>\n",
       "      <td id=\"T_248be_row13_col7\" class=\"data row13 col7\" >0.0430</td>\n",
       "    </tr>\n",
       "    <tr>\n",
       "      <th id=\"T_248be_level0_row14\" class=\"row_heading level0 row14\" >llar</th>\n",
       "      <td id=\"T_248be_row14_col0\" class=\"data row14 col0\" >Lasso Least Angle Regression</td>\n",
       "      <td id=\"T_248be_row14_col1\" class=\"data row14 col1\" >0.7213</td>\n",
       "      <td id=\"T_248be_row14_col2\" class=\"data row14 col2\" >0.7939</td>\n",
       "      <td id=\"T_248be_row14_col3\" class=\"data row14 col3\" >0.8910</td>\n",
       "      <td id=\"T_248be_row14_col4\" class=\"data row14 col4\" >-0.0006</td>\n",
       "      <td id=\"T_248be_row14_col5\" class=\"data row14 col5\" >0.3932</td>\n",
       "      <td id=\"T_248be_row14_col6\" class=\"data row14 col6\" >1.2754</td>\n",
       "      <td id=\"T_248be_row14_col7\" class=\"data row14 col7\" >0.0490</td>\n",
       "    </tr>\n",
       "    <tr>\n",
       "      <th id=\"T_248be_level0_row15\" class=\"row_heading level0 row15\" >par</th>\n",
       "      <td id=\"T_248be_row15_col0\" class=\"data row15 col0\" >Passive Aggressive Regressor</td>\n",
       "      <td id=\"T_248be_row15_col1\" class=\"data row15 col1\" >0.7293</td>\n",
       "      <td id=\"T_248be_row15_col2\" class=\"data row15 col2\" >0.8801</td>\n",
       "      <td id=\"T_248be_row15_col3\" class=\"data row15 col3\" >0.9220</td>\n",
       "      <td id=\"T_248be_row15_col4\" class=\"data row15 col4\" >-0.1154</td>\n",
       "      <td id=\"T_248be_row15_col5\" class=\"data row15 col5\" >0.3992</td>\n",
       "      <td id=\"T_248be_row15_col6\" class=\"data row15 col6\" >1.2006</td>\n",
       "      <td id=\"T_248be_row15_col7\" class=\"data row15 col7\" >0.0420</td>\n",
       "    </tr>\n",
       "  </tbody>\n",
       "</table>\n"
      ],
      "text/plain": [
       "<pandas.io.formats.style.Styler at 0x7faab9777790>"
      ]
     },
     "metadata": {},
     "output_type": "display_data"
    },
    {
     "data": {
      "text/html": [],
      "text/plain": [
       "<IPython.core.display.HTML object>"
      ]
     },
     "metadata": {},
     "output_type": "display_data"
    }
   ],
   "source": [
    "pycaret_models = compare_models(sort='MSE', budget_time=5)"
   ]
  },
  {
   "cell_type": "code",
   "execution_count": 31,
   "id": "90bebd02-1a3a-4e33-b0d3-07059472aa6a",
   "metadata": {
    "tags": []
   },
   "outputs": [
    {
     "name": "stdout",
     "output_type": "stream",
     "text": [
      "GradientBoostingRegressor(random_state=666)\n"
     ]
    }
   ],
   "source": [
    "print(pycaret_models)"
   ]
  },
  {
   "cell_type": "markdown",
   "id": "51998cbc-a16b-450e-bfc7-c82a21851698",
   "metadata": {},
   "source": [
    "<hr>"
   ]
  },
  {
   "cell_type": "code",
   "execution_count": 36,
   "id": "7649630b-b594-4053-97f4-2039a7c613a9",
   "metadata": {
    "tags": []
   },
   "outputs": [
    {
     "name": "stdout",
     "output_type": "stream",
     "text": [
      "Index(['electricity_usage_1hr_lag', 'electricity_usage_2hr_lag',\n",
      "       'electricity_usage_3hr_lag', 'electricity_usage_4hr_lag',\n",
      "       'electricity_usage_5hr_lag', 'electricity_usage_6hr_lag',\n",
      "       'electricity_usage_7hr_lag', 'electricity_usage_8hr_lag', 'month',\n",
      "       'electricity_usage', 'prediction_label'],\n",
      "      dtype='object')\n"
     ]
    }
   ],
   "source": [
    "print(predictions.columns)"
   ]
  },
  {
   "cell_type": "markdown",
   "id": "92f0c975-ad96-4c85-a461-4ae6a3b3a2c7",
   "metadata": {},
   "source": [
    "<hr>"
   ]
  },
  {
   "cell_type": "code",
   "execution_count": 37,
   "id": "8c6b2828-6922-4988-8857-2c8847d57642",
   "metadata": {
    "tags": []
   },
   "outputs": [
    {
     "data": {
      "text/html": [
       "<style type=\"text/css\">\n",
       "</style>\n",
       "<table id=\"T_c8230\">\n",
       "  <thead>\n",
       "    <tr>\n",
       "      <th class=\"blank level0\" >&nbsp;</th>\n",
       "      <th id=\"T_c8230_level0_col0\" class=\"col_heading level0 col0\" >Model</th>\n",
       "      <th id=\"T_c8230_level0_col1\" class=\"col_heading level0 col1\" >MAE</th>\n",
       "      <th id=\"T_c8230_level0_col2\" class=\"col_heading level0 col2\" >MSE</th>\n",
       "      <th id=\"T_c8230_level0_col3\" class=\"col_heading level0 col3\" >RMSE</th>\n",
       "      <th id=\"T_c8230_level0_col4\" class=\"col_heading level0 col4\" >R2</th>\n",
       "      <th id=\"T_c8230_level0_col5\" class=\"col_heading level0 col5\" >RMSLE</th>\n",
       "      <th id=\"T_c8230_level0_col6\" class=\"col_heading level0 col6\" >MAPE</th>\n",
       "    </tr>\n",
       "  </thead>\n",
       "  <tbody>\n",
       "    <tr>\n",
       "      <th id=\"T_c8230_level0_row0\" class=\"row_heading level0 row0\" >0</th>\n",
       "      <td id=\"T_c8230_row0_col0\" class=\"data row0 col0\" >Gradient Boosting Regressor</td>\n",
       "      <td id=\"T_c8230_row0_col1\" class=\"data row0 col1\" >0.4174</td>\n",
       "      <td id=\"T_c8230_row0_col2\" class=\"data row0 col2\" >0.3793</td>\n",
       "      <td id=\"T_c8230_row0_col3\" class=\"data row0 col3\" >0.6159</td>\n",
       "      <td id=\"T_c8230_row0_col4\" class=\"data row0 col4\" >0.4438</td>\n",
       "      <td id=\"T_c8230_row0_col5\" class=\"data row0 col5\" >0.2476</td>\n",
       "      <td id=\"T_c8230_row0_col6\" class=\"data row0 col6\" >0.5400</td>\n",
       "    </tr>\n",
       "  </tbody>\n",
       "</table>\n"
      ],
      "text/plain": [
       "<pandas.io.formats.style.Styler at 0x7faab98e4e50>"
      ]
     },
     "metadata": {},
     "output_type": "display_data"
    },
    {
     "data": {
      "text/plain": [
       "0.3792958655534004"
      ]
     },
     "execution_count": 37,
     "metadata": {},
     "output_type": "execute_result"
    }
   ],
   "source": [
    "from sklearn.metrics import mean_squared_error\n",
    "\n",
    "predictions = predict_model(pycaret_models, data=df_test)\n",
    "mean_squared_error(predictions['electricity_usage'], predictions['prediction_label'])"
   ]
  },
  {
   "cell_type": "code",
   "execution_count": 43,
   "id": "ee6d3dad-b1b5-48e4-b6e5-291cc9ce6c5c",
   "metadata": {
    "tags": []
   },
   "outputs": [],
   "source": [
    "x_columns = df.drop(df.columns[-1], axis=1, inplace=True)"
   ]
  },
  {
   "cell_type": "code",
   "execution_count": 47,
   "id": "6434cc49-6a11-4319-9a75-2190d4628f8a",
   "metadata": {
    "tags": []
   },
   "outputs": [],
   "source": [
    "# predictions.plot(x= x_columns, y=['electricity_usage', 'prediction_label'])\n",
    "# plt.show()"
   ]
  },
  {
   "cell_type": "code",
   "execution_count": 48,
   "id": "80809806-072e-4bdc-83a9-9590781a4d41",
   "metadata": {
    "tags": []
   },
   "outputs": [],
   "source": [
    "# predictions[['electricity_usage', 'prediction_label']].plot()"
   ]
  }
 ],
 "metadata": {
  "environment": {
   "kernel": "conda-root-py",
   "name": "workbench-notebooks.m113",
   "type": "gcloud",
   "uri": "gcr.io/deeplearning-platform-release/workbench-notebooks:m113"
  },
  "kernelspec": {
   "display_name": "Python 3 (ipykernel) (Local)",
   "language": "python",
   "name": "conda-root-py"
  },
  "language_info": {
   "codemirror_mode": {
    "name": "ipython",
    "version": 3
   },
   "file_extension": ".py",
   "mimetype": "text/x-python",
   "name": "python",
   "nbconvert_exporter": "python",
   "pygments_lexer": "ipython3",
   "version": "3.10.13"
  }
 },
 "nbformat": 4,
 "nbformat_minor": 5
}
