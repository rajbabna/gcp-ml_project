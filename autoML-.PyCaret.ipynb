{
 "cells": [
  {
   "cell_type": "markdown",
   "id": "3bb503bb-8875-41da-90ea-621cd154a72e",
   "metadata": {},
   "source": [
    "### Import Libraries"
   ]
  },
  {
   "cell_type": "code",
   "execution_count": 23,
   "id": "47147a10-040e-44d4-a3ef-fab889fc7718",
   "metadata": {
    "tags": []
   },
   "outputs": [],
   "source": [
    "import pandas as pd"
   ]
  },
  {
   "cell_type": "markdown",
   "id": "50f8cb8b-d25b-4e7e-a4f8-30c750dc7ef2",
   "metadata": {},
   "source": [
    "### Load the dataset"
   ]
  },
  {
   "cell_type": "code",
   "execution_count": 24,
   "id": "536ec22f-0e3f-4f3e-86ca-33c584a1469e",
   "metadata": {
    "tags": []
   },
   "outputs": [],
   "source": [
    "df = pd.read_csv('./datasets/household_power_consumption.txt', delimiter=';', low_memory=False)"
   ]
  },
  {
   "cell_type": "markdown",
   "id": "59ffd16f-24e8-4c16-afe1-2c5fb445d46f",
   "metadata": {},
   "source": [
    "### Grab time series of electricity usage"
   ]
  },
  {
   "cell_type": "code",
   "execution_count": 25,
   "id": "9085dbc7-8337-4476-9a45-30c28edc2ab0",
   "metadata": {
    "tags": []
   },
   "outputs": [],
   "source": [
    "df['date_time'] = pd.to_datetime(df['Date'] + ' ' + df['Time'])\n",
    "df['electricity_usage'] = pd.to_numeric(df['Global_active_power'], errors='coerce')\n",
    "df = df[['date_time', 'electricity_usage']].copy()"
   ]
  },
  {
   "cell_type": "markdown",
   "id": "e9879f6f-1609-401c-bc45-baedfa9c54d0",
   "metadata": {},
   "source": [
    "### Set the index as and sort by date and time"
   ]
  },
  {
   "cell_type": "code",
   "execution_count": 26,
   "id": "503d990c-51f5-4de6-85fc-50d1c2ae3196",
   "metadata": {
    "tags": []
   },
   "outputs": [],
   "source": [
    "df = df.set_index('date_time').sort_index()"
   ]
  },
  {
   "cell_type": "markdown",
   "id": "75ff55fe-9362-4856-9089-eabfd084a5c9",
   "metadata": {},
   "source": [
    "### Resample to hourly frequency"
   ]
  },
  {
   "cell_type": "code",
   "execution_count": 27,
   "id": "4d54a72e-7001-4dc2-9425-02f8f10d4f69",
   "metadata": {
    "tags": []
   },
   "outputs": [],
   "source": [
    "df_hour = df.resample('1H').mean()"
   ]
  },
  {
   "cell_type": "markdown",
   "id": "df78b84b-86ca-4648-8141-c368801cc486",
   "metadata": {},
   "source": [
    "### Create shifted time series"
   ]
  },
  {
   "cell_type": "code",
   "execution_count": 28,
   "id": "2148748b-a222-4be3-b81b-1070befcb217",
   "metadata": {
    "tags": []
   },
   "outputs": [],
   "source": [
    "df_hour['electricity_usage'] = df_hour['electricity_usage'].fillna(method='ffill')\n",
    "df_hour['electricity_usage_1hr_lag'] = df_hour['electricity_usage'].shift()\n",
    "df_hour['electricity_usage_2hr_lag'] = df_hour['electricity_usage'].shift(2)\n",
    "df_hour['electricity_usage_3hr_lag'] = df_hour['electricity_usage'].shift(3)\n",
    "df_hour['electricity_usage_4hr_lag'] = df_hour['electricity_usage'].shift(4)\n",
    "df_hour['electricity_usage_5hr_lag'] = df_hour['electricity_usage'].shift(5)\n",
    "df_hour['electricity_usage_6hr_lag'] = df_hour['electricity_usage'].shift(6)\n",
    "df_hour['electricity_usage_7hr_lag'] = df_hour['electricity_usage'].shift(7)\n",
    "df_hour['electricity_usage_8hr_lag'] = df_hour['electricity_usage'].shift(8)"
   ]
  },
  {
   "cell_type": "markdown",
   "id": "5c8844ce-cc6e-4099-b149-73599300533f",
   "metadata": {},
   "source": [
    "### Create month/seasonality as a feature"
   ]
  },
  {
   "cell_type": "code",
   "execution_count": 29,
   "id": "463f08c5-da7a-4beb-b998-a7e58a8f7dde",
   "metadata": {
    "tags": []
   },
   "outputs": [],
   "source": [
    "df_hour['month'] = df_hour.index.month"
   ]
  },
  {
   "cell_type": "markdown",
   "id": "8d5ec608-63b1-4529-b44b-cf284696d2b2",
   "metadata": {},
   "source": [
    "### Drop missing data"
   ]
  },
  {
   "cell_type": "code",
   "execution_count": 30,
   "id": "f0e921ea-d799-494d-a94f-7917c8db3b28",
   "metadata": {
    "tags": []
   },
   "outputs": [],
   "source": [
    "df_hour = df_hour.dropna()"
   ]
  },
  {
   "cell_type": "markdown",
   "id": "08204096-435e-4ecb-9ef6-06a88b12d0c8",
   "metadata": {},
   "source": [
    "### Split train test sets"
   ]
  },
  {
   "cell_type": "code",
   "execution_count": 31,
   "id": "6e91bc08-7faa-4112-a288-8ddf94ce0437",
   "metadata": {
    "tags": []
   },
   "outputs": [],
   "source": [
    "sample_size = df_hour.shape[0] - 200\n",
    "df_train = df_hour.iloc[:sample_size].copy()\n",
    "df_test = df_hour.iloc[sample_size:].copy()"
   ]
  },
  {
   "cell_type": "code",
   "execution_count": 32,
   "id": "8d7c34a7-0e43-4681-b5a0-6bbb35f83f3c",
   "metadata": {
    "tags": []
   },
   "outputs": [
    {
     "data": {
      "text/html": [
       "<div>\n",
       "<style scoped>\n",
       "    .dataframe tbody tr th:only-of-type {\n",
       "        vertical-align: middle;\n",
       "    }\n",
       "\n",
       "    .dataframe tbody tr th {\n",
       "        vertical-align: top;\n",
       "    }\n",
       "\n",
       "    .dataframe thead th {\n",
       "        text-align: right;\n",
       "    }\n",
       "</style>\n",
       "<table border=\"1\" class=\"dataframe\">\n",
       "  <thead>\n",
       "    <tr style=\"text-align: right;\">\n",
       "      <th></th>\n",
       "      <th>electricity_usage</th>\n",
       "      <th>electricity_usage_1hr_lag</th>\n",
       "      <th>electricity_usage_2hr_lag</th>\n",
       "      <th>electricity_usage_3hr_lag</th>\n",
       "      <th>electricity_usage_4hr_lag</th>\n",
       "      <th>electricity_usage_5hr_lag</th>\n",
       "      <th>electricity_usage_6hr_lag</th>\n",
       "      <th>electricity_usage_7hr_lag</th>\n",
       "      <th>electricity_usage_8hr_lag</th>\n",
       "      <th>month</th>\n",
       "    </tr>\n",
       "    <tr>\n",
       "      <th>date_time</th>\n",
       "      <th></th>\n",
       "      <th></th>\n",
       "      <th></th>\n",
       "      <th></th>\n",
       "      <th></th>\n",
       "      <th></th>\n",
       "      <th></th>\n",
       "      <th></th>\n",
       "      <th></th>\n",
       "      <th></th>\n",
       "    </tr>\n",
       "  </thead>\n",
       "  <tbody>\n",
       "    <tr>\n",
       "      <th>2006-12-17 01:00:00</th>\n",
       "      <td>3.349400</td>\n",
       "      <td>1.882467</td>\n",
       "      <td>2.061600</td>\n",
       "      <td>2.200133</td>\n",
       "      <td>3.056467</td>\n",
       "      <td>3.268567</td>\n",
       "      <td>3.400233</td>\n",
       "      <td>3.632200</td>\n",
       "      <td>4.222889</td>\n",
       "      <td>12</td>\n",
       "    </tr>\n",
       "    <tr>\n",
       "      <th>2006-12-17 02:00:00</th>\n",
       "      <td>1.587267</td>\n",
       "      <td>3.349400</td>\n",
       "      <td>1.882467</td>\n",
       "      <td>2.061600</td>\n",
       "      <td>2.200133</td>\n",
       "      <td>3.056467</td>\n",
       "      <td>3.268567</td>\n",
       "      <td>3.400233</td>\n",
       "      <td>3.632200</td>\n",
       "      <td>12</td>\n",
       "    </tr>\n",
       "    <tr>\n",
       "      <th>2006-12-17 03:00:00</th>\n",
       "      <td>1.662200</td>\n",
       "      <td>1.587267</td>\n",
       "      <td>3.349400</td>\n",
       "      <td>1.882467</td>\n",
       "      <td>2.061600</td>\n",
       "      <td>2.200133</td>\n",
       "      <td>3.056467</td>\n",
       "      <td>3.268567</td>\n",
       "      <td>3.400233</td>\n",
       "      <td>12</td>\n",
       "    </tr>\n",
       "    <tr>\n",
       "      <th>2006-12-17 04:00:00</th>\n",
       "      <td>2.215767</td>\n",
       "      <td>1.662200</td>\n",
       "      <td>1.587267</td>\n",
       "      <td>3.349400</td>\n",
       "      <td>1.882467</td>\n",
       "      <td>2.061600</td>\n",
       "      <td>2.200133</td>\n",
       "      <td>3.056467</td>\n",
       "      <td>3.268567</td>\n",
       "      <td>12</td>\n",
       "    </tr>\n",
       "    <tr>\n",
       "      <th>2006-12-17 05:00:00</th>\n",
       "      <td>1.996733</td>\n",
       "      <td>2.215767</td>\n",
       "      <td>1.662200</td>\n",
       "      <td>1.587267</td>\n",
       "      <td>3.349400</td>\n",
       "      <td>1.882467</td>\n",
       "      <td>2.061600</td>\n",
       "      <td>2.200133</td>\n",
       "      <td>3.056467</td>\n",
       "      <td>12</td>\n",
       "    </tr>\n",
       "  </tbody>\n",
       "</table>\n",
       "</div>"
      ],
      "text/plain": [
       "                     electricity_usage  electricity_usage_1hr_lag  \\\n",
       "date_time                                                           \n",
       "2006-12-17 01:00:00           3.349400                   1.882467   \n",
       "2006-12-17 02:00:00           1.587267                   3.349400   \n",
       "2006-12-17 03:00:00           1.662200                   1.587267   \n",
       "2006-12-17 04:00:00           2.215767                   1.662200   \n",
       "2006-12-17 05:00:00           1.996733                   2.215767   \n",
       "\n",
       "                     electricity_usage_2hr_lag  electricity_usage_3hr_lag  \\\n",
       "date_time                                                                   \n",
       "2006-12-17 01:00:00                   2.061600                   2.200133   \n",
       "2006-12-17 02:00:00                   1.882467                   2.061600   \n",
       "2006-12-17 03:00:00                   3.349400                   1.882467   \n",
       "2006-12-17 04:00:00                   1.587267                   3.349400   \n",
       "2006-12-17 05:00:00                   1.662200                   1.587267   \n",
       "\n",
       "                     electricity_usage_4hr_lag  electricity_usage_5hr_lag  \\\n",
       "date_time                                                                   \n",
       "2006-12-17 01:00:00                   3.056467                   3.268567   \n",
       "2006-12-17 02:00:00                   2.200133                   3.056467   \n",
       "2006-12-17 03:00:00                   2.061600                   2.200133   \n",
       "2006-12-17 04:00:00                   1.882467                   2.061600   \n",
       "2006-12-17 05:00:00                   3.349400                   1.882467   \n",
       "\n",
       "                     electricity_usage_6hr_lag  electricity_usage_7hr_lag  \\\n",
       "date_time                                                                   \n",
       "2006-12-17 01:00:00                   3.400233                   3.632200   \n",
       "2006-12-17 02:00:00                   3.268567                   3.400233   \n",
       "2006-12-17 03:00:00                   3.056467                   3.268567   \n",
       "2006-12-17 04:00:00                   2.200133                   3.056467   \n",
       "2006-12-17 05:00:00                   2.061600                   2.200133   \n",
       "\n",
       "                     electricity_usage_8hr_lag  month  \n",
       "date_time                                              \n",
       "2006-12-17 01:00:00                   4.222889     12  \n",
       "2006-12-17 02:00:00                   3.632200     12  \n",
       "2006-12-17 03:00:00                   3.400233     12  \n",
       "2006-12-17 04:00:00                   3.268567     12  \n",
       "2006-12-17 05:00:00                   3.056467     12  "
      ]
     },
     "execution_count": 32,
     "metadata": {},
     "output_type": "execute_result"
    }
   ],
   "source": [
    "df_train.head()"
   ]
  },
  {
   "cell_type": "markdown",
   "id": "715d5953-3267-4a15-97fd-718938b6625e",
   "metadata": {},
   "source": [
    "<hr>"
   ]
  },
  {
   "cell_type": "markdown",
   "id": "2e95a957-1288-46ec-b75f-b2959d38a4b4",
   "metadata": {},
   "source": [
    "### Install PyCaret"
   ]
  },
  {
   "cell_type": "code",
   "execution_count": 33,
   "id": "b0392ab6-ec24-4f39-bb09-d8f9ada79235",
   "metadata": {
    "tags": []
   },
   "outputs": [],
   "source": [
    "!pip install pycaret"
   ]
  },
  {
   "cell_type": "code",
   "execution_count": 34,
   "id": "ab4be465-1b02-4edf-81f3-934b5be27735",
   "metadata": {
    "tags": []
   },
   "outputs": [
    {
     "data": {
      "text/html": [
       "<style type=\"text/css\">\n",
       "#T_b7ee2_row8_col1 {\n",
       "  background-color: lightgreen;\n",
       "}\n",
       "</style>\n",
       "<table id=\"T_b7ee2\">\n",
       "  <thead>\n",
       "    <tr>\n",
       "      <th class=\"blank level0\" >&nbsp;</th>\n",
       "      <th id=\"T_b7ee2_level0_col0\" class=\"col_heading level0 col0\" >Description</th>\n",
       "      <th id=\"T_b7ee2_level0_col1\" class=\"col_heading level0 col1\" >Value</th>\n",
       "    </tr>\n",
       "  </thead>\n",
       "  <tbody>\n",
       "    <tr>\n",
       "      <th id=\"T_b7ee2_level0_row0\" class=\"row_heading level0 row0\" >0</th>\n",
       "      <td id=\"T_b7ee2_row0_col0\" class=\"data row0 col0\" >Session id</td>\n",
       "      <td id=\"T_b7ee2_row0_col1\" class=\"data row0 col1\" >666</td>\n",
       "    </tr>\n",
       "    <tr>\n",
       "      <th id=\"T_b7ee2_level0_row1\" class=\"row_heading level0 row1\" >1</th>\n",
       "      <td id=\"T_b7ee2_row1_col0\" class=\"data row1 col0\" >Target</td>\n",
       "      <td id=\"T_b7ee2_row1_col1\" class=\"data row1 col1\" >electricity_usage</td>\n",
       "    </tr>\n",
       "    <tr>\n",
       "      <th id=\"T_b7ee2_level0_row2\" class=\"row_heading level0 row2\" >2</th>\n",
       "      <td id=\"T_b7ee2_row2_col0\" class=\"data row2 col0\" >Target type</td>\n",
       "      <td id=\"T_b7ee2_row2_col1\" class=\"data row2 col1\" >Regression</td>\n",
       "    </tr>\n",
       "    <tr>\n",
       "      <th id=\"T_b7ee2_level0_row3\" class=\"row_heading level0 row3\" >3</th>\n",
       "      <td id=\"T_b7ee2_row3_col0\" class=\"data row3 col0\" >Original data shape</td>\n",
       "      <td id=\"T_b7ee2_row3_col1\" class=\"data row3 col1\" >(34381, 10)</td>\n",
       "    </tr>\n",
       "    <tr>\n",
       "      <th id=\"T_b7ee2_level0_row4\" class=\"row_heading level0 row4\" >4</th>\n",
       "      <td id=\"T_b7ee2_row4_col0\" class=\"data row4 col0\" >Transformed data shape</td>\n",
       "      <td id=\"T_b7ee2_row4_col1\" class=\"data row4 col1\" >(34381, 10)</td>\n",
       "    </tr>\n",
       "    <tr>\n",
       "      <th id=\"T_b7ee2_level0_row5\" class=\"row_heading level0 row5\" >5</th>\n",
       "      <td id=\"T_b7ee2_row5_col0\" class=\"data row5 col0\" >Transformed train set shape</td>\n",
       "      <td id=\"T_b7ee2_row5_col1\" class=\"data row5 col1\" >(24066, 10)</td>\n",
       "    </tr>\n",
       "    <tr>\n",
       "      <th id=\"T_b7ee2_level0_row6\" class=\"row_heading level0 row6\" >6</th>\n",
       "      <td id=\"T_b7ee2_row6_col0\" class=\"data row6 col0\" >Transformed test set shape</td>\n",
       "      <td id=\"T_b7ee2_row6_col1\" class=\"data row6 col1\" >(10315, 10)</td>\n",
       "    </tr>\n",
       "    <tr>\n",
       "      <th id=\"T_b7ee2_level0_row7\" class=\"row_heading level0 row7\" >7</th>\n",
       "      <td id=\"T_b7ee2_row7_col0\" class=\"data row7 col0\" >Numeric features</td>\n",
       "      <td id=\"T_b7ee2_row7_col1\" class=\"data row7 col1\" >9</td>\n",
       "    </tr>\n",
       "    <tr>\n",
       "      <th id=\"T_b7ee2_level0_row8\" class=\"row_heading level0 row8\" >8</th>\n",
       "      <td id=\"T_b7ee2_row8_col0\" class=\"data row8 col0\" >Preprocess</td>\n",
       "      <td id=\"T_b7ee2_row8_col1\" class=\"data row8 col1\" >True</td>\n",
       "    </tr>\n",
       "    <tr>\n",
       "      <th id=\"T_b7ee2_level0_row9\" class=\"row_heading level0 row9\" >9</th>\n",
       "      <td id=\"T_b7ee2_row9_col0\" class=\"data row9 col0\" >Imputation type</td>\n",
       "      <td id=\"T_b7ee2_row9_col1\" class=\"data row9 col1\" >simple</td>\n",
       "    </tr>\n",
       "    <tr>\n",
       "      <th id=\"T_b7ee2_level0_row10\" class=\"row_heading level0 row10\" >10</th>\n",
       "      <td id=\"T_b7ee2_row10_col0\" class=\"data row10 col0\" >Numeric imputation</td>\n",
       "      <td id=\"T_b7ee2_row10_col1\" class=\"data row10 col1\" >mean</td>\n",
       "    </tr>\n",
       "    <tr>\n",
       "      <th id=\"T_b7ee2_level0_row11\" class=\"row_heading level0 row11\" >11</th>\n",
       "      <td id=\"T_b7ee2_row11_col0\" class=\"data row11 col0\" >Categorical imputation</td>\n",
       "      <td id=\"T_b7ee2_row11_col1\" class=\"data row11 col1\" >mode</td>\n",
       "    </tr>\n",
       "    <tr>\n",
       "      <th id=\"T_b7ee2_level0_row12\" class=\"row_heading level0 row12\" >12</th>\n",
       "      <td id=\"T_b7ee2_row12_col0\" class=\"data row12 col0\" >Fold Generator</td>\n",
       "      <td id=\"T_b7ee2_row12_col1\" class=\"data row12 col1\" >KFold</td>\n",
       "    </tr>\n",
       "    <tr>\n",
       "      <th id=\"T_b7ee2_level0_row13\" class=\"row_heading level0 row13\" >13</th>\n",
       "      <td id=\"T_b7ee2_row13_col0\" class=\"data row13 col0\" >Fold Number</td>\n",
       "      <td id=\"T_b7ee2_row13_col1\" class=\"data row13 col1\" >10</td>\n",
       "    </tr>\n",
       "    <tr>\n",
       "      <th id=\"T_b7ee2_level0_row14\" class=\"row_heading level0 row14\" >14</th>\n",
       "      <td id=\"T_b7ee2_row14_col0\" class=\"data row14 col0\" >CPU Jobs</td>\n",
       "      <td id=\"T_b7ee2_row14_col1\" class=\"data row14 col1\" >-1</td>\n",
       "    </tr>\n",
       "    <tr>\n",
       "      <th id=\"T_b7ee2_level0_row15\" class=\"row_heading level0 row15\" >15</th>\n",
       "      <td id=\"T_b7ee2_row15_col0\" class=\"data row15 col0\" >Use GPU</td>\n",
       "      <td id=\"T_b7ee2_row15_col1\" class=\"data row15 col1\" >False</td>\n",
       "    </tr>\n",
       "    <tr>\n",
       "      <th id=\"T_b7ee2_level0_row16\" class=\"row_heading level0 row16\" >16</th>\n",
       "      <td id=\"T_b7ee2_row16_col0\" class=\"data row16 col0\" >Log Experiment</td>\n",
       "      <td id=\"T_b7ee2_row16_col1\" class=\"data row16 col1\" >False</td>\n",
       "    </tr>\n",
       "    <tr>\n",
       "      <th id=\"T_b7ee2_level0_row17\" class=\"row_heading level0 row17\" >17</th>\n",
       "      <td id=\"T_b7ee2_row17_col0\" class=\"data row17 col0\" >Experiment Name</td>\n",
       "      <td id=\"T_b7ee2_row17_col1\" class=\"data row17 col1\" >reg-default-name</td>\n",
       "    </tr>\n",
       "    <tr>\n",
       "      <th id=\"T_b7ee2_level0_row18\" class=\"row_heading level0 row18\" >18</th>\n",
       "      <td id=\"T_b7ee2_row18_col0\" class=\"data row18 col0\" >USI</td>\n",
       "      <td id=\"T_b7ee2_row18_col1\" class=\"data row18 col1\" >c2fd</td>\n",
       "    </tr>\n",
       "  </tbody>\n",
       "</table>\n"
      ],
      "text/plain": [
       "<pandas.io.formats.style.Styler at 0x7f512cf0fc10>"
      ]
     },
     "metadata": {},
     "output_type": "display_data"
    }
   ],
   "source": [
    "from pycaret.regression import setup, compare_models, predict_model\n",
    "pycaret_automl = setup(data=df_train, target = 'electricity_usage', session_id=666)"
   ]
  },
  {
   "cell_type": "markdown",
   "id": "80773c45-bf3e-4746-a92d-c4277ba113a7",
   "metadata": {},
   "source": [
    "### Evaluate models performance"
   ]
  },
  {
   "cell_type": "code",
   "execution_count": 35,
   "id": "d7ac898d-f92c-4b4b-803e-a4891c6385a7",
   "metadata": {
    "tags": []
   },
   "outputs": [
    {
     "data": {
      "text/html": [],
      "text/plain": [
       "<IPython.core.display.HTML object>"
      ]
     },
     "metadata": {},
     "output_type": "display_data"
    },
    {
     "data": {
      "text/html": [
       "<style type=\"text/css\">\n",
       "#T_f11c6 th {\n",
       "  text-align: left;\n",
       "}\n",
       "#T_f11c6_row0_col0, #T_f11c6_row0_col6, #T_f11c6_row1_col0, #T_f11c6_row1_col1, #T_f11c6_row1_col2, #T_f11c6_row1_col3, #T_f11c6_row1_col4, #T_f11c6_row1_col5, #T_f11c6_row1_col6, #T_f11c6_row2_col0, #T_f11c6_row2_col1, #T_f11c6_row2_col2, #T_f11c6_row2_col3, #T_f11c6_row2_col4, #T_f11c6_row2_col5, #T_f11c6_row2_col6, #T_f11c6_row3_col0, #T_f11c6_row3_col1, #T_f11c6_row3_col2, #T_f11c6_row3_col3, #T_f11c6_row3_col4, #T_f11c6_row3_col5, #T_f11c6_row3_col6, #T_f11c6_row4_col0, #T_f11c6_row4_col1, #T_f11c6_row4_col2, #T_f11c6_row4_col3, #T_f11c6_row4_col4, #T_f11c6_row4_col5, #T_f11c6_row4_col6, #T_f11c6_row5_col0, #T_f11c6_row5_col1, #T_f11c6_row5_col2, #T_f11c6_row5_col3, #T_f11c6_row5_col4, #T_f11c6_row5_col5, #T_f11c6_row5_col6, #T_f11c6_row6_col0, #T_f11c6_row6_col1, #T_f11c6_row6_col2, #T_f11c6_row6_col3, #T_f11c6_row6_col4, #T_f11c6_row6_col5, #T_f11c6_row6_col6, #T_f11c6_row7_col0, #T_f11c6_row7_col1, #T_f11c6_row7_col2, #T_f11c6_row7_col3, #T_f11c6_row7_col4, #T_f11c6_row7_col5, #T_f11c6_row7_col6, #T_f11c6_row8_col0, #T_f11c6_row8_col1, #T_f11c6_row8_col2, #T_f11c6_row8_col3, #T_f11c6_row8_col4, #T_f11c6_row8_col5, #T_f11c6_row8_col6, #T_f11c6_row9_col0, #T_f11c6_row9_col1, #T_f11c6_row9_col2, #T_f11c6_row9_col3, #T_f11c6_row9_col4, #T_f11c6_row9_col5, #T_f11c6_row10_col0, #T_f11c6_row10_col1, #T_f11c6_row10_col2, #T_f11c6_row10_col3, #T_f11c6_row10_col4, #T_f11c6_row10_col5, #T_f11c6_row10_col6, #T_f11c6_row11_col0, #T_f11c6_row11_col1, #T_f11c6_row11_col2, #T_f11c6_row11_col3, #T_f11c6_row11_col4, #T_f11c6_row11_col5, #T_f11c6_row11_col6, #T_f11c6_row12_col0, #T_f11c6_row12_col1, #T_f11c6_row12_col2, #T_f11c6_row12_col3, #T_f11c6_row12_col4, #T_f11c6_row12_col5, #T_f11c6_row12_col6, #T_f11c6_row13_col0, #T_f11c6_row13_col1, #T_f11c6_row13_col2, #T_f11c6_row13_col3, #T_f11c6_row13_col4, #T_f11c6_row13_col5, #T_f11c6_row13_col6, #T_f11c6_row14_col0, #T_f11c6_row14_col1, #T_f11c6_row14_col2, #T_f11c6_row14_col3, #T_f11c6_row14_col4, #T_f11c6_row14_col5, #T_f11c6_row14_col6, #T_f11c6_row15_col0, #T_f11c6_row15_col1, #T_f11c6_row15_col2, #T_f11c6_row15_col3, #T_f11c6_row15_col4, #T_f11c6_row15_col5, #T_f11c6_row15_col6, #T_f11c6_row16_col0, #T_f11c6_row16_col1, #T_f11c6_row16_col2, #T_f11c6_row16_col3, #T_f11c6_row16_col4, #T_f11c6_row16_col5, #T_f11c6_row16_col6 {\n",
       "  text-align: left;\n",
       "}\n",
       "#T_f11c6_row0_col1, #T_f11c6_row0_col2, #T_f11c6_row0_col3, #T_f11c6_row0_col4, #T_f11c6_row0_col5, #T_f11c6_row9_col6 {\n",
       "  text-align: left;\n",
       "  background-color: yellow;\n",
       "}\n",
       "#T_f11c6_row0_col7, #T_f11c6_row1_col7, #T_f11c6_row2_col7, #T_f11c6_row3_col7, #T_f11c6_row4_col7, #T_f11c6_row6_col7, #T_f11c6_row7_col7, #T_f11c6_row9_col7, #T_f11c6_row10_col7, #T_f11c6_row11_col7, #T_f11c6_row12_col7, #T_f11c6_row13_col7, #T_f11c6_row14_col7, #T_f11c6_row16_col7 {\n",
       "  text-align: left;\n",
       "  background-color: lightgrey;\n",
       "}\n",
       "#T_f11c6_row5_col7, #T_f11c6_row8_col7, #T_f11c6_row15_col7 {\n",
       "  text-align: left;\n",
       "  background-color: yellow;\n",
       "  background-color: lightgrey;\n",
       "}\n",
       "</style>\n",
       "<table id=\"T_f11c6\">\n",
       "  <thead>\n",
       "    <tr>\n",
       "      <th class=\"blank level0\" >&nbsp;</th>\n",
       "      <th id=\"T_f11c6_level0_col0\" class=\"col_heading level0 col0\" >Model</th>\n",
       "      <th id=\"T_f11c6_level0_col1\" class=\"col_heading level0 col1\" >MAE</th>\n",
       "      <th id=\"T_f11c6_level0_col2\" class=\"col_heading level0 col2\" >MSE</th>\n",
       "      <th id=\"T_f11c6_level0_col3\" class=\"col_heading level0 col3\" >RMSE</th>\n",
       "      <th id=\"T_f11c6_level0_col4\" class=\"col_heading level0 col4\" >R2</th>\n",
       "      <th id=\"T_f11c6_level0_col5\" class=\"col_heading level0 col5\" >RMSLE</th>\n",
       "      <th id=\"T_f11c6_level0_col6\" class=\"col_heading level0 col6\" >MAPE</th>\n",
       "      <th id=\"T_f11c6_level0_col7\" class=\"col_heading level0 col7\" >TT (Sec)</th>\n",
       "    </tr>\n",
       "  </thead>\n",
       "  <tbody>\n",
       "    <tr>\n",
       "      <th id=\"T_f11c6_level0_row0\" class=\"row_heading level0 row0\" >lightgbm</th>\n",
       "      <td id=\"T_f11c6_row0_col0\" class=\"data row0 col0\" >Light Gradient Boosting Machine</td>\n",
       "      <td id=\"T_f11c6_row0_col1\" class=\"data row0 col1\" >0.4062</td>\n",
       "      <td id=\"T_f11c6_row0_col2\" class=\"data row0 col2\" >0.3500</td>\n",
       "      <td id=\"T_f11c6_row0_col3\" class=\"data row0 col3\" >0.5915</td>\n",
       "      <td id=\"T_f11c6_row0_col4\" class=\"data row0 col4\" >0.5589</td>\n",
       "      <td id=\"T_f11c6_row0_col5\" class=\"data row0 col5\" >0.2457</td>\n",
       "      <td id=\"T_f11c6_row0_col6\" class=\"data row0 col6\" >0.5362</td>\n",
       "      <td id=\"T_f11c6_row0_col7\" class=\"data row0 col7\" >45.9890</td>\n",
       "    </tr>\n",
       "    <tr>\n",
       "      <th id=\"T_f11c6_level0_row1\" class=\"row_heading level0 row1\" >gbr</th>\n",
       "      <td id=\"T_f11c6_row1_col0\" class=\"data row1 col0\" >Gradient Boosting Regressor</td>\n",
       "      <td id=\"T_f11c6_row1_col1\" class=\"data row1 col1\" >0.4119</td>\n",
       "      <td id=\"T_f11c6_row1_col2\" class=\"data row1 col2\" >0.3543</td>\n",
       "      <td id=\"T_f11c6_row1_col3\" class=\"data row1 col3\" >0.5951</td>\n",
       "      <td id=\"T_f11c6_row1_col4\" class=\"data row1 col4\" >0.5536</td>\n",
       "      <td id=\"T_f11c6_row1_col5\" class=\"data row1 col5\" >0.2485</td>\n",
       "      <td id=\"T_f11c6_row1_col6\" class=\"data row1 col6\" >0.5526</td>\n",
       "      <td id=\"T_f11c6_row1_col7\" class=\"data row1 col7\" >2.9840</td>\n",
       "    </tr>\n",
       "    <tr>\n",
       "      <th id=\"T_f11c6_level0_row2\" class=\"row_heading level0 row2\" >rf</th>\n",
       "      <td id=\"T_f11c6_row2_col0\" class=\"data row2 col0\" >Random Forest Regressor</td>\n",
       "      <td id=\"T_f11c6_row2_col1\" class=\"data row2 col1\" >0.4133</td>\n",
       "      <td id=\"T_f11c6_row2_col2\" class=\"data row2 col2\" >0.3586</td>\n",
       "      <td id=\"T_f11c6_row2_col3\" class=\"data row2 col3\" >0.5987</td>\n",
       "      <td id=\"T_f11c6_row2_col4\" class=\"data row2 col4\" >0.5481</td>\n",
       "      <td id=\"T_f11c6_row2_col5\" class=\"data row2 col5\" >0.2503</td>\n",
       "      <td id=\"T_f11c6_row2_col6\" class=\"data row2 col6\" >0.5576</td>\n",
       "      <td id=\"T_f11c6_row2_col7\" class=\"data row2 col7\" >8.7650</td>\n",
       "    </tr>\n",
       "    <tr>\n",
       "      <th id=\"T_f11c6_level0_row3\" class=\"row_heading level0 row3\" >et</th>\n",
       "      <td id=\"T_f11c6_row3_col0\" class=\"data row3 col0\" >Extra Trees Regressor</td>\n",
       "      <td id=\"T_f11c6_row3_col1\" class=\"data row3 col1\" >0.4143</td>\n",
       "      <td id=\"T_f11c6_row3_col2\" class=\"data row3 col2\" >0.3588</td>\n",
       "      <td id=\"T_f11c6_row3_col3\" class=\"data row3 col3\" >0.5989</td>\n",
       "      <td id=\"T_f11c6_row3_col4\" class=\"data row3 col4\" >0.5479</td>\n",
       "      <td id=\"T_f11c6_row3_col5\" class=\"data row3 col5\" >0.2500</td>\n",
       "      <td id=\"T_f11c6_row3_col6\" class=\"data row3 col6\" >0.5573</td>\n",
       "      <td id=\"T_f11c6_row3_col7\" class=\"data row3 col7\" >2.6030</td>\n",
       "    </tr>\n",
       "    <tr>\n",
       "      <th id=\"T_f11c6_level0_row4\" class=\"row_heading level0 row4\" >lr</th>\n",
       "      <td id=\"T_f11c6_row4_col0\" class=\"data row4 col0\" >Linear Regression</td>\n",
       "      <td id=\"T_f11c6_row4_col1\" class=\"data row4 col1\" >0.4413</td>\n",
       "      <td id=\"T_f11c6_row4_col2\" class=\"data row4 col2\" >0.3831</td>\n",
       "      <td id=\"T_f11c6_row4_col3\" class=\"data row4 col3\" >0.6188</td>\n",
       "      <td id=\"T_f11c6_row4_col4\" class=\"data row4 col4\" >0.5173</td>\n",
       "      <td id=\"T_f11c6_row4_col5\" class=\"data row4 col5\" >0.2593</td>\n",
       "      <td id=\"T_f11c6_row4_col6\" class=\"data row4 col6\" >0.6295</td>\n",
       "      <td id=\"T_f11c6_row4_col7\" class=\"data row4 col7\" >0.3480</td>\n",
       "    </tr>\n",
       "    <tr>\n",
       "      <th id=\"T_f11c6_level0_row5\" class=\"row_heading level0 row5\" >ridge</th>\n",
       "      <td id=\"T_f11c6_row5_col0\" class=\"data row5 col0\" >Ridge Regression</td>\n",
       "      <td id=\"T_f11c6_row5_col1\" class=\"data row5 col1\" >0.4413</td>\n",
       "      <td id=\"T_f11c6_row5_col2\" class=\"data row5 col2\" >0.3831</td>\n",
       "      <td id=\"T_f11c6_row5_col3\" class=\"data row5 col3\" >0.6188</td>\n",
       "      <td id=\"T_f11c6_row5_col4\" class=\"data row5 col4\" >0.5173</td>\n",
       "      <td id=\"T_f11c6_row5_col5\" class=\"data row5 col5\" >0.2593</td>\n",
       "      <td id=\"T_f11c6_row5_col6\" class=\"data row5 col6\" >0.6296</td>\n",
       "      <td id=\"T_f11c6_row5_col7\" class=\"data row5 col7\" >0.0170</td>\n",
       "    </tr>\n",
       "    <tr>\n",
       "      <th id=\"T_f11c6_level0_row6\" class=\"row_heading level0 row6\" >br</th>\n",
       "      <td id=\"T_f11c6_row6_col0\" class=\"data row6 col0\" >Bayesian Ridge</td>\n",
       "      <td id=\"T_f11c6_row6_col1\" class=\"data row6 col1\" >0.4413</td>\n",
       "      <td id=\"T_f11c6_row6_col2\" class=\"data row6 col2\" >0.3831</td>\n",
       "      <td id=\"T_f11c6_row6_col3\" class=\"data row6 col3\" >0.6188</td>\n",
       "      <td id=\"T_f11c6_row6_col4\" class=\"data row6 col4\" >0.5173</td>\n",
       "      <td id=\"T_f11c6_row6_col5\" class=\"data row6 col5\" >0.2593</td>\n",
       "      <td id=\"T_f11c6_row6_col6\" class=\"data row6 col6\" >0.6297</td>\n",
       "      <td id=\"T_f11c6_row6_col7\" class=\"data row6 col7\" >0.0200</td>\n",
       "    </tr>\n",
       "    <tr>\n",
       "      <th id=\"T_f11c6_level0_row7\" class=\"row_heading level0 row7\" >lar</th>\n",
       "      <td id=\"T_f11c6_row7_col0\" class=\"data row7 col0\" >Least Angle Regression</td>\n",
       "      <td id=\"T_f11c6_row7_col1\" class=\"data row7 col1\" >0.4415</td>\n",
       "      <td id=\"T_f11c6_row7_col2\" class=\"data row7 col2\" >0.3836</td>\n",
       "      <td id=\"T_f11c6_row7_col3\" class=\"data row7 col3\" >0.6192</td>\n",
       "      <td id=\"T_f11c6_row7_col4\" class=\"data row7 col4\" >0.5167</td>\n",
       "      <td id=\"T_f11c6_row7_col5\" class=\"data row7 col5\" >0.2594</td>\n",
       "      <td id=\"T_f11c6_row7_col6\" class=\"data row7 col6\" >0.6289</td>\n",
       "      <td id=\"T_f11c6_row7_col7\" class=\"data row7 col7\" >0.0190</td>\n",
       "    </tr>\n",
       "    <tr>\n",
       "      <th id=\"T_f11c6_level0_row8\" class=\"row_heading level0 row8\" >omp</th>\n",
       "      <td id=\"T_f11c6_row8_col0\" class=\"data row8 col0\" >Orthogonal Matching Pursuit</td>\n",
       "      <td id=\"T_f11c6_row8_col1\" class=\"data row8 col1\" >0.4447</td>\n",
       "      <td id=\"T_f11c6_row8_col2\" class=\"data row8 col2\" >0.3885</td>\n",
       "      <td id=\"T_f11c6_row8_col3\" class=\"data row8 col3\" >0.6232</td>\n",
       "      <td id=\"T_f11c6_row8_col4\" class=\"data row8 col4\" >0.5104</td>\n",
       "      <td id=\"T_f11c6_row8_col5\" class=\"data row8 col5\" >0.2621</td>\n",
       "      <td id=\"T_f11c6_row8_col6\" class=\"data row8 col6\" >0.6346</td>\n",
       "      <td id=\"T_f11c6_row8_col7\" class=\"data row8 col7\" >0.0170</td>\n",
       "    </tr>\n",
       "    <tr>\n",
       "      <th id=\"T_f11c6_level0_row9\" class=\"row_heading level0 row9\" >huber</th>\n",
       "      <td id=\"T_f11c6_row9_col0\" class=\"data row9 col0\" >Huber Regressor</td>\n",
       "      <td id=\"T_f11c6_row9_col1\" class=\"data row9 col1\" >0.4189</td>\n",
       "      <td id=\"T_f11c6_row9_col2\" class=\"data row9 col2\" >0.3915</td>\n",
       "      <td id=\"T_f11c6_row9_col3\" class=\"data row9 col3\" >0.6255</td>\n",
       "      <td id=\"T_f11c6_row9_col4\" class=\"data row9 col4\" >0.5067</td>\n",
       "      <td id=\"T_f11c6_row9_col5\" class=\"data row9 col5\" >0.2568</td>\n",
       "      <td id=\"T_f11c6_row9_col6\" class=\"data row9 col6\" >0.4997</td>\n",
       "      <td id=\"T_f11c6_row9_col7\" class=\"data row9 col7\" >0.0970</td>\n",
       "    </tr>\n",
       "    <tr>\n",
       "      <th id=\"T_f11c6_level0_row10\" class=\"row_heading level0 row10\" >knn</th>\n",
       "      <td id=\"T_f11c6_row10_col0\" class=\"data row10 col0\" >K Neighbors Regressor</td>\n",
       "      <td id=\"T_f11c6_row10_col1\" class=\"data row10 col1\" >0.4557</td>\n",
       "      <td id=\"T_f11c6_row10_col2\" class=\"data row10 col2\" >0.4281</td>\n",
       "      <td id=\"T_f11c6_row10_col3\" class=\"data row10 col3\" >0.6542</td>\n",
       "      <td id=\"T_f11c6_row10_col4\" class=\"data row10 col4\" >0.4605</td>\n",
       "      <td id=\"T_f11c6_row10_col5\" class=\"data row10 col5\" >0.2772</td>\n",
       "      <td id=\"T_f11c6_row10_col6\" class=\"data row10 col6\" >0.6093</td>\n",
       "      <td id=\"T_f11c6_row10_col7\" class=\"data row10 col7\" >0.1120</td>\n",
       "    </tr>\n",
       "    <tr>\n",
       "      <th id=\"T_f11c6_level0_row11\" class=\"row_heading level0 row11\" >dt</th>\n",
       "      <td id=\"T_f11c6_row11_col0\" class=\"data row11 col0\" >Decision Tree Regressor</td>\n",
       "      <td id=\"T_f11c6_row11_col1\" class=\"data row11 col1\" >0.5642</td>\n",
       "      <td id=\"T_f11c6_row11_col2\" class=\"data row11 col2\" >0.7239</td>\n",
       "      <td id=\"T_f11c6_row11_col3\" class=\"data row11 col3\" >0.8506</td>\n",
       "      <td id=\"T_f11c6_row11_col4\" class=\"data row11 col4\" >0.0876</td>\n",
       "      <td id=\"T_f11c6_row11_col5\" class=\"data row11 col5\" >0.3491</td>\n",
       "      <td id=\"T_f11c6_row11_col6\" class=\"data row11 col6\" >0.6979</td>\n",
       "      <td id=\"T_f11c6_row11_col7\" class=\"data row11 col7\" >0.1500</td>\n",
       "    </tr>\n",
       "    <tr>\n",
       "      <th id=\"T_f11c6_level0_row12\" class=\"row_heading level0 row12\" >en</th>\n",
       "      <td id=\"T_f11c6_row12_col0\" class=\"data row12 col0\" >Elastic Net</td>\n",
       "      <td id=\"T_f11c6_row12_col1\" class=\"data row12 col1\" >0.6922</td>\n",
       "      <td id=\"T_f11c6_row12_col2\" class=\"data row12 col2\" >0.7357</td>\n",
       "      <td id=\"T_f11c6_row12_col3\" class=\"data row12 col3\" >0.8577</td>\n",
       "      <td id=\"T_f11c6_row12_col4\" class=\"data row12 col4\" >0.0728</td>\n",
       "      <td id=\"T_f11c6_row12_col5\" class=\"data row12 col5\" >0.3775</td>\n",
       "      <td id=\"T_f11c6_row12_col6\" class=\"data row12 col6\" >1.2210</td>\n",
       "      <td id=\"T_f11c6_row12_col7\" class=\"data row12 col7\" >0.0180</td>\n",
       "    </tr>\n",
       "    <tr>\n",
       "      <th id=\"T_f11c6_level0_row13\" class=\"row_heading level0 row13\" >ada</th>\n",
       "      <td id=\"T_f11c6_row13_col0\" class=\"data row13 col0\" >AdaBoost Regressor</td>\n",
       "      <td id=\"T_f11c6_row13_col1\" class=\"data row13 col1\" >0.7495</td>\n",
       "      <td id=\"T_f11c6_row13_col2\" class=\"data row13 col2\" >0.7422</td>\n",
       "      <td id=\"T_f11c6_row13_col3\" class=\"data row13 col3\" >0.8580</td>\n",
       "      <td id=\"T_f11c6_row13_col4\" class=\"data row13 col4\" >0.0641</td>\n",
       "      <td id=\"T_f11c6_row13_col5\" class=\"data row13 col5\" >0.4069</td>\n",
       "      <td id=\"T_f11c6_row13_col6\" class=\"data row13 col6\" >1.5352</td>\n",
       "      <td id=\"T_f11c6_row13_col7\" class=\"data row13 col7\" >0.7780</td>\n",
       "    </tr>\n",
       "    <tr>\n",
       "      <th id=\"T_f11c6_level0_row14\" class=\"row_heading level0 row14\" >lasso</th>\n",
       "      <td id=\"T_f11c6_row14_col0\" class=\"data row14 col0\" >Lasso Regression</td>\n",
       "      <td id=\"T_f11c6_row14_col1\" class=\"data row14 col1\" >0.7213</td>\n",
       "      <td id=\"T_f11c6_row14_col2\" class=\"data row14 col2\" >0.7939</td>\n",
       "      <td id=\"T_f11c6_row14_col3\" class=\"data row14 col3\" >0.8910</td>\n",
       "      <td id=\"T_f11c6_row14_col4\" class=\"data row14 col4\" >-0.0006</td>\n",
       "      <td id=\"T_f11c6_row14_col5\" class=\"data row14 col5\" >0.3932</td>\n",
       "      <td id=\"T_f11c6_row14_col6\" class=\"data row14 col6\" >1.2754</td>\n",
       "      <td id=\"T_f11c6_row14_col7\" class=\"data row14 col7\" >0.0180</td>\n",
       "    </tr>\n",
       "    <tr>\n",
       "      <th id=\"T_f11c6_level0_row15\" class=\"row_heading level0 row15\" >llar</th>\n",
       "      <td id=\"T_f11c6_row15_col0\" class=\"data row15 col0\" >Lasso Least Angle Regression</td>\n",
       "      <td id=\"T_f11c6_row15_col1\" class=\"data row15 col1\" >0.7213</td>\n",
       "      <td id=\"T_f11c6_row15_col2\" class=\"data row15 col2\" >0.7939</td>\n",
       "      <td id=\"T_f11c6_row15_col3\" class=\"data row15 col3\" >0.8910</td>\n",
       "      <td id=\"T_f11c6_row15_col4\" class=\"data row15 col4\" >-0.0006</td>\n",
       "      <td id=\"T_f11c6_row15_col5\" class=\"data row15 col5\" >0.3932</td>\n",
       "      <td id=\"T_f11c6_row15_col6\" class=\"data row15 col6\" >1.2754</td>\n",
       "      <td id=\"T_f11c6_row15_col7\" class=\"data row15 col7\" >0.0170</td>\n",
       "    </tr>\n",
       "    <tr>\n",
       "      <th id=\"T_f11c6_level0_row16\" class=\"row_heading level0 row16\" >par</th>\n",
       "      <td id=\"T_f11c6_row16_col0\" class=\"data row16 col0\" >Passive Aggressive Regressor</td>\n",
       "      <td id=\"T_f11c6_row16_col1\" class=\"data row16 col1\" >0.7293</td>\n",
       "      <td id=\"T_f11c6_row16_col2\" class=\"data row16 col2\" >0.8801</td>\n",
       "      <td id=\"T_f11c6_row16_col3\" class=\"data row16 col3\" >0.9220</td>\n",
       "      <td id=\"T_f11c6_row16_col4\" class=\"data row16 col4\" >-0.1154</td>\n",
       "      <td id=\"T_f11c6_row16_col5\" class=\"data row16 col5\" >0.3992</td>\n",
       "      <td id=\"T_f11c6_row16_col6\" class=\"data row16 col6\" >1.2006</td>\n",
       "      <td id=\"T_f11c6_row16_col7\" class=\"data row16 col7\" >0.0270</td>\n",
       "    </tr>\n",
       "  </tbody>\n",
       "</table>\n"
      ],
      "text/plain": [
       "<pandas.io.formats.style.Styler at 0x7f512ce48af0>"
      ]
     },
     "metadata": {},
     "output_type": "display_data"
    },
    {
     "data": {
      "text/html": [],
      "text/plain": [
       "<IPython.core.display.HTML object>"
      ]
     },
     "metadata": {},
     "output_type": "display_data"
    }
   ],
   "source": [
    "pycaret_models = compare_models(sort='MSE', budget_time=5)"
   ]
  },
  {
   "cell_type": "code",
   "execution_count": 36,
   "id": "90bebd02-1a3a-4e33-b0d3-07059472aa6a",
   "metadata": {
    "tags": []
   },
   "outputs": [
    {
     "name": "stdout",
     "output_type": "stream",
     "text": [
      "LGBMRegressor(n_jobs=-1, random_state=666)\n"
     ]
    }
   ],
   "source": [
    "print(pycaret_models)"
   ]
  },
  {
   "cell_type": "markdown",
   "id": "51998cbc-a16b-450e-bfc7-c82a21851698",
   "metadata": {},
   "source": [
    "<hr>"
   ]
  },
  {
   "cell_type": "code",
   "execution_count": 37,
   "id": "7649630b-b594-4053-97f4-2039a7c613a9",
   "metadata": {
    "tags": []
   },
   "outputs": [
    {
     "data": {
      "text/html": [
       "<style type=\"text/css\">\n",
       "</style>\n",
       "<table id=\"T_88dbc\">\n",
       "  <thead>\n",
       "    <tr>\n",
       "      <th class=\"blank level0\" >&nbsp;</th>\n",
       "      <th id=\"T_88dbc_level0_col0\" class=\"col_heading level0 col0\" >Model</th>\n",
       "      <th id=\"T_88dbc_level0_col1\" class=\"col_heading level0 col1\" >MAE</th>\n",
       "      <th id=\"T_88dbc_level0_col2\" class=\"col_heading level0 col2\" >MSE</th>\n",
       "      <th id=\"T_88dbc_level0_col3\" class=\"col_heading level0 col3\" >RMSE</th>\n",
       "      <th id=\"T_88dbc_level0_col4\" class=\"col_heading level0 col4\" >R2</th>\n",
       "      <th id=\"T_88dbc_level0_col5\" class=\"col_heading level0 col5\" >RMSLE</th>\n",
       "      <th id=\"T_88dbc_level0_col6\" class=\"col_heading level0 col6\" >MAPE</th>\n",
       "    </tr>\n",
       "  </thead>\n",
       "  <tbody>\n",
       "    <tr>\n",
       "      <th id=\"T_88dbc_level0_row0\" class=\"row_heading level0 row0\" >0</th>\n",
       "      <td id=\"T_88dbc_row0_col0\" class=\"data row0 col0\" >Light Gradient Boosting Machine</td>\n",
       "      <td id=\"T_88dbc_row0_col1\" class=\"data row0 col1\" >0.3964</td>\n",
       "      <td id=\"T_88dbc_row0_col2\" class=\"data row0 col2\" >0.3575</td>\n",
       "      <td id=\"T_88dbc_row0_col3\" class=\"data row0 col3\" >0.5979</td>\n",
       "      <td id=\"T_88dbc_row0_col4\" class=\"data row0 col4\" >0.4758</td>\n",
       "      <td id=\"T_88dbc_row0_col5\" class=\"data row0 col5\" >0.2369</td>\n",
       "      <td id=\"T_88dbc_row0_col6\" class=\"data row0 col6\" >0.4906</td>\n",
       "    </tr>\n",
       "  </tbody>\n",
       "</table>\n"
      ],
      "text/plain": [
       "<pandas.io.formats.style.Styler at 0x7f512f723a90>"
      ]
     },
     "metadata": {},
     "output_type": "display_data"
    },
    {
     "name": "stdout",
     "output_type": "stream",
     "text": [
      "Index(['electricity_usage_1hr_lag', 'electricity_usage_2hr_lag',\n",
      "       'electricity_usage_3hr_lag', 'electricity_usage_4hr_lag',\n",
      "       'electricity_usage_5hr_lag', 'electricity_usage_6hr_lag',\n",
      "       'electricity_usage_7hr_lag', 'electricity_usage_8hr_lag', 'month',\n",
      "       'electricity_usage', 'prediction_label'],\n",
      "      dtype='object')\n"
     ]
    }
   ],
   "source": [
    "predictions = predict_model(pycaret_models, data=df_test)\n",
    "print(predictions.columns)"
   ]
  },
  {
   "cell_type": "markdown",
   "id": "92f0c975-ad96-4c85-a461-4ae6a3b3a2c7",
   "metadata": {},
   "source": [
    "<hr>"
   ]
  },
  {
   "cell_type": "code",
   "execution_count": 38,
   "id": "8c6b2828-6922-4988-8857-2c8847d57642",
   "metadata": {
    "tags": []
   },
   "outputs": [
    {
     "data": {
      "text/plain": [
       "0.3574659342307327"
      ]
     },
     "execution_count": 38,
     "metadata": {},
     "output_type": "execute_result"
    }
   ],
   "source": [
    "from sklearn.metrics import mean_squared_error\n",
    "\n",
    "mean_squared_error(predictions['electricity_usage'], predictions['prediction_label'])"
   ]
  },
  {
   "cell_type": "code",
   "execution_count": 39,
   "id": "ee6d3dad-b1b5-48e4-b6e5-291cc9ce6c5c",
   "metadata": {
    "tags": []
   },
   "outputs": [],
   "source": [
    "x_columns = df.drop(df.columns[-1], axis=1, inplace=True)"
   ]
  },
  {
   "cell_type": "code",
   "execution_count": null,
   "id": "6434cc49-6a11-4319-9a75-2190d4628f8a",
   "metadata": {
    "tags": []
   },
   "outputs": [],
   "source": [
    "# predictions.plot(x= x_columns, y=['electricity_usage', 'prediction_label'])\n",
    "# plt.show()"
   ]
  },
  {
   "cell_type": "code",
   "execution_count": null,
   "id": "80809806-072e-4bdc-83a9-9590781a4d41",
   "metadata": {
    "tags": []
   },
   "outputs": [],
   "source": [
    "# predictions[['electricity_usage', 'prediction_label']].plot()"
   ]
  },
  {
   "cell_type": "code",
   "execution_count": 40,
   "id": "a74a30fd-5726-411a-81d3-de3ed382e862",
   "metadata": {
    "tags": []
   },
   "outputs": [],
   "source": [
    "import warnings\n",
    "warnings.filterwarnings('ignore')"
   ]
  },
  {
   "cell_type": "code",
   "execution_count": 42,
   "id": "bcfe093a-3dac-401b-b0b6-ea549c7cd582",
   "metadata": {
    "tags": []
   },
   "outputs": [
    {
     "ename": "KeyError",
     "evalue": "'datetime_column'",
     "output_type": "error",
     "traceback": [
      "\u001b[0;31m---------------------------------------------------------------------------\u001b[0m",
      "\u001b[0;31mKeyError\u001b[0m                                  Traceback (most recent call last)",
      "File \u001b[0;32m/opt/conda/lib/python3.10/site-packages/pandas/core/indexes/base.py:3653\u001b[0m, in \u001b[0;36mget_loc\u001b[0;34m(self, key)\u001b[0m\n\u001b[1;32m   3643\u001b[0m \u001b[38;5;28;01mdef\u001b[39;00m \u001b[38;5;21msymmetric_difference\u001b[39m(\u001b[38;5;28mself\u001b[39m, other, result_name\u001b[38;5;241m=\u001b[39m\u001b[38;5;28;01mNone\u001b[39;00m, sort\u001b[38;5;241m=\u001b[39m\u001b[38;5;28;01mNone\u001b[39;00m):\n\u001b[1;32m   3644\u001b[0m \u001b[38;5;250m    \u001b[39m\u001b[38;5;124;03m\"\"\"\u001b[39;00m\n\u001b[1;32m   3645\u001b[0m \u001b[38;5;124;03m    Compute the symmetric difference of two Index objects.\u001b[39;00m\n\u001b[1;32m   3646\u001b[0m \n\u001b[1;32m   3647\u001b[0m \u001b[38;5;124;03m    Parameters\u001b[39;00m\n\u001b[1;32m   3648\u001b[0m \u001b[38;5;124;03m    ----------\u001b[39;00m\n\u001b[1;32m   3649\u001b[0m \u001b[38;5;124;03m    other : Index or array-like\u001b[39;00m\n\u001b[1;32m   3650\u001b[0m \u001b[38;5;124;03m    result_name : str\u001b[39;00m\n\u001b[1;32m   3651\u001b[0m \u001b[38;5;124;03m    sort : False or None, default None\u001b[39;00m\n\u001b[1;32m   3652\u001b[0m \u001b[38;5;124;03m        Whether to sort the resulting index. By default, the\u001b[39;00m\n\u001b[0;32m-> 3653\u001b[0m \u001b[38;5;124;03m        values are attempted to be sorted, but any TypeError from\u001b[39;00m\n\u001b[1;32m   3654\u001b[0m \u001b[38;5;124;03m        incomparable elements is caught by pandas.\u001b[39;00m\n\u001b[1;32m   3655\u001b[0m \n\u001b[1;32m   3656\u001b[0m \u001b[38;5;124;03m        * None : Attempt to sort the result, but catch any TypeErrors\u001b[39;00m\n\u001b[1;32m   3657\u001b[0m \u001b[38;5;124;03m          from comparing incomparable elements.\u001b[39;00m\n\u001b[1;32m   3658\u001b[0m \u001b[38;5;124;03m        * False : Do not sort the result.\u001b[39;00m\n\u001b[1;32m   3659\u001b[0m \n\u001b[1;32m   3660\u001b[0m \u001b[38;5;124;03m    Returns\u001b[39;00m\n\u001b[1;32m   3661\u001b[0m \u001b[38;5;124;03m    -------\u001b[39;00m\n\u001b[1;32m   3662\u001b[0m \u001b[38;5;124;03m    symmetric_difference : Index\u001b[39;00m\n\u001b[1;32m   3663\u001b[0m \n\u001b[1;32m   3664\u001b[0m \u001b[38;5;124;03m    Notes\u001b[39;00m\n\u001b[1;32m   3665\u001b[0m \u001b[38;5;124;03m    -----\u001b[39;00m\n\u001b[1;32m   3666\u001b[0m \u001b[38;5;124;03m    ``symmetric_difference`` contains elements that appear in either\u001b[39;00m\n\u001b[1;32m   3667\u001b[0m \u001b[38;5;124;03m    ``idx1`` or ``idx2`` but not both. Equivalent to the Index created by\u001b[39;00m\n\u001b[1;32m   3668\u001b[0m \u001b[38;5;124;03m    ``idx1.difference(idx2) | idx2.difference(idx1)`` with duplicates\u001b[39;00m\n\u001b[1;32m   3669\u001b[0m \u001b[38;5;124;03m    dropped.\u001b[39;00m\n\u001b[1;32m   3670\u001b[0m \n\u001b[1;32m   3671\u001b[0m \u001b[38;5;124;03m    Examples\u001b[39;00m\n\u001b[1;32m   3672\u001b[0m \u001b[38;5;124;03m    --------\u001b[39;00m\n\u001b[1;32m   3673\u001b[0m \u001b[38;5;124;03m    >>> idx1 = pd.Index([1, 2, 3, 4])\u001b[39;00m\n\u001b[1;32m   3674\u001b[0m \u001b[38;5;124;03m    >>> idx2 = pd.Index([2, 3, 4, 5])\u001b[39;00m\n\u001b[1;32m   3675\u001b[0m \u001b[38;5;124;03m    >>> idx1.symmetric_difference(idx2)\u001b[39;00m\n\u001b[1;32m   3676\u001b[0m \u001b[38;5;124;03m    Int64Index([1, 5], dtype='int64')\u001b[39;00m\n\u001b[1;32m   3677\u001b[0m \u001b[38;5;124;03m    \"\"\"\u001b[39;00m\n\u001b[1;32m   3678\u001b[0m     \u001b[38;5;28mself\u001b[39m\u001b[38;5;241m.\u001b[39m_validate_sort_keyword(sort)\n",
      "File \u001b[0;32m/opt/conda/lib/python3.10/site-packages/pandas/_libs/index.pyx:147\u001b[0m, in \u001b[0;36mpandas._libs.index.IndexEngine.get_loc\u001b[0;34m()\u001b[0m\n",
      "File \u001b[0;32m/opt/conda/lib/python3.10/site-packages/pandas/_libs/index.pyx:176\u001b[0m, in \u001b[0;36mpandas._libs.index.IndexEngine.get_loc\u001b[0;34m()\u001b[0m\n",
      "File \u001b[0;32mpandas/_libs/hashtable_class_helper.pxi:7080\u001b[0m, in \u001b[0;36mpandas._libs.hashtable.PyObjectHashTable.get_item\u001b[0;34m()\u001b[0m\n",
      "File \u001b[0;32mpandas/_libs/hashtable_class_helper.pxi:7088\u001b[0m, in \u001b[0;36mpandas._libs.hashtable.PyObjectHashTable.get_item\u001b[0;34m()\u001b[0m\n",
      "\u001b[0;31mKeyError\u001b[0m: 'datetime_column'",
      "\nThe above exception was the direct cause of the following exception:\n",
      "\u001b[0;31mKeyError\u001b[0m                                  Traceback (most recent call last)",
      "Cell \u001b[0;32mIn[42], line 4\u001b[0m\n\u001b[1;32m      1\u001b[0m \u001b[38;5;28;01mimport\u001b[39;00m \u001b[38;5;21;01mmatplotlib\u001b[39;00m\u001b[38;5;21;01m.\u001b[39;00m\u001b[38;5;21;01mpyplot\u001b[39;00m \u001b[38;5;28;01mas\u001b[39;00m \u001b[38;5;21;01mplt\u001b[39;00m\n\u001b[1;32m      3\u001b[0m \u001b[38;5;66;03m# Assuming 'datetime_column' is the name of your datetime column\u001b[39;00m\n\u001b[0;32m----> 4\u001b[0m predictions[\u001b[38;5;124m'\u001b[39m\u001b[38;5;124mdatetime_column\u001b[39m\u001b[38;5;124m'\u001b[39m] \u001b[38;5;241m=\u001b[39m pd\u001b[38;5;241m.\u001b[39mto_datetime(\u001b[43mpredictions\u001b[49m\u001b[43m[\u001b[49m\u001b[38;5;124;43m'\u001b[39;49m\u001b[38;5;124;43mdatetime_column\u001b[39;49m\u001b[38;5;124;43m'\u001b[39;49m\u001b[43m]\u001b[49m)\n\u001b[1;32m      6\u001b[0m \u001b[38;5;66;03m# Assuming 'electricity_usage' and 'prediction_label' are numerical columns\u001b[39;00m\n\u001b[1;32m      7\u001b[0m predictions[[\u001b[38;5;124m'\u001b[39m\u001b[38;5;124melectricity_usage\u001b[39m\u001b[38;5;124m'\u001b[39m, \u001b[38;5;124m'\u001b[39m\u001b[38;5;124mprediction_label\u001b[39m\u001b[38;5;124m'\u001b[39m]] \u001b[38;5;241m=\u001b[39m predictions[[\u001b[38;5;124m'\u001b[39m\u001b[38;5;124melectricity_usage\u001b[39m\u001b[38;5;124m'\u001b[39m, \u001b[38;5;124m'\u001b[39m\u001b[38;5;124mprediction_label\u001b[39m\u001b[38;5;124m'\u001b[39m]]\u001b[38;5;241m.\u001b[39mastype(\u001b[38;5;28mfloat\u001b[39m)\n",
      "File \u001b[0;32m/opt/conda/lib/python3.10/site-packages/pandas/core/frame.py:3761\u001b[0m, in \u001b[0;36m__getitem__\u001b[0;34m(self, key)\u001b[0m\n\u001b[1;32m   3759\u001b[0m check_deprecated_indexers(key)\n\u001b[1;32m   3760\u001b[0m key \u001b[38;5;241m=\u001b[39m lib\u001b[38;5;241m.\u001b[39mitem_from_zerodim(key)\n\u001b[0;32m-> 3761\u001b[0m key \u001b[38;5;241m=\u001b[39m com\u001b[38;5;241m.\u001b[39mapply_if_callable(key, \u001b[38;5;28mself\u001b[39m)\n\u001b[1;32m   3763\u001b[0m \u001b[38;5;28;01mif\u001b[39;00m is_hashable(key) \u001b[38;5;129;01mand\u001b[39;00m \u001b[38;5;129;01mnot\u001b[39;00m is_iterator(key):\n\u001b[1;32m   3764\u001b[0m     \u001b[38;5;66;03m# is_iterator to exclude generator e.g. test_getitem_listlike\u001b[39;00m\n\u001b[1;32m   3765\u001b[0m     \u001b[38;5;66;03m# shortcut if the key is in columns\u001b[39;00m\n\u001b[1;32m   3766\u001b[0m     is_mi \u001b[38;5;241m=\u001b[39m \u001b[38;5;28misinstance\u001b[39m(\u001b[38;5;28mself\u001b[39m\u001b[38;5;241m.\u001b[39mcolumns, MultiIndex)\n",
      "File \u001b[0;32m/opt/conda/lib/python3.10/site-packages/pandas/core/indexes/base.py:3655\u001b[0m, in \u001b[0;36mget_loc\u001b[0;34m(self, key)\u001b[0m\n\u001b[1;32m   3643\u001b[0m \u001b[38;5;28;01mdef\u001b[39;00m \u001b[38;5;21msymmetric_difference\u001b[39m(\u001b[38;5;28mself\u001b[39m, other, result_name\u001b[38;5;241m=\u001b[39m\u001b[38;5;28;01mNone\u001b[39;00m, sort\u001b[38;5;241m=\u001b[39m\u001b[38;5;28;01mNone\u001b[39;00m):\n\u001b[1;32m   3644\u001b[0m \u001b[38;5;250m    \u001b[39m\u001b[38;5;124;03m\"\"\"\u001b[39;00m\n\u001b[1;32m   3645\u001b[0m \u001b[38;5;124;03m    Compute the symmetric difference of two Index objects.\u001b[39;00m\n\u001b[1;32m   3646\u001b[0m \n\u001b[1;32m   3647\u001b[0m \u001b[38;5;124;03m    Parameters\u001b[39;00m\n\u001b[1;32m   3648\u001b[0m \u001b[38;5;124;03m    ----------\u001b[39;00m\n\u001b[1;32m   3649\u001b[0m \u001b[38;5;124;03m    other : Index or array-like\u001b[39;00m\n\u001b[1;32m   3650\u001b[0m \u001b[38;5;124;03m    result_name : str\u001b[39;00m\n\u001b[1;32m   3651\u001b[0m \u001b[38;5;124;03m    sort : False or None, default None\u001b[39;00m\n\u001b[1;32m   3652\u001b[0m \u001b[38;5;124;03m        Whether to sort the resulting index. By default, the\u001b[39;00m\n\u001b[1;32m   3653\u001b[0m \u001b[38;5;124;03m        values are attempted to be sorted, but any TypeError from\u001b[39;00m\n\u001b[1;32m   3654\u001b[0m \u001b[38;5;124;03m        incomparable elements is caught by pandas.\u001b[39;00m\n\u001b[0;32m-> 3655\u001b[0m \n\u001b[1;32m   3656\u001b[0m \u001b[38;5;124;03m        * None : Attempt to sort the result, but catch any TypeErrors\u001b[39;00m\n\u001b[1;32m   3657\u001b[0m \u001b[38;5;124;03m          from comparing incomparable elements.\u001b[39;00m\n\u001b[1;32m   3658\u001b[0m \u001b[38;5;124;03m        * False : Do not sort the result.\u001b[39;00m\n\u001b[1;32m   3659\u001b[0m \n\u001b[1;32m   3660\u001b[0m \u001b[38;5;124;03m    Returns\u001b[39;00m\n\u001b[1;32m   3661\u001b[0m \u001b[38;5;124;03m    -------\u001b[39;00m\n\u001b[1;32m   3662\u001b[0m \u001b[38;5;124;03m    symmetric_difference : Index\u001b[39;00m\n\u001b[1;32m   3663\u001b[0m \n\u001b[1;32m   3664\u001b[0m \u001b[38;5;124;03m    Notes\u001b[39;00m\n\u001b[1;32m   3665\u001b[0m \u001b[38;5;124;03m    -----\u001b[39;00m\n\u001b[1;32m   3666\u001b[0m \u001b[38;5;124;03m    ``symmetric_difference`` contains elements that appear in either\u001b[39;00m\n\u001b[1;32m   3667\u001b[0m \u001b[38;5;124;03m    ``idx1`` or ``idx2`` but not both. Equivalent to the Index created by\u001b[39;00m\n\u001b[1;32m   3668\u001b[0m \u001b[38;5;124;03m    ``idx1.difference(idx2) | idx2.difference(idx1)`` with duplicates\u001b[39;00m\n\u001b[1;32m   3669\u001b[0m \u001b[38;5;124;03m    dropped.\u001b[39;00m\n\u001b[1;32m   3670\u001b[0m \n\u001b[1;32m   3671\u001b[0m \u001b[38;5;124;03m    Examples\u001b[39;00m\n\u001b[1;32m   3672\u001b[0m \u001b[38;5;124;03m    --------\u001b[39;00m\n\u001b[1;32m   3673\u001b[0m \u001b[38;5;124;03m    >>> idx1 = pd.Index([1, 2, 3, 4])\u001b[39;00m\n\u001b[1;32m   3674\u001b[0m \u001b[38;5;124;03m    >>> idx2 = pd.Index([2, 3, 4, 5])\u001b[39;00m\n\u001b[1;32m   3675\u001b[0m \u001b[38;5;124;03m    >>> idx1.symmetric_difference(idx2)\u001b[39;00m\n\u001b[1;32m   3676\u001b[0m \u001b[38;5;124;03m    Int64Index([1, 5], dtype='int64')\u001b[39;00m\n\u001b[1;32m   3677\u001b[0m \u001b[38;5;124;03m    \"\"\"\u001b[39;00m\n\u001b[1;32m   3678\u001b[0m     \u001b[38;5;28mself\u001b[39m\u001b[38;5;241m.\u001b[39m_validate_sort_keyword(sort)\n\u001b[1;32m   3679\u001b[0m     \u001b[38;5;28mself\u001b[39m\u001b[38;5;241m.\u001b[39m_assert_can_do_setop(other)\n",
      "\u001b[0;31mKeyError\u001b[0m: 'datetime_column'"
     ]
    }
   ],
   "source": [
    "import matplotlib.pyplot as plt\n",
    "\n",
    "# Assuming 'datetime_column' is the name of your datetime column\n",
    "predictions['datetime_column'] = pd.to_datetime(predictions['datetime_column'])\n",
    "\n",
    "# Assuming 'electricity_usage' and 'prediction_label' are numerical columns\n",
    "predictions[['electricity_usage', 'prediction_label']] = predictions[['electricity_usage', 'prediction_label']].astype(float)\n",
    "\n",
    "# Now, you can use the plot method\n",
    "predictions.plot(x='datetime_column', y=['electricity_usage', 'prediction_label'])\n",
    "plt.show()\n"
   ]
  },
  {
   "cell_type": "code",
   "execution_count": 41,
   "id": "fa49116f-f5d4-456e-9c99-e1758379e072",
   "metadata": {
    "tags": []
   },
   "outputs": [
    {
     "ename": "AttributeError",
     "evalue": "'DataFrame' object has no attribute '_convert'",
     "output_type": "error",
     "traceback": [
      "\u001b[0;31m---------------------------------------------------------------------------\u001b[0m",
      "\u001b[0;31mAttributeError\u001b[0m                            Traceback (most recent call last)",
      "\u001b[0;32m/var/tmp/ipykernel_3215/4112693941.py\u001b[0m in \u001b[0;36m?\u001b[0;34m()\u001b[0m\n\u001b[1;32m      1\u001b[0m \u001b[0;32mimport\u001b[0m \u001b[0mmatplotlib\u001b[0m\u001b[0;34m.\u001b[0m\u001b[0mpyplot\u001b[0m \u001b[0;32mas\u001b[0m \u001b[0mplt\u001b[0m\u001b[0;34m\u001b[0m\u001b[0;34m\u001b[0m\u001b[0m\n\u001b[1;32m      2\u001b[0m \u001b[0;34m\u001b[0m\u001b[0m\n\u001b[0;32m----> 3\u001b[0;31m \u001b[0mpredictions\u001b[0m\u001b[0;34m.\u001b[0m\u001b[0mplot\u001b[0m\u001b[0;34m(\u001b[0m\u001b[0mx\u001b[0m\u001b[0;34m=\u001b[0m \u001b[0mx_columns\u001b[0m\u001b[0;34m,\u001b[0m \u001b[0my\u001b[0m\u001b[0;34m=\u001b[0m\u001b[0;34m[\u001b[0m\u001b[0;34m'electricity_usage'\u001b[0m\u001b[0;34m,\u001b[0m \u001b[0;34m'prediction_label'\u001b[0m\u001b[0;34m]\u001b[0m\u001b[0;34m)\u001b[0m\u001b[0;34m\u001b[0m\u001b[0;34m\u001b[0m\u001b[0m\n\u001b[0m\u001b[1;32m      4\u001b[0m \u001b[0mplt\u001b[0m\u001b[0;34m.\u001b[0m\u001b[0mshow\u001b[0m\u001b[0;34m(\u001b[0m\u001b[0;34m)\u001b[0m\u001b[0;34m\u001b[0m\u001b[0;34m\u001b[0m\u001b[0m\n",
      "\u001b[0;32m/opt/conda/lib/python3.10/site-packages/pandas/plotting/_core.py\u001b[0m in \u001b[0;36m?\u001b[0;34m(self, *args, **kwargs)\u001b[0m\n\u001b[1;32m    971\u001b[0m             warnings.warn(\n\u001b[1;32m    972\u001b[0m                 \u001b[0;34m\"`sort_columns` is deprecated and will be removed in a future \"\u001b[0m\u001b[0;34m\u001b[0m\u001b[0;34m\u001b[0m\u001b[0m\n\u001b[1;32m    973\u001b[0m                 \u001b[0;34m\"version.\"\u001b[0m\u001b[0;34m,\u001b[0m\u001b[0;34m\u001b[0m\u001b[0;34m\u001b[0m\u001b[0m\n\u001b[1;32m    974\u001b[0m                 \u001b[0mFutureWarning\u001b[0m\u001b[0;34m,\u001b[0m\u001b[0;34m\u001b[0m\u001b[0;34m\u001b[0m\u001b[0m\n\u001b[0;32m--> 975\u001b[0;31m                 \u001b[0mstacklevel\u001b[0m\u001b[0;34m=\u001b[0m\u001b[0mfind_stack_level\u001b[0m\u001b[0;34m(\u001b[0m\u001b[0;34m)\u001b[0m\u001b[0;34m,\u001b[0m\u001b[0;34m\u001b[0m\u001b[0;34m\u001b[0m\u001b[0m\n\u001b[0m\u001b[1;32m    976\u001b[0m             )\n\u001b[1;32m    977\u001b[0m \u001b[0;34m\u001b[0m\u001b[0m\n\u001b[1;32m    978\u001b[0m         \u001b[0;32mif\u001b[0m \u001b[0margs\u001b[0m \u001b[0;32mand\u001b[0m \u001b[0misinstance\u001b[0m\u001b[0;34m(\u001b[0m\u001b[0mdata\u001b[0m\u001b[0;34m,\u001b[0m \u001b[0mABCSeries\u001b[0m\u001b[0;34m)\u001b[0m\u001b[0;34m:\u001b[0m\u001b[0;34m\u001b[0m\u001b[0;34m\u001b[0m\u001b[0m\n",
      "\u001b[0;32m/opt/conda/lib/python3.10/site-packages/pandas/plotting/_matplotlib/__init__.py\u001b[0m in \u001b[0;36m?\u001b[0;34m(data, kind, **kwargs)\u001b[0m\n\u001b[1;32m     67\u001b[0m             \u001b[0;32mwith\u001b[0m \u001b[0mplt\u001b[0m\u001b[0;34m.\u001b[0m\u001b[0mrc_context\u001b[0m\u001b[0;34m(\u001b[0m\u001b[0;34m)\u001b[0m\u001b[0;34m:\u001b[0m\u001b[0;34m\u001b[0m\u001b[0;34m\u001b[0m\u001b[0m\n\u001b[1;32m     68\u001b[0m                 \u001b[0max\u001b[0m \u001b[0;34m=\u001b[0m \u001b[0mplt\u001b[0m\u001b[0;34m.\u001b[0m\u001b[0mgca\u001b[0m\u001b[0;34m(\u001b[0m\u001b[0;34m)\u001b[0m\u001b[0;34m\u001b[0m\u001b[0;34m\u001b[0m\u001b[0m\n\u001b[1;32m     69\u001b[0m             \u001b[0mkwargs\u001b[0m\u001b[0;34m[\u001b[0m\u001b[0;34m\"ax\"\u001b[0m\u001b[0;34m]\u001b[0m \u001b[0;34m=\u001b[0m \u001b[0mgetattr\u001b[0m\u001b[0;34m(\u001b[0m\u001b[0max\u001b[0m\u001b[0;34m,\u001b[0m \u001b[0;34m\"left_ax\"\u001b[0m\u001b[0;34m,\u001b[0m \u001b[0max\u001b[0m\u001b[0;34m)\u001b[0m\u001b[0;34m\u001b[0m\u001b[0;34m\u001b[0m\u001b[0m\n\u001b[1;32m     70\u001b[0m     \u001b[0mplot_obj\u001b[0m \u001b[0;34m=\u001b[0m \u001b[0mPLOT_CLASSES\u001b[0m\u001b[0;34m[\u001b[0m\u001b[0mkind\u001b[0m\u001b[0;34m]\u001b[0m\u001b[0;34m(\u001b[0m\u001b[0mdata\u001b[0m\u001b[0;34m,\u001b[0m \u001b[0;34m**\u001b[0m\u001b[0mkwargs\u001b[0m\u001b[0;34m)\u001b[0m\u001b[0;34m\u001b[0m\u001b[0;34m\u001b[0m\u001b[0m\n\u001b[0;32m---> 71\u001b[0;31m     \u001b[0mplot_obj\u001b[0m\u001b[0;34m.\u001b[0m\u001b[0mgenerate\u001b[0m\u001b[0;34m(\u001b[0m\u001b[0;34m)\u001b[0m\u001b[0;34m\u001b[0m\u001b[0;34m\u001b[0m\u001b[0m\n\u001b[0m\u001b[1;32m     72\u001b[0m     \u001b[0mplot_obj\u001b[0m\u001b[0;34m.\u001b[0m\u001b[0mdraw\u001b[0m\u001b[0;34m(\u001b[0m\u001b[0;34m)\u001b[0m\u001b[0;34m\u001b[0m\u001b[0;34m\u001b[0m\u001b[0m\n\u001b[1;32m     73\u001b[0m     \u001b[0;32mreturn\u001b[0m \u001b[0mplot_obj\u001b[0m\u001b[0;34m.\u001b[0m\u001b[0mresult\u001b[0m\u001b[0;34m\u001b[0m\u001b[0;34m\u001b[0m\u001b[0m\n",
      "\u001b[0;32m/opt/conda/lib/python3.10/site-packages/pandas/plotting/_matplotlib/core.py\u001b[0m in \u001b[0;36m?\u001b[0;34m(self)\u001b[0m\n\u001b[1;32m    448\u001b[0m     \u001b[0;32mdef\u001b[0m \u001b[0mgenerate\u001b[0m\u001b[0;34m(\u001b[0m\u001b[0mself\u001b[0m\u001b[0;34m)\u001b[0m \u001b[0;34m->\u001b[0m \u001b[0;32mNone\u001b[0m\u001b[0;34m:\u001b[0m\u001b[0;34m\u001b[0m\u001b[0;34m\u001b[0m\u001b[0m\n\u001b[1;32m    449\u001b[0m         \u001b[0mself\u001b[0m\u001b[0;34m.\u001b[0m\u001b[0m_args_adjust\u001b[0m\u001b[0;34m(\u001b[0m\u001b[0;34m)\u001b[0m\u001b[0;34m\u001b[0m\u001b[0;34m\u001b[0m\u001b[0m\n\u001b[0;32m--> 450\u001b[0;31m         \u001b[0mself\u001b[0m\u001b[0;34m.\u001b[0m\u001b[0m_compute_plot_data\u001b[0m\u001b[0;34m(\u001b[0m\u001b[0;34m)\u001b[0m\u001b[0;34m\u001b[0m\u001b[0;34m\u001b[0m\u001b[0m\n\u001b[0m\u001b[1;32m    451\u001b[0m         \u001b[0mself\u001b[0m\u001b[0;34m.\u001b[0m\u001b[0m_setup_subplots\u001b[0m\u001b[0;34m(\u001b[0m\u001b[0;34m)\u001b[0m\u001b[0;34m\u001b[0m\u001b[0;34m\u001b[0m\u001b[0m\n\u001b[1;32m    452\u001b[0m         \u001b[0mself\u001b[0m\u001b[0;34m.\u001b[0m\u001b[0m_make_plot\u001b[0m\u001b[0;34m(\u001b[0m\u001b[0;34m)\u001b[0m\u001b[0;34m\u001b[0m\u001b[0;34m\u001b[0m\u001b[0m\n\u001b[1;32m    453\u001b[0m         \u001b[0mself\u001b[0m\u001b[0;34m.\u001b[0m\u001b[0m_add_table\u001b[0m\u001b[0;34m(\u001b[0m\u001b[0;34m)\u001b[0m\u001b[0;34m\u001b[0m\u001b[0;34m\u001b[0m\u001b[0m\n",
      "\u001b[0;32m/opt/conda/lib/python3.10/site-packages/pandas/plotting/_matplotlib/core.py\u001b[0m in \u001b[0;36m?\u001b[0;34m(self)\u001b[0m\n\u001b[1;32m    604\u001b[0m             \u001b[0mdata\u001b[0m \u001b[0;34m=\u001b[0m \u001b[0mreconstruct_data_with_by\u001b[0m\u001b[0;34m(\u001b[0m\u001b[0mself\u001b[0m\u001b[0;34m.\u001b[0m\u001b[0mdata\u001b[0m\u001b[0;34m,\u001b[0m \u001b[0mby\u001b[0m\u001b[0;34m=\u001b[0m\u001b[0mself\u001b[0m\u001b[0;34m.\u001b[0m\u001b[0mby\u001b[0m\u001b[0;34m,\u001b[0m \u001b[0mcols\u001b[0m\u001b[0;34m=\u001b[0m\u001b[0mself\u001b[0m\u001b[0;34m.\u001b[0m\u001b[0mcolumns\u001b[0m\u001b[0;34m)\u001b[0m\u001b[0;34m\u001b[0m\u001b[0;34m\u001b[0m\u001b[0m\n\u001b[1;32m    605\u001b[0m \u001b[0;34m\u001b[0m\u001b[0m\n\u001b[1;32m    606\u001b[0m         \u001b[0;31m# GH16953, _convert is needed as fallback, for ``Series``\u001b[0m\u001b[0;34m\u001b[0m\u001b[0;34m\u001b[0m\u001b[0m\n\u001b[1;32m    607\u001b[0m         \u001b[0;31m# with ``dtype == object``\u001b[0m\u001b[0;34m\u001b[0m\u001b[0;34m\u001b[0m\u001b[0m\n\u001b[0;32m--> 608\u001b[0;31m         \u001b[0mdata\u001b[0m \u001b[0;34m=\u001b[0m \u001b[0mdata\u001b[0m\u001b[0;34m.\u001b[0m\u001b[0m_convert\u001b[0m\u001b[0;34m(\u001b[0m\u001b[0mdatetime\u001b[0m\u001b[0;34m=\u001b[0m\u001b[0;32mTrue\u001b[0m\u001b[0;34m,\u001b[0m \u001b[0mtimedelta\u001b[0m\u001b[0;34m=\u001b[0m\u001b[0;32mTrue\u001b[0m\u001b[0;34m)\u001b[0m\u001b[0;34m\u001b[0m\u001b[0;34m\u001b[0m\u001b[0m\n\u001b[0m\u001b[1;32m    609\u001b[0m         \u001b[0minclude_type\u001b[0m \u001b[0;34m=\u001b[0m \u001b[0;34m[\u001b[0m\u001b[0mnp\u001b[0m\u001b[0;34m.\u001b[0m\u001b[0mnumber\u001b[0m\u001b[0;34m,\u001b[0m \u001b[0;34m\"datetime\"\u001b[0m\u001b[0;34m,\u001b[0m \u001b[0;34m\"datetimetz\"\u001b[0m\u001b[0;34m,\u001b[0m \u001b[0;34m\"timedelta\"\u001b[0m\u001b[0;34m]\u001b[0m\u001b[0;34m\u001b[0m\u001b[0;34m\u001b[0m\u001b[0m\n\u001b[1;32m    610\u001b[0m \u001b[0;34m\u001b[0m\u001b[0m\n\u001b[1;32m    611\u001b[0m         \u001b[0;31m# GH23719, allow plotting boolean\u001b[0m\u001b[0;34m\u001b[0m\u001b[0;34m\u001b[0m\u001b[0m\n",
      "\u001b[0;32m/opt/conda/lib/python3.10/site-packages/pandas/core/generic.py\u001b[0m in \u001b[0;36m?\u001b[0;34m(self, name)\u001b[0m\n",
      "\u001b[0;31mAttributeError\u001b[0m: 'DataFrame' object has no attribute '_convert'"
     ]
    }
   ],
   "source": [
    "import matplotlib.pyplot as plt\n",
    "\n",
    "predictions.plot(x= x_columns, y=['electricity_usage', 'prediction_label'])\n",
    "plt.show()"
   ]
  },
  {
   "cell_type": "code",
   "execution_count": null,
   "id": "ede755a8-8480-4803-a8a5-8c9a6a19d085",
   "metadata": {},
   "outputs": [],
   "source": []
  }
 ],
 "metadata": {
  "environment": {
   "kernel": "conda-root-py",
   "name": "workbench-notebooks.m113",
   "type": "gcloud",
   "uri": "gcr.io/deeplearning-platform-release/workbench-notebooks:m113"
  },
  "kernelspec": {
   "display_name": "Python 3 (ipykernel) (Local)",
   "language": "python",
   "name": "conda-root-py"
  },
  "language_info": {
   "codemirror_mode": {
    "name": "ipython",
    "version": 3
   },
   "file_extension": ".py",
   "mimetype": "text/x-python",
   "name": "python",
   "nbconvert_exporter": "python",
   "pygments_lexer": "ipython3",
   "version": "3.10.13"
  }
 },
 "nbformat": 4,
 "nbformat_minor": 5
}
